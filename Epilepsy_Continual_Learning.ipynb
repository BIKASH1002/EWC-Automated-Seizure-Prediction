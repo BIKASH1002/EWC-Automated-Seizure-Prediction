{
  "cells": [
    {
      "cell_type": "code",
      "source": [
        "from google.colab import drive\n",
        "drive.mount('/content/drive')"
      ],
      "metadata": {
        "colab": {
          "base_uri": "https://localhost:8080/"
        },
        "id": "Jdxgtletfxhr",
        "outputId": "a630d24f-46b5-4840-a9fe-4c3c6446409c"
      },
      "execution_count": null,
      "outputs": [
        {
          "output_type": "stream",
          "name": "stdout",
          "text": [
            "Mounted at /content/drive\n"
          ]
        }
      ]
    },
    {
      "cell_type": "markdown",
      "metadata": {
        "id": "XNrd1lpMr0ux"
      },
      "source": [
        "# **Importing Required Libraries**"
      ]
    },
    {
      "cell_type": "code",
      "execution_count": null,
      "metadata": {
        "id": "RabyOoV6r4mJ"
      },
      "outputs": [],
      "source": [
        "import numpy as np\n",
        "import pandas as pd\n",
        "from sklearn.model_selection import train_test_split\n",
        "from sklearn.metrics import confusion_matrix\n",
        "from sklearn.metrics import classification_report\n",
        "import matplotlib.pyplot as plt\n",
        "from sklearn.metrics import accuracy_score\n",
        "from sklearn.metrics import  recall_score\n",
        "from sklearn.metrics import precision_score\n",
        "from sklearn.metrics import f1_score\n",
        "from sklearn.metrics import f1_score\n",
        "import tensorflow as tf\n",
        "from keras.models import Sequential\n",
        "from keras.layers import Dense\n",
        "from tensorflow.keras import layers, models\n",
        "from tensorflow.keras.models import Sequential\n",
        "from tensorflow.keras.layers import Flatten, Dense"
      ]
    },
    {
      "cell_type": "markdown",
      "metadata": {
        "id": "TrYD5MHaLrqg"
      },
      "source": [
        "# **Importing UCI EEG dataset**"
      ]
    },
    {
      "cell_type": "code",
      "execution_count": null,
      "metadata": {
        "id": "6CizuCNkthJY"
      },
      "outputs": [],
      "source": [
        "Data1 = pd.read_csv(\"/content/drive/MyDrive/EEG_Dataset-1.csv\")\n",
        "Data2 = pd.read_csv(\"/content/drive/MyDrive/EEG_Dataset-2.csv\")"
      ]
    },
    {
      "cell_type": "code",
      "execution_count": null,
      "metadata": {
        "colab": {
          "base_uri": "https://localhost:8080/",
          "height": 236
        },
        "id": "JrLMBqd4MIvl",
        "outputId": "722657e7-7926-4e5f-90d3-7b4b2e33fe7b"
      },
      "outputs": [
        {
          "output_type": "execute_result",
          "data": {
            "text/plain": [
              "      Unnamed   X1   X2   X3   X4   X5   X6   X7   X8   X9  ...  X170  X171  \\\n",
              "0  X21.V1.791  135  190  229  223  192  125   55   -9  -33  ...   -17   -15   \n",
              "1  X15.V1.924  386  382  356  331  320  315  307  272  244  ...   164   150   \n",
              "2     X8.V1.1  -32  -39  -47  -37  -32  -36  -57  -73  -85  ...    57    64   \n",
              "3   X16.V1.60 -105 -101  -96  -92  -89  -95 -102 -100  -87  ...   -82   -81   \n",
              "4   X20.V1.54   -9  -65  -98 -102  -78  -48  -16    0  -21  ...     4     2   \n",
              "\n",
              "   X172  X173  X174  X175  X176  X177  X178  y  \n",
              "0   -31   -77  -103  -127  -116   -83   -51  4  \n",
              "1   146   152   157   156   154   143   129  1  \n",
              "2    48    19   -12   -30   -35   -35   -36  5  \n",
              "3   -80   -77   -85   -77   -72   -69   -65  5  \n",
              "4   -12   -32   -41   -65   -83   -89   -73  5  \n",
              "\n",
              "[5 rows x 180 columns]"
            ],
            "text/html": [
              "\n",
              "  <div id=\"df-a9ce9d79-75cc-45a3-afc6-9126db4f207c\" class=\"colab-df-container\">\n",
              "    <div>\n",
              "<style scoped>\n",
              "    .dataframe tbody tr th:only-of-type {\n",
              "        vertical-align: middle;\n",
              "    }\n",
              "\n",
              "    .dataframe tbody tr th {\n",
              "        vertical-align: top;\n",
              "    }\n",
              "\n",
              "    .dataframe thead th {\n",
              "        text-align: right;\n",
              "    }\n",
              "</style>\n",
              "<table border=\"1\" class=\"dataframe\">\n",
              "  <thead>\n",
              "    <tr style=\"text-align: right;\">\n",
              "      <th></th>\n",
              "      <th>Unnamed</th>\n",
              "      <th>X1</th>\n",
              "      <th>X2</th>\n",
              "      <th>X3</th>\n",
              "      <th>X4</th>\n",
              "      <th>X5</th>\n",
              "      <th>X6</th>\n",
              "      <th>X7</th>\n",
              "      <th>X8</th>\n",
              "      <th>X9</th>\n",
              "      <th>...</th>\n",
              "      <th>X170</th>\n",
              "      <th>X171</th>\n",
              "      <th>X172</th>\n",
              "      <th>X173</th>\n",
              "      <th>X174</th>\n",
              "      <th>X175</th>\n",
              "      <th>X176</th>\n",
              "      <th>X177</th>\n",
              "      <th>X178</th>\n",
              "      <th>y</th>\n",
              "    </tr>\n",
              "  </thead>\n",
              "  <tbody>\n",
              "    <tr>\n",
              "      <th>0</th>\n",
              "      <td>X21.V1.791</td>\n",
              "      <td>135</td>\n",
              "      <td>190</td>\n",
              "      <td>229</td>\n",
              "      <td>223</td>\n",
              "      <td>192</td>\n",
              "      <td>125</td>\n",
              "      <td>55</td>\n",
              "      <td>-9</td>\n",
              "      <td>-33</td>\n",
              "      <td>...</td>\n",
              "      <td>-17</td>\n",
              "      <td>-15</td>\n",
              "      <td>-31</td>\n",
              "      <td>-77</td>\n",
              "      <td>-103</td>\n",
              "      <td>-127</td>\n",
              "      <td>-116</td>\n",
              "      <td>-83</td>\n",
              "      <td>-51</td>\n",
              "      <td>4</td>\n",
              "    </tr>\n",
              "    <tr>\n",
              "      <th>1</th>\n",
              "      <td>X15.V1.924</td>\n",
              "      <td>386</td>\n",
              "      <td>382</td>\n",
              "      <td>356</td>\n",
              "      <td>331</td>\n",
              "      <td>320</td>\n",
              "      <td>315</td>\n",
              "      <td>307</td>\n",
              "      <td>272</td>\n",
              "      <td>244</td>\n",
              "      <td>...</td>\n",
              "      <td>164</td>\n",
              "      <td>150</td>\n",
              "      <td>146</td>\n",
              "      <td>152</td>\n",
              "      <td>157</td>\n",
              "      <td>156</td>\n",
              "      <td>154</td>\n",
              "      <td>143</td>\n",
              "      <td>129</td>\n",
              "      <td>1</td>\n",
              "    </tr>\n",
              "    <tr>\n",
              "      <th>2</th>\n",
              "      <td>X8.V1.1</td>\n",
              "      <td>-32</td>\n",
              "      <td>-39</td>\n",
              "      <td>-47</td>\n",
              "      <td>-37</td>\n",
              "      <td>-32</td>\n",
              "      <td>-36</td>\n",
              "      <td>-57</td>\n",
              "      <td>-73</td>\n",
              "      <td>-85</td>\n",
              "      <td>...</td>\n",
              "      <td>57</td>\n",
              "      <td>64</td>\n",
              "      <td>48</td>\n",
              "      <td>19</td>\n",
              "      <td>-12</td>\n",
              "      <td>-30</td>\n",
              "      <td>-35</td>\n",
              "      <td>-35</td>\n",
              "      <td>-36</td>\n",
              "      <td>5</td>\n",
              "    </tr>\n",
              "    <tr>\n",
              "      <th>3</th>\n",
              "      <td>X16.V1.60</td>\n",
              "      <td>-105</td>\n",
              "      <td>-101</td>\n",
              "      <td>-96</td>\n",
              "      <td>-92</td>\n",
              "      <td>-89</td>\n",
              "      <td>-95</td>\n",
              "      <td>-102</td>\n",
              "      <td>-100</td>\n",
              "      <td>-87</td>\n",
              "      <td>...</td>\n",
              "      <td>-82</td>\n",
              "      <td>-81</td>\n",
              "      <td>-80</td>\n",
              "      <td>-77</td>\n",
              "      <td>-85</td>\n",
              "      <td>-77</td>\n",
              "      <td>-72</td>\n",
              "      <td>-69</td>\n",
              "      <td>-65</td>\n",
              "      <td>5</td>\n",
              "    </tr>\n",
              "    <tr>\n",
              "      <th>4</th>\n",
              "      <td>X20.V1.54</td>\n",
              "      <td>-9</td>\n",
              "      <td>-65</td>\n",
              "      <td>-98</td>\n",
              "      <td>-102</td>\n",
              "      <td>-78</td>\n",
              "      <td>-48</td>\n",
              "      <td>-16</td>\n",
              "      <td>0</td>\n",
              "      <td>-21</td>\n",
              "      <td>...</td>\n",
              "      <td>4</td>\n",
              "      <td>2</td>\n",
              "      <td>-12</td>\n",
              "      <td>-32</td>\n",
              "      <td>-41</td>\n",
              "      <td>-65</td>\n",
              "      <td>-83</td>\n",
              "      <td>-89</td>\n",
              "      <td>-73</td>\n",
              "      <td>5</td>\n",
              "    </tr>\n",
              "  </tbody>\n",
              "</table>\n",
              "<p>5 rows × 180 columns</p>\n",
              "</div>\n",
              "    <div class=\"colab-df-buttons\">\n",
              "\n",
              "  <div class=\"colab-df-container\">\n",
              "    <button class=\"colab-df-convert\" onclick=\"convertToInteractive('df-a9ce9d79-75cc-45a3-afc6-9126db4f207c')\"\n",
              "            title=\"Convert this dataframe to an interactive table.\"\n",
              "            style=\"display:none;\">\n",
              "\n",
              "  <svg xmlns=\"http://www.w3.org/2000/svg\" height=\"24px\" viewBox=\"0 -960 960 960\">\n",
              "    <path d=\"M120-120v-720h720v720H120Zm60-500h600v-160H180v160Zm220 220h160v-160H400v160Zm0 220h160v-160H400v160ZM180-400h160v-160H180v160Zm440 0h160v-160H620v160ZM180-180h160v-160H180v160Zm440 0h160v-160H620v160Z\"/>\n",
              "  </svg>\n",
              "    </button>\n",
              "\n",
              "  <style>\n",
              "    .colab-df-container {\n",
              "      display:flex;\n",
              "      gap: 12px;\n",
              "    }\n",
              "\n",
              "    .colab-df-convert {\n",
              "      background-color: #E8F0FE;\n",
              "      border: none;\n",
              "      border-radius: 50%;\n",
              "      cursor: pointer;\n",
              "      display: none;\n",
              "      fill: #1967D2;\n",
              "      height: 32px;\n",
              "      padding: 0 0 0 0;\n",
              "      width: 32px;\n",
              "    }\n",
              "\n",
              "    .colab-df-convert:hover {\n",
              "      background-color: #E2EBFA;\n",
              "      box-shadow: 0px 1px 2px rgba(60, 64, 67, 0.3), 0px 1px 3px 1px rgba(60, 64, 67, 0.15);\n",
              "      fill: #174EA6;\n",
              "    }\n",
              "\n",
              "    .colab-df-buttons div {\n",
              "      margin-bottom: 4px;\n",
              "    }\n",
              "\n",
              "    [theme=dark] .colab-df-convert {\n",
              "      background-color: #3B4455;\n",
              "      fill: #D2E3FC;\n",
              "    }\n",
              "\n",
              "    [theme=dark] .colab-df-convert:hover {\n",
              "      background-color: #434B5C;\n",
              "      box-shadow: 0px 1px 3px 1px rgba(0, 0, 0, 0.15);\n",
              "      filter: drop-shadow(0px 1px 2px rgba(0, 0, 0, 0.3));\n",
              "      fill: #FFFFFF;\n",
              "    }\n",
              "  </style>\n",
              "\n",
              "    <script>\n",
              "      const buttonEl =\n",
              "        document.querySelector('#df-a9ce9d79-75cc-45a3-afc6-9126db4f207c button.colab-df-convert');\n",
              "      buttonEl.style.display =\n",
              "        google.colab.kernel.accessAllowed ? 'block' : 'none';\n",
              "\n",
              "      async function convertToInteractive(key) {\n",
              "        const element = document.querySelector('#df-a9ce9d79-75cc-45a3-afc6-9126db4f207c');\n",
              "        const dataTable =\n",
              "          await google.colab.kernel.invokeFunction('convertToInteractive',\n",
              "                                                    [key], {});\n",
              "        if (!dataTable) return;\n",
              "\n",
              "        const docLinkHtml = 'Like what you see? Visit the ' +\n",
              "          '<a target=\"_blank\" href=https://colab.research.google.com/notebooks/data_table.ipynb>data table notebook</a>'\n",
              "          + ' to learn more about interactive tables.';\n",
              "        element.innerHTML = '';\n",
              "        dataTable['output_type'] = 'display_data';\n",
              "        await google.colab.output.renderOutput(dataTable, element);\n",
              "        const docLink = document.createElement('div');\n",
              "        docLink.innerHTML = docLinkHtml;\n",
              "        element.appendChild(docLink);\n",
              "      }\n",
              "    </script>\n",
              "  </div>\n",
              "\n",
              "\n",
              "<div id=\"df-1b9f06ff-5149-40a8-a979-2d9f2809151e\">\n",
              "  <button class=\"colab-df-quickchart\" onclick=\"quickchart('df-1b9f06ff-5149-40a8-a979-2d9f2809151e')\"\n",
              "            title=\"Suggest charts\"\n",
              "            style=\"display:none;\">\n",
              "\n",
              "<svg xmlns=\"http://www.w3.org/2000/svg\" height=\"24px\"viewBox=\"0 0 24 24\"\n",
              "     width=\"24px\">\n",
              "    <g>\n",
              "        <path d=\"M19 3H5c-1.1 0-2 .9-2 2v14c0 1.1.9 2 2 2h14c1.1 0 2-.9 2-2V5c0-1.1-.9-2-2-2zM9 17H7v-7h2v7zm4 0h-2V7h2v10zm4 0h-2v-4h2v4z\"/>\n",
              "    </g>\n",
              "</svg>\n",
              "  </button>\n",
              "\n",
              "<style>\n",
              "  .colab-df-quickchart {\n",
              "      --bg-color: #E8F0FE;\n",
              "      --fill-color: #1967D2;\n",
              "      --hover-bg-color: #E2EBFA;\n",
              "      --hover-fill-color: #174EA6;\n",
              "      --disabled-fill-color: #AAA;\n",
              "      --disabled-bg-color: #DDD;\n",
              "  }\n",
              "\n",
              "  [theme=dark] .colab-df-quickchart {\n",
              "      --bg-color: #3B4455;\n",
              "      --fill-color: #D2E3FC;\n",
              "      --hover-bg-color: #434B5C;\n",
              "      --hover-fill-color: #FFFFFF;\n",
              "      --disabled-bg-color: #3B4455;\n",
              "      --disabled-fill-color: #666;\n",
              "  }\n",
              "\n",
              "  .colab-df-quickchart {\n",
              "    background-color: var(--bg-color);\n",
              "    border: none;\n",
              "    border-radius: 50%;\n",
              "    cursor: pointer;\n",
              "    display: none;\n",
              "    fill: var(--fill-color);\n",
              "    height: 32px;\n",
              "    padding: 0;\n",
              "    width: 32px;\n",
              "  }\n",
              "\n",
              "  .colab-df-quickchart:hover {\n",
              "    background-color: var(--hover-bg-color);\n",
              "    box-shadow: 0 1px 2px rgba(60, 64, 67, 0.3), 0 1px 3px 1px rgba(60, 64, 67, 0.15);\n",
              "    fill: var(--button-hover-fill-color);\n",
              "  }\n",
              "\n",
              "  .colab-df-quickchart-complete:disabled,\n",
              "  .colab-df-quickchart-complete:disabled:hover {\n",
              "    background-color: var(--disabled-bg-color);\n",
              "    fill: var(--disabled-fill-color);\n",
              "    box-shadow: none;\n",
              "  }\n",
              "\n",
              "  .colab-df-spinner {\n",
              "    border: 2px solid var(--fill-color);\n",
              "    border-color: transparent;\n",
              "    border-bottom-color: var(--fill-color);\n",
              "    animation:\n",
              "      spin 1s steps(1) infinite;\n",
              "  }\n",
              "\n",
              "  @keyframes spin {\n",
              "    0% {\n",
              "      border-color: transparent;\n",
              "      border-bottom-color: var(--fill-color);\n",
              "      border-left-color: var(--fill-color);\n",
              "    }\n",
              "    20% {\n",
              "      border-color: transparent;\n",
              "      border-left-color: var(--fill-color);\n",
              "      border-top-color: var(--fill-color);\n",
              "    }\n",
              "    30% {\n",
              "      border-color: transparent;\n",
              "      border-left-color: var(--fill-color);\n",
              "      border-top-color: var(--fill-color);\n",
              "      border-right-color: var(--fill-color);\n",
              "    }\n",
              "    40% {\n",
              "      border-color: transparent;\n",
              "      border-right-color: var(--fill-color);\n",
              "      border-top-color: var(--fill-color);\n",
              "    }\n",
              "    60% {\n",
              "      border-color: transparent;\n",
              "      border-right-color: var(--fill-color);\n",
              "    }\n",
              "    80% {\n",
              "      border-color: transparent;\n",
              "      border-right-color: var(--fill-color);\n",
              "      border-bottom-color: var(--fill-color);\n",
              "    }\n",
              "    90% {\n",
              "      border-color: transparent;\n",
              "      border-bottom-color: var(--fill-color);\n",
              "    }\n",
              "  }\n",
              "</style>\n",
              "\n",
              "  <script>\n",
              "    async function quickchart(key) {\n",
              "      const quickchartButtonEl =\n",
              "        document.querySelector('#' + key + ' button');\n",
              "      quickchartButtonEl.disabled = true;  // To prevent multiple clicks.\n",
              "      quickchartButtonEl.classList.add('colab-df-spinner');\n",
              "      try {\n",
              "        const charts = await google.colab.kernel.invokeFunction(\n",
              "            'suggestCharts', [key], {});\n",
              "      } catch (error) {\n",
              "        console.error('Error during call to suggestCharts:', error);\n",
              "      }\n",
              "      quickchartButtonEl.classList.remove('colab-df-spinner');\n",
              "      quickchartButtonEl.classList.add('colab-df-quickchart-complete');\n",
              "    }\n",
              "    (() => {\n",
              "      let quickchartButtonEl =\n",
              "        document.querySelector('#df-1b9f06ff-5149-40a8-a979-2d9f2809151e button');\n",
              "      quickchartButtonEl.style.display =\n",
              "        google.colab.kernel.accessAllowed ? 'block' : 'none';\n",
              "    })();\n",
              "  </script>\n",
              "</div>\n",
              "\n",
              "    </div>\n",
              "  </div>\n"
            ],
            "application/vnd.google.colaboratory.intrinsic+json": {
              "type": "dataframe",
              "variable_name": "Data1"
            }
          },
          "metadata": {},
          "execution_count": 4
        }
      ],
      "source": [
        "Data1.head()"
      ]
    },
    {
      "cell_type": "code",
      "execution_count": null,
      "metadata": {
        "colab": {
          "base_uri": "https://localhost:8080/",
          "height": 350
        },
        "id": "aHcWUFqHMKUz",
        "outputId": "0e60716f-e9a2-4c3b-a0fe-c16155154c1a"
      },
      "outputs": [
        {
          "output_type": "execute_result",
          "data": {
            "text/plain": [
              "                X1           X2           X3           X4           X5  \\\n",
              "count  5999.000000  5999.000000  5999.000000  5999.000000  5999.000000   \n",
              "mean     -9.846808    -9.453076    -9.762627   -10.219870   -10.541257   \n",
              "std     165.943754   166.722745   164.038366   160.989677   160.065449   \n",
              "min   -1741.000000 -1615.000000 -1741.000000 -1630.000000 -1755.000000   \n",
              "25%     -54.000000   -55.000000   -55.000000   -56.000000   -55.000000   \n",
              "50%      -8.000000    -8.000000    -8.000000    -8.000000    -9.000000   \n",
              "75%      35.000000    36.000000    36.000000    35.000000    34.000000   \n",
              "max    1291.000000  1356.000000  1274.000000  1167.000000  1244.000000   \n",
              "\n",
              "                X6           X7           X8           X9          X10  ...  \\\n",
              "count  5999.000000  5999.000000  5999.000000  5999.000000  5999.000000  ...   \n",
              "mean    -10.108851    -9.364894    -8.700783    -7.931489    -7.242374  ...   \n",
              "std     159.762113   158.927158   158.554358   156.956044   155.737648  ...   \n",
              "min   -1757.000000 -1832.000000 -1778.000000 -1840.000000 -1592.000000  ...   \n",
              "25%     -55.000000   -55.500000   -56.000000   -56.000000   -55.000000  ...   \n",
              "50%     -10.000000    -9.000000    -9.000000    -9.000000    -8.000000  ...   \n",
              "75%      34.000000    35.000000    35.000000    35.500000    35.000000  ...   \n",
              "max    1244.000000  1310.000000  1238.000000  1381.000000  1502.000000  ...   \n",
              "\n",
              "             X170         X171         X172         X173         X174  \\\n",
              "count  5999.00000  5999.000000  5999.000000  5999.000000  5999.000000   \n",
              "mean    -11.33939   -12.626604   -13.495249   -13.765794   -12.734122   \n",
              "std     162.97870   163.206928   165.263802   165.977664   166.489394   \n",
              "min   -1867.00000 -1865.000000 -1642.000000 -1723.000000 -1620.000000   \n",
              "25%     -54.00000   -55.000000   -56.000000   -57.000000   -56.000000   \n",
              "50%      -8.00000    -9.000000   -10.000000   -10.000000   -10.000000   \n",
              "75%      34.00000    33.000000    33.000000    34.000000    34.000000   \n",
              "max    1419.00000  1306.000000  1124.000000  1436.000000  1733.000000   \n",
              "\n",
              "              X175         X176         X177         X178            y  \n",
              "count  5999.000000  5999.000000  5999.000000  5999.000000  5999.000000  \n",
              "mean    -11.946658   -11.555426   -11.586931   -11.967161     2.996666  \n",
              "std     165.193110   164.091303   165.179994   168.104148     1.406881  \n",
              "min   -1642.000000 -1781.000000 -1727.000000 -1829.000000     1.000000  \n",
              "25%     -56.000000   -56.000000   -54.000000   -56.000000     2.000000  \n",
              "50%      -9.000000    -8.000000    -9.000000    -9.000000     3.000000  \n",
              "75%      34.000000    34.000000    35.000000    34.000000     4.000000  \n",
              "max    1958.000000  2047.000000  2047.000000  1915.000000     5.000000  \n",
              "\n",
              "[8 rows x 179 columns]"
            ],
            "text/html": [
              "\n",
              "  <div id=\"df-08ea18f4-19db-4098-84ff-08467b0c5290\" class=\"colab-df-container\">\n",
              "    <div>\n",
              "<style scoped>\n",
              "    .dataframe tbody tr th:only-of-type {\n",
              "        vertical-align: middle;\n",
              "    }\n",
              "\n",
              "    .dataframe tbody tr th {\n",
              "        vertical-align: top;\n",
              "    }\n",
              "\n",
              "    .dataframe thead th {\n",
              "        text-align: right;\n",
              "    }\n",
              "</style>\n",
              "<table border=\"1\" class=\"dataframe\">\n",
              "  <thead>\n",
              "    <tr style=\"text-align: right;\">\n",
              "      <th></th>\n",
              "      <th>X1</th>\n",
              "      <th>X2</th>\n",
              "      <th>X3</th>\n",
              "      <th>X4</th>\n",
              "      <th>X5</th>\n",
              "      <th>X6</th>\n",
              "      <th>X7</th>\n",
              "      <th>X8</th>\n",
              "      <th>X9</th>\n",
              "      <th>X10</th>\n",
              "      <th>...</th>\n",
              "      <th>X170</th>\n",
              "      <th>X171</th>\n",
              "      <th>X172</th>\n",
              "      <th>X173</th>\n",
              "      <th>X174</th>\n",
              "      <th>X175</th>\n",
              "      <th>X176</th>\n",
              "      <th>X177</th>\n",
              "      <th>X178</th>\n",
              "      <th>y</th>\n",
              "    </tr>\n",
              "  </thead>\n",
              "  <tbody>\n",
              "    <tr>\n",
              "      <th>count</th>\n",
              "      <td>5999.000000</td>\n",
              "      <td>5999.000000</td>\n",
              "      <td>5999.000000</td>\n",
              "      <td>5999.000000</td>\n",
              "      <td>5999.000000</td>\n",
              "      <td>5999.000000</td>\n",
              "      <td>5999.000000</td>\n",
              "      <td>5999.000000</td>\n",
              "      <td>5999.000000</td>\n",
              "      <td>5999.000000</td>\n",
              "      <td>...</td>\n",
              "      <td>5999.00000</td>\n",
              "      <td>5999.000000</td>\n",
              "      <td>5999.000000</td>\n",
              "      <td>5999.000000</td>\n",
              "      <td>5999.000000</td>\n",
              "      <td>5999.000000</td>\n",
              "      <td>5999.000000</td>\n",
              "      <td>5999.000000</td>\n",
              "      <td>5999.000000</td>\n",
              "      <td>5999.000000</td>\n",
              "    </tr>\n",
              "    <tr>\n",
              "      <th>mean</th>\n",
              "      <td>-9.846808</td>\n",
              "      <td>-9.453076</td>\n",
              "      <td>-9.762627</td>\n",
              "      <td>-10.219870</td>\n",
              "      <td>-10.541257</td>\n",
              "      <td>-10.108851</td>\n",
              "      <td>-9.364894</td>\n",
              "      <td>-8.700783</td>\n",
              "      <td>-7.931489</td>\n",
              "      <td>-7.242374</td>\n",
              "      <td>...</td>\n",
              "      <td>-11.33939</td>\n",
              "      <td>-12.626604</td>\n",
              "      <td>-13.495249</td>\n",
              "      <td>-13.765794</td>\n",
              "      <td>-12.734122</td>\n",
              "      <td>-11.946658</td>\n",
              "      <td>-11.555426</td>\n",
              "      <td>-11.586931</td>\n",
              "      <td>-11.967161</td>\n",
              "      <td>2.996666</td>\n",
              "    </tr>\n",
              "    <tr>\n",
              "      <th>std</th>\n",
              "      <td>165.943754</td>\n",
              "      <td>166.722745</td>\n",
              "      <td>164.038366</td>\n",
              "      <td>160.989677</td>\n",
              "      <td>160.065449</td>\n",
              "      <td>159.762113</td>\n",
              "      <td>158.927158</td>\n",
              "      <td>158.554358</td>\n",
              "      <td>156.956044</td>\n",
              "      <td>155.737648</td>\n",
              "      <td>...</td>\n",
              "      <td>162.97870</td>\n",
              "      <td>163.206928</td>\n",
              "      <td>165.263802</td>\n",
              "      <td>165.977664</td>\n",
              "      <td>166.489394</td>\n",
              "      <td>165.193110</td>\n",
              "      <td>164.091303</td>\n",
              "      <td>165.179994</td>\n",
              "      <td>168.104148</td>\n",
              "      <td>1.406881</td>\n",
              "    </tr>\n",
              "    <tr>\n",
              "      <th>min</th>\n",
              "      <td>-1741.000000</td>\n",
              "      <td>-1615.000000</td>\n",
              "      <td>-1741.000000</td>\n",
              "      <td>-1630.000000</td>\n",
              "      <td>-1755.000000</td>\n",
              "      <td>-1757.000000</td>\n",
              "      <td>-1832.000000</td>\n",
              "      <td>-1778.000000</td>\n",
              "      <td>-1840.000000</td>\n",
              "      <td>-1592.000000</td>\n",
              "      <td>...</td>\n",
              "      <td>-1867.00000</td>\n",
              "      <td>-1865.000000</td>\n",
              "      <td>-1642.000000</td>\n",
              "      <td>-1723.000000</td>\n",
              "      <td>-1620.000000</td>\n",
              "      <td>-1642.000000</td>\n",
              "      <td>-1781.000000</td>\n",
              "      <td>-1727.000000</td>\n",
              "      <td>-1829.000000</td>\n",
              "      <td>1.000000</td>\n",
              "    </tr>\n",
              "    <tr>\n",
              "      <th>25%</th>\n",
              "      <td>-54.000000</td>\n",
              "      <td>-55.000000</td>\n",
              "      <td>-55.000000</td>\n",
              "      <td>-56.000000</td>\n",
              "      <td>-55.000000</td>\n",
              "      <td>-55.000000</td>\n",
              "      <td>-55.500000</td>\n",
              "      <td>-56.000000</td>\n",
              "      <td>-56.000000</td>\n",
              "      <td>-55.000000</td>\n",
              "      <td>...</td>\n",
              "      <td>-54.00000</td>\n",
              "      <td>-55.000000</td>\n",
              "      <td>-56.000000</td>\n",
              "      <td>-57.000000</td>\n",
              "      <td>-56.000000</td>\n",
              "      <td>-56.000000</td>\n",
              "      <td>-56.000000</td>\n",
              "      <td>-54.000000</td>\n",
              "      <td>-56.000000</td>\n",
              "      <td>2.000000</td>\n",
              "    </tr>\n",
              "    <tr>\n",
              "      <th>50%</th>\n",
              "      <td>-8.000000</td>\n",
              "      <td>-8.000000</td>\n",
              "      <td>-8.000000</td>\n",
              "      <td>-8.000000</td>\n",
              "      <td>-9.000000</td>\n",
              "      <td>-10.000000</td>\n",
              "      <td>-9.000000</td>\n",
              "      <td>-9.000000</td>\n",
              "      <td>-9.000000</td>\n",
              "      <td>-8.000000</td>\n",
              "      <td>...</td>\n",
              "      <td>-8.00000</td>\n",
              "      <td>-9.000000</td>\n",
              "      <td>-10.000000</td>\n",
              "      <td>-10.000000</td>\n",
              "      <td>-10.000000</td>\n",
              "      <td>-9.000000</td>\n",
              "      <td>-8.000000</td>\n",
              "      <td>-9.000000</td>\n",
              "      <td>-9.000000</td>\n",
              "      <td>3.000000</td>\n",
              "    </tr>\n",
              "    <tr>\n",
              "      <th>75%</th>\n",
              "      <td>35.000000</td>\n",
              "      <td>36.000000</td>\n",
              "      <td>36.000000</td>\n",
              "      <td>35.000000</td>\n",
              "      <td>34.000000</td>\n",
              "      <td>34.000000</td>\n",
              "      <td>35.000000</td>\n",
              "      <td>35.000000</td>\n",
              "      <td>35.500000</td>\n",
              "      <td>35.000000</td>\n",
              "      <td>...</td>\n",
              "      <td>34.00000</td>\n",
              "      <td>33.000000</td>\n",
              "      <td>33.000000</td>\n",
              "      <td>34.000000</td>\n",
              "      <td>34.000000</td>\n",
              "      <td>34.000000</td>\n",
              "      <td>34.000000</td>\n",
              "      <td>35.000000</td>\n",
              "      <td>34.000000</td>\n",
              "      <td>4.000000</td>\n",
              "    </tr>\n",
              "    <tr>\n",
              "      <th>max</th>\n",
              "      <td>1291.000000</td>\n",
              "      <td>1356.000000</td>\n",
              "      <td>1274.000000</td>\n",
              "      <td>1167.000000</td>\n",
              "      <td>1244.000000</td>\n",
              "      <td>1244.000000</td>\n",
              "      <td>1310.000000</td>\n",
              "      <td>1238.000000</td>\n",
              "      <td>1381.000000</td>\n",
              "      <td>1502.000000</td>\n",
              "      <td>...</td>\n",
              "      <td>1419.00000</td>\n",
              "      <td>1306.000000</td>\n",
              "      <td>1124.000000</td>\n",
              "      <td>1436.000000</td>\n",
              "      <td>1733.000000</td>\n",
              "      <td>1958.000000</td>\n",
              "      <td>2047.000000</td>\n",
              "      <td>2047.000000</td>\n",
              "      <td>1915.000000</td>\n",
              "      <td>5.000000</td>\n",
              "    </tr>\n",
              "  </tbody>\n",
              "</table>\n",
              "<p>8 rows × 179 columns</p>\n",
              "</div>\n",
              "    <div class=\"colab-df-buttons\">\n",
              "\n",
              "  <div class=\"colab-df-container\">\n",
              "    <button class=\"colab-df-convert\" onclick=\"convertToInteractive('df-08ea18f4-19db-4098-84ff-08467b0c5290')\"\n",
              "            title=\"Convert this dataframe to an interactive table.\"\n",
              "            style=\"display:none;\">\n",
              "\n",
              "  <svg xmlns=\"http://www.w3.org/2000/svg\" height=\"24px\" viewBox=\"0 -960 960 960\">\n",
              "    <path d=\"M120-120v-720h720v720H120Zm60-500h600v-160H180v160Zm220 220h160v-160H400v160Zm0 220h160v-160H400v160ZM180-400h160v-160H180v160Zm440 0h160v-160H620v160ZM180-180h160v-160H180v160Zm440 0h160v-160H620v160Z\"/>\n",
              "  </svg>\n",
              "    </button>\n",
              "\n",
              "  <style>\n",
              "    .colab-df-container {\n",
              "      display:flex;\n",
              "      gap: 12px;\n",
              "    }\n",
              "\n",
              "    .colab-df-convert {\n",
              "      background-color: #E8F0FE;\n",
              "      border: none;\n",
              "      border-radius: 50%;\n",
              "      cursor: pointer;\n",
              "      display: none;\n",
              "      fill: #1967D2;\n",
              "      height: 32px;\n",
              "      padding: 0 0 0 0;\n",
              "      width: 32px;\n",
              "    }\n",
              "\n",
              "    .colab-df-convert:hover {\n",
              "      background-color: #E2EBFA;\n",
              "      box-shadow: 0px 1px 2px rgba(60, 64, 67, 0.3), 0px 1px 3px 1px rgba(60, 64, 67, 0.15);\n",
              "      fill: #174EA6;\n",
              "    }\n",
              "\n",
              "    .colab-df-buttons div {\n",
              "      margin-bottom: 4px;\n",
              "    }\n",
              "\n",
              "    [theme=dark] .colab-df-convert {\n",
              "      background-color: #3B4455;\n",
              "      fill: #D2E3FC;\n",
              "    }\n",
              "\n",
              "    [theme=dark] .colab-df-convert:hover {\n",
              "      background-color: #434B5C;\n",
              "      box-shadow: 0px 1px 3px 1px rgba(0, 0, 0, 0.15);\n",
              "      filter: drop-shadow(0px 1px 2px rgba(0, 0, 0, 0.3));\n",
              "      fill: #FFFFFF;\n",
              "    }\n",
              "  </style>\n",
              "\n",
              "    <script>\n",
              "      const buttonEl =\n",
              "        document.querySelector('#df-08ea18f4-19db-4098-84ff-08467b0c5290 button.colab-df-convert');\n",
              "      buttonEl.style.display =\n",
              "        google.colab.kernel.accessAllowed ? 'block' : 'none';\n",
              "\n",
              "      async function convertToInteractive(key) {\n",
              "        const element = document.querySelector('#df-08ea18f4-19db-4098-84ff-08467b0c5290');\n",
              "        const dataTable =\n",
              "          await google.colab.kernel.invokeFunction('convertToInteractive',\n",
              "                                                    [key], {});\n",
              "        if (!dataTable) return;\n",
              "\n",
              "        const docLinkHtml = 'Like what you see? Visit the ' +\n",
              "          '<a target=\"_blank\" href=https://colab.research.google.com/notebooks/data_table.ipynb>data table notebook</a>'\n",
              "          + ' to learn more about interactive tables.';\n",
              "        element.innerHTML = '';\n",
              "        dataTable['output_type'] = 'display_data';\n",
              "        await google.colab.output.renderOutput(dataTable, element);\n",
              "        const docLink = document.createElement('div');\n",
              "        docLink.innerHTML = docLinkHtml;\n",
              "        element.appendChild(docLink);\n",
              "      }\n",
              "    </script>\n",
              "  </div>\n",
              "\n",
              "\n",
              "<div id=\"df-42905f4b-b123-405c-b934-6826c85ab7ce\">\n",
              "  <button class=\"colab-df-quickchart\" onclick=\"quickchart('df-42905f4b-b123-405c-b934-6826c85ab7ce')\"\n",
              "            title=\"Suggest charts\"\n",
              "            style=\"display:none;\">\n",
              "\n",
              "<svg xmlns=\"http://www.w3.org/2000/svg\" height=\"24px\"viewBox=\"0 0 24 24\"\n",
              "     width=\"24px\">\n",
              "    <g>\n",
              "        <path d=\"M19 3H5c-1.1 0-2 .9-2 2v14c0 1.1.9 2 2 2h14c1.1 0 2-.9 2-2V5c0-1.1-.9-2-2-2zM9 17H7v-7h2v7zm4 0h-2V7h2v10zm4 0h-2v-4h2v4z\"/>\n",
              "    </g>\n",
              "</svg>\n",
              "  </button>\n",
              "\n",
              "<style>\n",
              "  .colab-df-quickchart {\n",
              "      --bg-color: #E8F0FE;\n",
              "      --fill-color: #1967D2;\n",
              "      --hover-bg-color: #E2EBFA;\n",
              "      --hover-fill-color: #174EA6;\n",
              "      --disabled-fill-color: #AAA;\n",
              "      --disabled-bg-color: #DDD;\n",
              "  }\n",
              "\n",
              "  [theme=dark] .colab-df-quickchart {\n",
              "      --bg-color: #3B4455;\n",
              "      --fill-color: #D2E3FC;\n",
              "      --hover-bg-color: #434B5C;\n",
              "      --hover-fill-color: #FFFFFF;\n",
              "      --disabled-bg-color: #3B4455;\n",
              "      --disabled-fill-color: #666;\n",
              "  }\n",
              "\n",
              "  .colab-df-quickchart {\n",
              "    background-color: var(--bg-color);\n",
              "    border: none;\n",
              "    border-radius: 50%;\n",
              "    cursor: pointer;\n",
              "    display: none;\n",
              "    fill: var(--fill-color);\n",
              "    height: 32px;\n",
              "    padding: 0;\n",
              "    width: 32px;\n",
              "  }\n",
              "\n",
              "  .colab-df-quickchart:hover {\n",
              "    background-color: var(--hover-bg-color);\n",
              "    box-shadow: 0 1px 2px rgba(60, 64, 67, 0.3), 0 1px 3px 1px rgba(60, 64, 67, 0.15);\n",
              "    fill: var(--button-hover-fill-color);\n",
              "  }\n",
              "\n",
              "  .colab-df-quickchart-complete:disabled,\n",
              "  .colab-df-quickchart-complete:disabled:hover {\n",
              "    background-color: var(--disabled-bg-color);\n",
              "    fill: var(--disabled-fill-color);\n",
              "    box-shadow: none;\n",
              "  }\n",
              "\n",
              "  .colab-df-spinner {\n",
              "    border: 2px solid var(--fill-color);\n",
              "    border-color: transparent;\n",
              "    border-bottom-color: var(--fill-color);\n",
              "    animation:\n",
              "      spin 1s steps(1) infinite;\n",
              "  }\n",
              "\n",
              "  @keyframes spin {\n",
              "    0% {\n",
              "      border-color: transparent;\n",
              "      border-bottom-color: var(--fill-color);\n",
              "      border-left-color: var(--fill-color);\n",
              "    }\n",
              "    20% {\n",
              "      border-color: transparent;\n",
              "      border-left-color: var(--fill-color);\n",
              "      border-top-color: var(--fill-color);\n",
              "    }\n",
              "    30% {\n",
              "      border-color: transparent;\n",
              "      border-left-color: var(--fill-color);\n",
              "      border-top-color: var(--fill-color);\n",
              "      border-right-color: var(--fill-color);\n",
              "    }\n",
              "    40% {\n",
              "      border-color: transparent;\n",
              "      border-right-color: var(--fill-color);\n",
              "      border-top-color: var(--fill-color);\n",
              "    }\n",
              "    60% {\n",
              "      border-color: transparent;\n",
              "      border-right-color: var(--fill-color);\n",
              "    }\n",
              "    80% {\n",
              "      border-color: transparent;\n",
              "      border-right-color: var(--fill-color);\n",
              "      border-bottom-color: var(--fill-color);\n",
              "    }\n",
              "    90% {\n",
              "      border-color: transparent;\n",
              "      border-bottom-color: var(--fill-color);\n",
              "    }\n",
              "  }\n",
              "</style>\n",
              "\n",
              "  <script>\n",
              "    async function quickchart(key) {\n",
              "      const quickchartButtonEl =\n",
              "        document.querySelector('#' + key + ' button');\n",
              "      quickchartButtonEl.disabled = true;  // To prevent multiple clicks.\n",
              "      quickchartButtonEl.classList.add('colab-df-spinner');\n",
              "      try {\n",
              "        const charts = await google.colab.kernel.invokeFunction(\n",
              "            'suggestCharts', [key], {});\n",
              "      } catch (error) {\n",
              "        console.error('Error during call to suggestCharts:', error);\n",
              "      }\n",
              "      quickchartButtonEl.classList.remove('colab-df-spinner');\n",
              "      quickchartButtonEl.classList.add('colab-df-quickchart-complete');\n",
              "    }\n",
              "    (() => {\n",
              "      let quickchartButtonEl =\n",
              "        document.querySelector('#df-42905f4b-b123-405c-b934-6826c85ab7ce button');\n",
              "      quickchartButtonEl.style.display =\n",
              "        google.colab.kernel.accessAllowed ? 'block' : 'none';\n",
              "    })();\n",
              "  </script>\n",
              "</div>\n",
              "\n",
              "    </div>\n",
              "  </div>\n"
            ],
            "application/vnd.google.colaboratory.intrinsic+json": {
              "type": "dataframe"
            }
          },
          "metadata": {},
          "execution_count": 5
        }
      ],
      "source": [
        "Data1.describe()"
      ]
    },
    {
      "cell_type": "markdown",
      "metadata": {
        "id": "0xTbXduCQR7I"
      },
      "source": [
        "# **Preprocessing**"
      ]
    },
    {
      "cell_type": "code",
      "execution_count": null,
      "metadata": {
        "id": "kh9E3NulWUhh"
      },
      "outputs": [],
      "source": [
        "Data1.dropna(inplace=True)\n",
        "Data2.dropna(inplace=True)"
      ]
    },
    {
      "cell_type": "code",
      "execution_count": null,
      "metadata": {
        "id": "JOrOMrVAWJ-T"
      },
      "outputs": [],
      "source": [
        "Data1 = Data1.iloc[:,1:]\n",
        "Data2 = Data2.iloc[:,1:]"
      ]
    },
    {
      "cell_type": "code",
      "execution_count": null,
      "metadata": {
        "id": "hYTKqQAHW862"
      },
      "outputs": [],
      "source": [
        "Data1.fillna(Data1.mean(), inplace=True)\n",
        "Data2.fillna(Data2.mean(), inplace=True)"
      ]
    },
    {
      "cell_type": "code",
      "execution_count": null,
      "metadata": {
        "id": "Jtj9VfqxNmrN"
      },
      "outputs": [],
      "source": [
        "X1 = Data1.iloc[:,:-1]\n",
        "X2 = Data2.iloc[:,:-1]"
      ]
    },
    {
      "cell_type": "code",
      "execution_count": null,
      "metadata": {
        "id": "_3tUnmL0Nmhl"
      },
      "outputs": [],
      "source": [
        "y1 = Data1.iloc[:,-1]\n",
        "y2 = Data2.iloc[:,-1]"
      ]
    },
    {
      "cell_type": "markdown",
      "metadata": {
        "id": "6dLg6Dwc85ir"
      },
      "source": [
        "# **Denoising EEG signal with hybrid filters**\n",
        "1) Gaussian-Butterworth filter\n",
        "\n",
        "2) Chebyshev-Bessel filter\n",
        "\n",
        "3) Daubechies-Wiener filter\n",
        "\n",
        "4) Daubechies-Chebyshev filter\n",
        "\n",
        "5) Butterworth-Wavelet Denoising filter"
      ]
    },
    {
      "cell_type": "code",
      "execution_count": null,
      "metadata": {
        "id": "_uXLssFD8-la"
      },
      "outputs": [],
      "source": [
        "from scipy.ndimage import gaussian_filter\n",
        "from scipy.signal import butter, filtfilt\n",
        "from scipy.signal import cheby1, filtfilt, bessel\n",
        "from scipy.signal import wiener\n",
        "from scipy.signal import butter, filtfilt\n",
        "import pywt"
      ]
    },
    {
      "cell_type": "markdown",
      "metadata": {
        "id": "OxFixQ8eVvlO"
      },
      "source": [
        "**Gaussian-Butterworth filter**"
      ]
    },
    {
      "cell_type": "code",
      "execution_count": null,
      "metadata": {
        "id": "mc08Q3qHNwHt"
      },
      "outputs": [],
      "source": [
        "def apply_gaussian_filter(data, sigma):\n",
        "    filtered_data = gaussian_filter(data, sigma=sigma)\n",
        "    return filtered_data\n",
        "\n",
        "def apply_butter_lowpass_filter(data, cutoff_freq, sampling_freq, order=5):\n",
        "    nyquist_freq = 0.5 * sampling_freq\n",
        "    normal_cutoff = cutoff_freq / nyquist_freq\n",
        "    b, a = butter(order, normal_cutoff, btype='low', analog=False)\n",
        "    filtered_data = filtfilt(b, a, data)\n",
        "    return filtered_data\n",
        "\n",
        "def calculate_snr(original_signal, noisy_signal):\n",
        "    noise = original_signal - noisy_signal\n",
        "    snr = 10 * np.log10(np.sum(original_signal**2) / np.sum(noise**2))\n",
        "    return snr"
      ]
    },
    {
      "cell_type": "code",
      "execution_count": null,
      "metadata": {
        "id": "jGuksSGbNzHd"
      },
      "outputs": [],
      "source": [
        "sigma = 2.0"
      ]
    },
    {
      "cell_type": "code",
      "execution_count": null,
      "metadata": {
        "id": "_FNgBsDDN0rV"
      },
      "outputs": [],
      "source": [
        "filtered_data_gaussian = apply_gaussian_filter(X1, sigma)"
      ]
    },
    {
      "cell_type": "code",
      "execution_count": null,
      "metadata": {
        "id": "4WW2AoH8N2EN"
      },
      "outputs": [],
      "source": [
        "cutoff_freq = 60\n",
        "sampling_freq = 256\n",
        "order = 2"
      ]
    },
    {
      "cell_type": "code",
      "execution_count": null,
      "metadata": {
        "id": "ipHBVKwFN5Hu"
      },
      "outputs": [],
      "source": [
        "filtered_data_butter = apply_butter_lowpass_filter(X1, cutoff_freq, sampling_freq, order)"
      ]
    },
    {
      "cell_type": "code",
      "execution_count": null,
      "metadata": {
        "id": "JEoW3sWTN6h3"
      },
      "outputs": [],
      "source": [
        "combined_filtered_data = (filtered_data_gaussian + filtered_data_butter) / 2"
      ]
    },
    {
      "cell_type": "code",
      "execution_count": null,
      "metadata": {
        "id": "mGukLY--N73O"
      },
      "outputs": [],
      "source": [
        "overall_snr_combined1 = calculate_snr(np.ravel(X1), np.ravel(combined_filtered_data))"
      ]
    },
    {
      "cell_type": "code",
      "execution_count": null,
      "metadata": {
        "colab": {
          "base_uri": "https://localhost:8080/"
        },
        "id": "iPDXMD3CVwOO",
        "outputId": "f5fe6553-d55a-4ce3-8234-d702ab9ce1ce"
      },
      "outputs": [
        {
          "output_type": "stream",
          "name": "stdout",
          "text": [
            "\n",
            "Overall Signal-to-Noise Ratio (SNR) for combined approach:\n",
            "7.06 dB\n"
          ]
        }
      ],
      "source": [
        "print(\"\\nOverall Signal-to-Noise Ratio (SNR) for combined approach:\")\n",
        "print(f\"{overall_snr_combined1:.2f} dB\")"
      ]
    },
    {
      "cell_type": "markdown",
      "metadata": {
        "id": "gM31pwaNb3tE"
      },
      "source": [
        "**Chebyshev wavelet denoising filter**"
      ]
    },
    {
      "cell_type": "code",
      "execution_count": null,
      "metadata": {
        "id": "KWFqgLH7fEeK"
      },
      "outputs": [],
      "source": [
        "def chebyshev_lowpass(cutoff_freq, sampling_freq, ripple_db, order=5):\n",
        "    nyquist_freq = 0.5 * sampling_freq\n",
        "    Wn = cutoff_freq / nyquist_freq\n",
        "    b, a = cheby1(order, ripple_db, Wn, btype='low', analog=False)\n",
        "    return b, a\n",
        "\n",
        "def apply_chebyshev_lowpass_filter(data, cutoff_freq, sampling_freq, ripple_db, order=5):\n",
        "    b, a = chebyshev_lowpass(cutoff_freq, sampling_freq, ripple_db, order=order)\n",
        "    filtered_data = filtfilt(b, a, data)\n",
        "    return filtered_data\n",
        "\n",
        "def apply_wavelet_denoising(data, wavelet, threshold):\n",
        "    coefficients = pywt.wavedec(data, wavelet)\n",
        "    coefficients = [pywt.threshold(c, threshold, mode='soft') for c in coefficients]\n",
        "    denoised_data = pywt.waverec(coefficients, wavelet)\n",
        "    return denoised_data\n",
        "\n",
        "def calculate_snr(original_signal, noisy_signal):\n",
        "    noise = original_signal - noisy_signal\n",
        "    snr = 10 * np.log10(np.sum(original_signal**2) / np.sum(noise**2))\n",
        "    return snr"
      ]
    },
    {
      "cell_type": "code",
      "execution_count": null,
      "metadata": {
        "id": "1NuALrmCfGVs"
      },
      "outputs": [],
      "source": [
        "cutoff_freq = 60\n",
        "sampling_freq = 256\n",
        "ripple_db = 0.5\n",
        "order = 4\n"
      ]
    },
    {
      "cell_type": "code",
      "execution_count": null,
      "metadata": {
        "id": "p0ImBkVWfHW7"
      },
      "outputs": [],
      "source": [
        "wavelet = 'db4'\n",
        "threshold = 1"
      ]
    },
    {
      "cell_type": "code",
      "execution_count": null,
      "metadata": {
        "id": "3k3j96sefIgM"
      },
      "outputs": [],
      "source": [
        "filtered_data_cheby = apply_chebyshev_lowpass_filter(X1, cutoff_freq, sampling_freq, ripple_db, order)"
      ]
    },
    {
      "cell_type": "code",
      "execution_count": null,
      "metadata": {
        "id": "cMMYtWQIfJsT"
      },
      "outputs": [],
      "source": [
        "denoised_data = apply_wavelet_denoising(filtered_data_cheby, wavelet, threshold)"
      ]
    },
    {
      "cell_type": "code",
      "execution_count": null,
      "metadata": {
        "id": "6NanO9zFfK4z"
      },
      "outputs": [],
      "source": [
        "overall_snr_combined2 = calculate_snr(np.ravel(X1), np.ravel(denoised_data))"
      ]
    },
    {
      "cell_type": "code",
      "execution_count": null,
      "metadata": {
        "colab": {
          "base_uri": "https://localhost:8080/"
        },
        "id": "3rIwtxYPPlxj",
        "outputId": "ca581fbc-88e4-4194-b0dd-bb97b696315b"
      },
      "outputs": [
        {
          "output_type": "stream",
          "name": "stdout",
          "text": [
            "\n",
            "Overall Signal-to-Noise Ratio (SNR) after combined filtering:\n",
            "21.22 dB\n"
          ]
        }
      ],
      "source": [
        "print(\"\\nOverall Signal-to-Noise Ratio (SNR) after combined filtering:\")\n",
        "print(f\"{overall_snr_combined2:.2f} dB\")"
      ]
    },
    {
      "cell_type": "markdown",
      "metadata": {
        "id": "X8HS7_2uU1Ix"
      },
      "source": [
        "**Chebyshev Bessel Filter**"
      ]
    },
    {
      "cell_type": "code",
      "execution_count": null,
      "metadata": {
        "id": "5y0wkBDHOEGH"
      },
      "outputs": [],
      "source": [
        "def apply_chebyshev_lowpass_filter(data, cutoff_freq, ripple_db, order):\n",
        "    nyquist_freq = 0.5 * sampling_freq\n",
        "    Wn = cutoff_freq / nyquist_freq\n",
        "    b, a = cheby1(order, ripple_db, Wn, btype='low', analog=False)\n",
        "    filtered_data_cheby = filtfilt(b, a, data)\n",
        "    return filtered_data_cheby\n",
        "\n",
        "def apply_bessel_lowpass_filter(data, cutoff_freq, order):\n",
        "    nyquist_freq = 0.5 * sampling_freq\n",
        "    Wn = cutoff_freq / nyquist_freq\n",
        "    b, a = bessel(order, Wn, btype='low', analog=False)\n",
        "    filtered_data_bessel = filtfilt(b, a, data)\n",
        "    return filtered_data_bessel"
      ]
    },
    {
      "cell_type": "code",
      "execution_count": null,
      "metadata": {
        "id": "6jZ7XoZ_ONYw"
      },
      "outputs": [],
      "source": [
        "cutoff_freq_cheby = 60\n",
        "ripple_db_cheby = 0.5\n",
        "order_cheby = 4\n",
        "order_bessel = 4"
      ]
    },
    {
      "cell_type": "code",
      "execution_count": null,
      "metadata": {
        "id": "ANugnGJFOQSY"
      },
      "outputs": [],
      "source": [
        "filtered_data_cheby = apply_chebyshev_lowpass_filter(X1, cutoff_freq_cheby, ripple_db_cheby, order_cheby)\n",
        "filtered_data_bessel = apply_bessel_lowpass_filter(X1, cutoff_freq, order_bessel)"
      ]
    },
    {
      "cell_type": "code",
      "execution_count": null,
      "metadata": {
        "id": "f69NDk-QOX2B"
      },
      "outputs": [],
      "source": [
        "combined_filtered_data = (filtered_data_cheby + filtered_data_bessel) / 2"
      ]
    },
    {
      "cell_type": "code",
      "execution_count": null,
      "metadata": {
        "id": "f7t6Pgl0OZLq"
      },
      "outputs": [],
      "source": [
        "overall_snr_combined3 = calculate_snr(np.ravel(X1), np.ravel(combined_filtered_data))\n"
      ]
    },
    {
      "cell_type": "code",
      "execution_count": null,
      "metadata": {
        "colab": {
          "base_uri": "https://localhost:8080/"
        },
        "id": "EkL-qwAjU11m",
        "outputId": "9b19b69a-9452-4b4c-9094-db2a06faac89"
      },
      "outputs": [
        {
          "output_type": "stream",
          "name": "stdout",
          "text": [
            "\n",
            "Overall Signal-to-Noise Ratio (SNR) for combined approach:\n",
            "22.37 dB\n"
          ]
        }
      ],
      "source": [
        "print(\"\\nOverall Signal-to-Noise Ratio (SNR) for combined approach:\")\n",
        "print(f\"{overall_snr_combined3:.2f} dB\")\n"
      ]
    },
    {
      "cell_type": "markdown",
      "metadata": {
        "id": "gdj7aqupT42z"
      },
      "source": [
        "**Daubechies-Wiener filter**"
      ]
    },
    {
      "cell_type": "code",
      "execution_count": null,
      "metadata": {
        "id": "Imj_M2xBOf_K"
      },
      "outputs": [],
      "source": [
        "filtered_data_wiener = wiener(X1)"
      ]
    },
    {
      "cell_type": "code",
      "execution_count": null,
      "metadata": {
        "id": "WvehjJ8yOiFi"
      },
      "outputs": [],
      "source": [
        "wavelet = 'db4'\n",
        "level = 3"
      ]
    },
    {
      "cell_type": "code",
      "execution_count": null,
      "metadata": {
        "id": "YuQAmas5Oltz"
      },
      "outputs": [],
      "source": [
        "coefficients = pywt.wavedec(filtered_data_wiener, wavelet, level=level)\n",
        "threshold = 1"
      ]
    },
    {
      "cell_type": "code",
      "execution_count": null,
      "metadata": {
        "id": "8jCEoeI3Ooje"
      },
      "outputs": [],
      "source": [
        "coefficients = [pywt.threshold(c, threshold, mode='soft') for c in coefficients]\n",
        "denoised_data = pywt.waverec(coefficients, wavelet)"
      ]
    },
    {
      "cell_type": "code",
      "execution_count": null,
      "metadata": {
        "id": "9lvkeiTqOqco"
      },
      "outputs": [],
      "source": [
        "overall_snr_combined4 = calculate_snr(np.ravel(X1), np.ravel(denoised_data))"
      ]
    },
    {
      "cell_type": "code",
      "execution_count": null,
      "metadata": {
        "colab": {
          "base_uri": "https://localhost:8080/"
        },
        "id": "sNOQ91pET4GS",
        "outputId": "02208777-c8ad-40af-9946-d0f5d566ae1d"
      },
      "outputs": [
        {
          "output_type": "stream",
          "name": "stdout",
          "text": [
            "\n",
            "Overall Signal-to-Noise Ratio (SNR) for combined approach:\n",
            "7.73 dB\n"
          ]
        }
      ],
      "source": [
        "print(\"\\nOverall Signal-to-Noise Ratio (SNR) for combined approach:\")\n",
        "print(f\"{overall_snr_combined4:.2f} dB\")"
      ]
    },
    {
      "cell_type": "markdown",
      "metadata": {
        "id": "HCKFmr_JCczt"
      },
      "source": [
        "**Butterworth Wavelet denoising filter**"
      ]
    },
    {
      "cell_type": "code",
      "execution_count": null,
      "metadata": {
        "id": "ljxqxkIAZTap"
      },
      "outputs": [],
      "source": [
        "def butterworth_filter(data, cutoff_freq, sampling_freq, order=5):\n",
        "\n",
        "    nyquist_freq = 0.5 * sampling_freq\n",
        "    cutoff = cutoff_freq / nyquist_freq\n",
        "    b, a = butter(order, cutoff, btype='low', analog=False)\n",
        "    filtered_data = filtfilt(b, a, data)\n",
        "    return filtered_data"
      ]
    },
    {
      "cell_type": "code",
      "execution_count": null,
      "metadata": {
        "id": "XiyQTReyZU0x"
      },
      "outputs": [],
      "source": [
        "def wavelet_denoising(data, wavelet='db4', level=3):\n",
        "\n",
        "    coeffs = pywt.wavedec(data, wavelet, level=level)\n",
        "    threshold = 1\n",
        "    coeffs = [pywt.threshold(c, threshold, mode='soft') for c in coeffs]\n",
        "    denoised_data = pywt.waverec(coeffs, wavelet)\n",
        "    return denoised_data"
      ]
    },
    {
      "cell_type": "code",
      "execution_count": null,
      "metadata": {
        "id": "by2pjgWkZbhT"
      },
      "outputs": [],
      "source": [
        "def combine_filters(data, cutoff_freq, sampling_freq, wavelet='db4', level=3, order=5):\n",
        "\n",
        "    butter_filtered_data = butterworth_filter(data, cutoff_freq, sampling_freq, order)\n",
        "    combined_filtered_data = wavelet_denoising(butter_filtered_data, wavelet, level)\n",
        "    return combined_filtered_data"
      ]
    },
    {
      "cell_type": "code",
      "execution_count": null,
      "metadata": {
        "id": "9AavKwhBZCCE"
      },
      "outputs": [],
      "source": [
        "def calculate_snr(original_signal, noisy_signal):\n",
        "    noise = original_signal - noisy_signal\n",
        "    snr = 10 * np.log10(np.sum(original_signal*2) / np.sum(noise*2))\n",
        "    return snr"
      ]
    },
    {
      "cell_type": "code",
      "execution_count": null,
      "metadata": {
        "id": "aqX76CK9Zhei"
      },
      "outputs": [],
      "source": [
        "cutoff_freq = 40\n",
        "sampling_freq = 256\n",
        "wavelet = 'db4'\n",
        "level = 4\n",
        "order = 5"
      ]
    },
    {
      "cell_type": "code",
      "execution_count": null,
      "metadata": {
        "id": "gbnrjmPBZkMK"
      },
      "outputs": [],
      "source": [
        "filtered_data1 = combine_filters(X1, cutoff_freq, sampling_freq, wavelet, level, order)\n",
        "filtered_data2 = combine_filters(X2, cutoff_freq, sampling_freq, wavelet, level, order)"
      ]
    },
    {
      "cell_type": "code",
      "execution_count": null,
      "metadata": {
        "id": "Wzp_vkrUZCCE"
      },
      "outputs": [],
      "source": [
        "overall_snr_combined51 = calculate_snr(np.ravel(X1), np.ravel(filtered_data1))\n",
        "overall_snr_combined52 = calculate_snr(np.ravel(X2), np.ravel(filtered_data2))"
      ]
    },
    {
      "cell_type": "code",
      "execution_count": null,
      "metadata": {
        "colab": {
          "base_uri": "https://localhost:8080/"
        },
        "id": "SXAINBd3ZCCE",
        "outputId": "6be51a1c-a1db-46be-81ee-258d54a14b8a"
      },
      "outputs": [
        {
          "output_type": "stream",
          "name": "stdout",
          "text": [
            "\n",
            "Overall Signal-to-Noise Ratio (SNR):\n",
            "24.11 dB\n"
          ]
        }
      ],
      "source": [
        "print(\"\\nOverall Signal-to-Noise Ratio (SNR):\")\n",
        "print(f\"{overall_snr_combined51:.2f} dB\")"
      ]
    },
    {
      "cell_type": "code",
      "execution_count": null,
      "metadata": {
        "colab": {
          "base_uri": "https://localhost:8080/"
        },
        "id": "kbonPs83YkvS",
        "outputId": "964c4e02-8a85-49b8-af8b-29e5493cf767"
      },
      "outputs": [
        {
          "output_type": "stream",
          "name": "stdout",
          "text": [
            "\n",
            "Overall Signal-to-Noise Ratio (SNR):\n",
            "23.57 dB\n"
          ]
        }
      ],
      "source": [
        "print(\"\\nOverall Signal-to-Noise Ratio (SNR):\")\n",
        "print(f\"{overall_snr_combined52:.2f} dB\")"
      ]
    },
    {
      "cell_type": "markdown",
      "metadata": {
        "id": "lx-VmiwDfuRX"
      },
      "source": [
        "# **Hybrid Filter Analysis**"
      ]
    },
    {
      "cell_type": "code",
      "execution_count": null,
      "metadata": {
        "id": "i1zJ8gHZjfeT"
      },
      "outputs": [],
      "source": [
        "filters = ['Gaussian Butterworth', 'Chebyshev wavelet_denoising ', 'Chebyshev Bessel ','Daubechies Wiener ','Butterworth Wavelet denoising']\n",
        "snr_values = [overall_snr_combined1, overall_snr_combined2, overall_snr_combined3, overall_snr_combined4, overall_snr_combined51]\n",
        "colors = ['blue', 'orange', 'green', 'red', 'purple']"
      ]
    },
    {
      "cell_type": "code",
      "execution_count": null,
      "metadata": {
        "colab": {
          "base_uri": "https://localhost:8080/",
          "height": 607
        },
        "id": "d3i9YlMxjjqU",
        "outputId": "6d38e8d8-924a-49a7-fffd-13a8b3f14931"
      },
      "outputs": [
        {
          "output_type": "display_data",
          "data": {
            "text/plain": [
              "<Figure size 640x480 with 1 Axes>"
            ],
            "image/png": "[encoded data removed]"
          },
          "metadata": {}
        }
      ],
      "source": [
        "bars = plt.bar(filters, snr_values, color=colors)\n",
        "plt.xlabel('Filter')\n",
        "plt.ylabel('Signal-to-Noise Ratio (SNR) [dB]')\n",
        "plt.title('SNR Comparison of Different Filters')\n",
        "plt.grid(axis='y', linestyle='--', alpha=0.7)\n",
        "plt.ylim(0, max(snr_values) * 1.1)\n",
        "\n",
        "plt.xticks(rotation=40)\n",
        "\n",
        "legend_labels = ['Gaussian Butterworth', 'Chebyshev wavelet_denoising ', 'Chebyshev Bessel ','Daubechies Wiener ','Butterworth Wavelet denoising']\n",
        "legend_handles = [plt.Rectangle((0,0),1,1, color=color) for color in colors]\n",
        "plt.legend(legend_handles, legend_labels, loc='upper left')\n",
        "\n",
        "plt.subplots_adjust(left=0.1)\n",
        "\n",
        "plt.show()"
      ]
    },
    {
      "cell_type": "markdown",
      "metadata": {
        "id": "fug2gU6C3J8X"
      },
      "source": [
        "# **Filtered EEG signal values**"
      ]
    },
    {
      "cell_type": "code",
      "execution_count": null,
      "metadata": {
        "colab": {
          "base_uri": "https://localhost:8080/"
        },
        "id": "F3INjKkSuntW",
        "outputId": "956e2fc3-bd9b-48b1-e104-105aa38ab97c"
      },
      "outputs": [
        {
          "output_type": "execute_result",
          "data": {
            "text/plain": [
              "array([[ 134.64937122,  192.06145019,  224.68726805, ..., -113.089676  ,\n",
              "         -89.19842549,  -50.21701889],\n",
              "       [ 385.08493341,  365.71296447,  353.20669322, ...,  152.24005842,\n",
              "         143.74777469,  128.60331285],\n",
              "       [ -32.72723057,  -36.82632357,  -38.29484437, ...,  -38.08615055,\n",
              "         -40.4082585 ,  -35.32747647],\n",
              "       ...,\n",
              "       [ -74.62075565,  -62.24989338,  -56.37080485, ...,  -15.73532623,\n",
              "         -17.56312091,  -20.34029627],\n",
              "       [  18.52313185,   17.80695436,   16.11866285, ...,  -12.37342192,\n",
              "           3.94211549,   25.4882227 ],\n",
              "       [ 246.09165022,    9.31642213, -110.88006823, ...,  318.28073224,\n",
              "         386.79932953,  415.97389996]])"
            ]
          },
          "metadata": {},
          "execution_count": 22
        }
      ],
      "source": [
        "filtered_data1"
      ]
    },
    {
      "cell_type": "code",
      "execution_count": null,
      "metadata": {
        "colab": {
          "base_uri": "https://localhost:8080/",
          "height": 256
        },
        "id": "I7L_KJDTvjTB",
        "outputId": "ccf093ab-4e85-4cc4-90dd-faea31b50b7b"
      },
      "outputs": [
        {
          "output_type": "execute_result",
          "data": {
            "text/plain": [
              "           X1          X2          X3          X4          X5          X6  \\\n",
              "0  134.649371  192.061450  224.687268  223.929041  187.140368  123.253556   \n",
              "1  385.084933  365.712964  353.206693  343.605799  331.835558  313.498007   \n",
              "2  -32.727231  -36.826324  -38.294844  -38.090185  -39.567054  -43.389074   \n",
              "3 -103.635011  -96.942239  -93.865459  -92.643651  -93.435981  -97.402413   \n",
              "4   -8.640543  -63.459244  -96.121949 -101.176571  -79.329935  -42.292071   \n",
              "\n",
              "           X7          X8          X9         X10  ...        X169  \\\n",
              "0   56.315916   -0.466723  -33.493466  -36.517834  ...    5.047247   \n",
              "1  287.174379  258.494412  245.207077  251.749524  ...  163.576738   \n",
              "2  -53.298378  -69.139101  -82.004986  -91.971480  ...   25.574059   \n",
              "3  -97.733134  -94.352441  -88.239261  -78.553293  ...  -78.089610   \n",
              "4  -14.843670   -7.309788  -25.059656  -60.062989  ...    6.915764   \n",
              "\n",
              "         X170        X171        X172        X173        X174        X175  \\\n",
              "0   -0.364494  -15.594395  -43.676949  -74.027950 -103.646829 -118.657853   \n",
              "1  163.632665  158.476234  151.184701  148.532635  152.941568  154.242954   \n",
              "2   50.429666   59.268944   46.557196   22.955508   -6.947301  -29.546474   \n",
              "3  -80.809517  -81.799629  -80.715979  -79.667581  -78.162263  -75.831074   \n",
              "4    5.737049   -0.572334  -11.411746  -27.701968  -49.673112  -66.503836   \n",
              "\n",
              "         X176        X177        X178  \n",
              "0 -113.089676  -89.198425  -50.217019  \n",
              "1  152.240058  143.747775  128.603313  \n",
              "2  -38.086151  -40.408259  -35.327476  \n",
              "3  -72.931589  -69.306950  -64.961696  \n",
              "4  -77.442391  -79.303878  -72.669784  \n",
              "\n",
              "[5 rows x 178 columns]"
            ],
            "text/html": [
              "\n",
              "  <div id=\"df-b8ef88dc-b35d-4968-93c5-3f685a80513e\" class=\"colab-df-container\">\n",
              "    <div>\n",
              "<style scoped>\n",
              "    .dataframe tbody tr th:only-of-type {\n",
              "        vertical-align: middle;\n",
              "    }\n",
              "\n",
              "    .dataframe tbody tr th {\n",
              "        vertical-align: top;\n",
              "    }\n",
              "\n",
              "    .dataframe thead th {\n",
              "        text-align: right;\n",
              "    }\n",
              "</style>\n",
              "<table border=\"1\" class=\"dataframe\">\n",
              "  <thead>\n",
              "    <tr style=\"text-align: right;\">\n",
              "      <th></th>\n",
              "      <th>X1</th>\n",
              "      <th>X2</th>\n",
              "      <th>X3</th>\n",
              "      <th>X4</th>\n",
              "      <th>X5</th>\n",
              "      <th>X6</th>\n",
              "      <th>X7</th>\n",
              "      <th>X8</th>\n",
              "      <th>X9</th>\n",
              "      <th>X10</th>\n",
              "      <th>...</th>\n",
              "      <th>X169</th>\n",
              "      <th>X170</th>\n",
              "      <th>X171</th>\n",
              "      <th>X172</th>\n",
              "      <th>X173</th>\n",
              "      <th>X174</th>\n",
              "      <th>X175</th>\n",
              "      <th>X176</th>\n",
              "      <th>X177</th>\n",
              "      <th>X178</th>\n",
              "    </tr>\n",
              "  </thead>\n",
              "  <tbody>\n",
              "    <tr>\n",
              "      <th>0</th>\n",
              "      <td>134.649371</td>\n",
              "      <td>192.061450</td>\n",
              "      <td>224.687268</td>\n",
              "      <td>223.929041</td>\n",
              "      <td>187.140368</td>\n",
              "      <td>123.253556</td>\n",
              "      <td>56.315916</td>\n",
              "      <td>-0.466723</td>\n",
              "      <td>-33.493466</td>\n",
              "      <td>-36.517834</td>\n",
              "      <td>...</td>\n",
              "      <td>5.047247</td>\n",
              "      <td>-0.364494</td>\n",
              "      <td>-15.594395</td>\n",
              "      <td>-43.676949</td>\n",
              "      <td>-74.027950</td>\n",
              "      <td>-103.646829</td>\n",
              "      <td>-118.657853</td>\n",
              "      <td>-113.089676</td>\n",
              "      <td>-89.198425</td>\n",
              "      <td>-50.217019</td>\n",
              "    </tr>\n",
              "    <tr>\n",
              "      <th>1</th>\n",
              "      <td>385.084933</td>\n",
              "      <td>365.712964</td>\n",
              "      <td>353.206693</td>\n",
              "      <td>343.605799</td>\n",
              "      <td>331.835558</td>\n",
              "      <td>313.498007</td>\n",
              "      <td>287.174379</td>\n",
              "      <td>258.494412</td>\n",
              "      <td>245.207077</td>\n",
              "      <td>251.749524</td>\n",
              "      <td>...</td>\n",
              "      <td>163.576738</td>\n",
              "      <td>163.632665</td>\n",
              "      <td>158.476234</td>\n",
              "      <td>151.184701</td>\n",
              "      <td>148.532635</td>\n",
              "      <td>152.941568</td>\n",
              "      <td>154.242954</td>\n",
              "      <td>152.240058</td>\n",
              "      <td>143.747775</td>\n",
              "      <td>128.603313</td>\n",
              "    </tr>\n",
              "    <tr>\n",
              "      <th>2</th>\n",
              "      <td>-32.727231</td>\n",
              "      <td>-36.826324</td>\n",
              "      <td>-38.294844</td>\n",
              "      <td>-38.090185</td>\n",
              "      <td>-39.567054</td>\n",
              "      <td>-43.389074</td>\n",
              "      <td>-53.298378</td>\n",
              "      <td>-69.139101</td>\n",
              "      <td>-82.004986</td>\n",
              "      <td>-91.971480</td>\n",
              "      <td>...</td>\n",
              "      <td>25.574059</td>\n",
              "      <td>50.429666</td>\n",
              "      <td>59.268944</td>\n",
              "      <td>46.557196</td>\n",
              "      <td>22.955508</td>\n",
              "      <td>-6.947301</td>\n",
              "      <td>-29.546474</td>\n",
              "      <td>-38.086151</td>\n",
              "      <td>-40.408259</td>\n",
              "      <td>-35.327476</td>\n",
              "    </tr>\n",
              "    <tr>\n",
              "      <th>3</th>\n",
              "      <td>-103.635011</td>\n",
              "      <td>-96.942239</td>\n",
              "      <td>-93.865459</td>\n",
              "      <td>-92.643651</td>\n",
              "      <td>-93.435981</td>\n",
              "      <td>-97.402413</td>\n",
              "      <td>-97.733134</td>\n",
              "      <td>-94.352441</td>\n",
              "      <td>-88.239261</td>\n",
              "      <td>-78.553293</td>\n",
              "      <td>...</td>\n",
              "      <td>-78.089610</td>\n",
              "      <td>-80.809517</td>\n",
              "      <td>-81.799629</td>\n",
              "      <td>-80.715979</td>\n",
              "      <td>-79.667581</td>\n",
              "      <td>-78.162263</td>\n",
              "      <td>-75.831074</td>\n",
              "      <td>-72.931589</td>\n",
              "      <td>-69.306950</td>\n",
              "      <td>-64.961696</td>\n",
              "    </tr>\n",
              "    <tr>\n",
              "      <th>4</th>\n",
              "      <td>-8.640543</td>\n",
              "      <td>-63.459244</td>\n",
              "      <td>-96.121949</td>\n",
              "      <td>-101.176571</td>\n",
              "      <td>-79.329935</td>\n",
              "      <td>-42.292071</td>\n",
              "      <td>-14.843670</td>\n",
              "      <td>-7.309788</td>\n",
              "      <td>-25.059656</td>\n",
              "      <td>-60.062989</td>\n",
              "      <td>...</td>\n",
              "      <td>6.915764</td>\n",
              "      <td>5.737049</td>\n",
              "      <td>-0.572334</td>\n",
              "      <td>-11.411746</td>\n",
              "      <td>-27.701968</td>\n",
              "      <td>-49.673112</td>\n",
              "      <td>-66.503836</td>\n",
              "      <td>-77.442391</td>\n",
              "      <td>-79.303878</td>\n",
              "      <td>-72.669784</td>\n",
              "    </tr>\n",
              "  </tbody>\n",
              "</table>\n",
              "<p>5 rows × 178 columns</p>\n",
              "</div>\n",
              "    <div class=\"colab-df-buttons\">\n",
              "\n",
              "  <div class=\"colab-df-container\">\n",
              "    <button class=\"colab-df-convert\" onclick=\"convertToInteractive('df-b8ef88dc-b35d-4968-93c5-3f685a80513e')\"\n",
              "            title=\"Convert this dataframe to an interactive table.\"\n",
              "            style=\"display:none;\">\n",
              "\n",
              "  <svg xmlns=\"http://www.w3.org/2000/svg\" height=\"24px\" viewBox=\"0 -960 960 960\">\n",
              "    <path d=\"M120-120v-720h720v720H120Zm60-500h600v-160H180v160Zm220 220h160v-160H400v160Zm0 220h160v-160H400v160ZM180-400h160v-160H180v160Zm440 0h160v-160H620v160ZM180-180h160v-160H180v160Zm440 0h160v-160H620v160Z\"/>\n",
              "  </svg>\n",
              "    </button>\n",
              "\n",
              "  <style>\n",
              "    .colab-df-container {\n",
              "      display:flex;\n",
              "      gap: 12px;\n",
              "    }\n",
              "\n",
              "    .colab-df-convert {\n",
              "      background-color: #E8F0FE;\n",
              "      border: none;\n",
              "      border-radius: 50%;\n",
              "      cursor: pointer;\n",
              "      display: none;\n",
              "      fill: #1967D2;\n",
              "      height: 32px;\n",
              "      padding: 0 0 0 0;\n",
              "      width: 32px;\n",
              "    }\n",
              "\n",
              "    .colab-df-convert:hover {\n",
              "      background-color: #E2EBFA;\n",
              "      box-shadow: 0px 1px 2px rgba(60, 64, 67, 0.3), 0px 1px 3px 1px rgba(60, 64, 67, 0.15);\n",
              "      fill: #174EA6;\n",
              "    }\n",
              "\n",
              "    .colab-df-buttons div {\n",
              "      margin-bottom: 4px;\n",
              "    }\n",
              "\n",
              "    [theme=dark] .colab-df-convert {\n",
              "      background-color: #3B4455;\n",
              "      fill: #D2E3FC;\n",
              "    }\n",
              "\n",
              "    [theme=dark] .colab-df-convert:hover {\n",
              "      background-color: #434B5C;\n",
              "      box-shadow: 0px 1px 3px 1px rgba(0, 0, 0, 0.15);\n",
              "      filter: drop-shadow(0px 1px 2px rgba(0, 0, 0, 0.3));\n",
              "      fill: #FFFFFF;\n",
              "    }\n",
              "  </style>\n",
              "\n",
              "    <script>\n",
              "      const buttonEl =\n",
              "        document.querySelector('#df-b8ef88dc-b35d-4968-93c5-3f685a80513e button.colab-df-convert');\n",
              "      buttonEl.style.display =\n",
              "        google.colab.kernel.accessAllowed ? 'block' : 'none';\n",
              "\n",
              "      async function convertToInteractive(key) {\n",
              "        const element = document.querySelector('#df-b8ef88dc-b35d-4968-93c5-3f685a80513e');\n",
              "        const dataTable =\n",
              "          await google.colab.kernel.invokeFunction('convertToInteractive',\n",
              "                                                    [key], {});\n",
              "        if (!dataTable) return;\n",
              "\n",
              "        const docLinkHtml = 'Like what you see? Visit the ' +\n",
              "          '<a target=\"_blank\" href=https://colab.research.google.com/notebooks/data_table.ipynb>data table notebook</a>'\n",
              "          + ' to learn more about interactive tables.';\n",
              "        element.innerHTML = '';\n",
              "        dataTable['output_type'] = 'display_data';\n",
              "        await google.colab.output.renderOutput(dataTable, element);\n",
              "        const docLink = document.createElement('div');\n",
              "        docLink.innerHTML = docLinkHtml;\n",
              "        element.appendChild(docLink);\n",
              "      }\n",
              "    </script>\n",
              "  </div>\n",
              "\n",
              "\n",
              "<div id=\"df-cf257690-763d-4bc9-a0a8-60fbe86d4a80\">\n",
              "  <button class=\"colab-df-quickchart\" onclick=\"quickchart('df-cf257690-763d-4bc9-a0a8-60fbe86d4a80')\"\n",
              "            title=\"Suggest charts\"\n",
              "            style=\"display:none;\">\n",
              "\n",
              "<svg xmlns=\"http://www.w3.org/2000/svg\" height=\"24px\"viewBox=\"0 0 24 24\"\n",
              "     width=\"24px\">\n",
              "    <g>\n",
              "        <path d=\"M19 3H5c-1.1 0-2 .9-2 2v14c0 1.1.9 2 2 2h14c1.1 0 2-.9 2-2V5c0-1.1-.9-2-2-2zM9 17H7v-7h2v7zm4 0h-2V7h2v10zm4 0h-2v-4h2v4z\"/>\n",
              "    </g>\n",
              "</svg>\n",
              "  </button>\n",
              "\n",
              "<style>\n",
              "  .colab-df-quickchart {\n",
              "      --bg-color: #E8F0FE;\n",
              "      --fill-color: #1967D2;\n",
              "      --hover-bg-color: #E2EBFA;\n",
              "      --hover-fill-color: #174EA6;\n",
              "      --disabled-fill-color: #AAA;\n",
              "      --disabled-bg-color: #DDD;\n",
              "  }\n",
              "\n",
              "  [theme=dark] .colab-df-quickchart {\n",
              "      --bg-color: #3B4455;\n",
              "      --fill-color: #D2E3FC;\n",
              "      --hover-bg-color: #434B5C;\n",
              "      --hover-fill-color: #FFFFFF;\n",
              "      --disabled-bg-color: #3B4455;\n",
              "      --disabled-fill-color: #666;\n",
              "  }\n",
              "\n",
              "  .colab-df-quickchart {\n",
              "    background-color: var(--bg-color);\n",
              "    border: none;\n",
              "    border-radius: 50%;\n",
              "    cursor: pointer;\n",
              "    display: none;\n",
              "    fill: var(--fill-color);\n",
              "    height: 32px;\n",
              "    padding: 0;\n",
              "    width: 32px;\n",
              "  }\n",
              "\n",
              "  .colab-df-quickchart:hover {\n",
              "    background-color: var(--hover-bg-color);\n",
              "    box-shadow: 0 1px 2px rgba(60, 64, 67, 0.3), 0 1px 3px 1px rgba(60, 64, 67, 0.15);\n",
              "    fill: var(--button-hover-fill-color);\n",
              "  }\n",
              "\n",
              "  .colab-df-quickchart-complete:disabled,\n",
              "  .colab-df-quickchart-complete:disabled:hover {\n",
              "    background-color: var(--disabled-bg-color);\n",
              "    fill: var(--disabled-fill-color);\n",
              "    box-shadow: none;\n",
              "  }\n",
              "\n",
              "  .colab-df-spinner {\n",
              "    border: 2px solid var(--fill-color);\n",
              "    border-color: transparent;\n",
              "    border-bottom-color: var(--fill-color);\n",
              "    animation:\n",
              "      spin 1s steps(1) infinite;\n",
              "  }\n",
              "\n",
              "  @keyframes spin {\n",
              "    0% {\n",
              "      border-color: transparent;\n",
              "      border-bottom-color: var(--fill-color);\n",
              "      border-left-color: var(--fill-color);\n",
              "    }\n",
              "    20% {\n",
              "      border-color: transparent;\n",
              "      border-left-color: var(--fill-color);\n",
              "      border-top-color: var(--fill-color);\n",
              "    }\n",
              "    30% {\n",
              "      border-color: transparent;\n",
              "      border-left-color: var(--fill-color);\n",
              "      border-top-color: var(--fill-color);\n",
              "      border-right-color: var(--fill-color);\n",
              "    }\n",
              "    40% {\n",
              "      border-color: transparent;\n",
              "      border-right-color: var(--fill-color);\n",
              "      border-top-color: var(--fill-color);\n",
              "    }\n",
              "    60% {\n",
              "      border-color: transparent;\n",
              "      border-right-color: var(--fill-color);\n",
              "    }\n",
              "    80% {\n",
              "      border-color: transparent;\n",
              "      border-right-color: var(--fill-color);\n",
              "      border-bottom-color: var(--fill-color);\n",
              "    }\n",
              "    90% {\n",
              "      border-color: transparent;\n",
              "      border-bottom-color: var(--fill-color);\n",
              "    }\n",
              "  }\n",
              "</style>\n",
              "\n",
              "  <script>\n",
              "    async function quickchart(key) {\n",
              "      const quickchartButtonEl =\n",
              "        document.querySelector('#' + key + ' button');\n",
              "      quickchartButtonEl.disabled = true;  // To prevent multiple clicks.\n",
              "      quickchartButtonEl.classList.add('colab-df-spinner');\n",
              "      try {\n",
              "        const charts = await google.colab.kernel.invokeFunction(\n",
              "            'suggestCharts', [key], {});\n",
              "      } catch (error) {\n",
              "        console.error('Error during call to suggestCharts:', error);\n",
              "      }\n",
              "      quickchartButtonEl.classList.remove('colab-df-spinner');\n",
              "      quickchartButtonEl.classList.add('colab-df-quickchart-complete');\n",
              "    }\n",
              "    (() => {\n",
              "      let quickchartButtonEl =\n",
              "        document.querySelector('#df-cf257690-763d-4bc9-a0a8-60fbe86d4a80 button');\n",
              "      quickchartButtonEl.style.display =\n",
              "        google.colab.kernel.accessAllowed ? 'block' : 'none';\n",
              "    })();\n",
              "  </script>\n",
              "</div>\n",
              "\n",
              "    </div>\n",
              "  </div>\n"
            ],
            "application/vnd.google.colaboratory.intrinsic+json": {
              "type": "dataframe",
              "variable_name": "filtered_data1"
            }
          },
          "metadata": {},
          "execution_count": 23
        }
      ],
      "source": [
        "filtered_data1 = pd.DataFrame(filtered_data1, columns=[f'X{i}' for i in range(1, filtered_data1.shape[1] + 1)])\n",
        "filtered_data1.head(5)"
      ]
    },
    {
      "cell_type": "code",
      "execution_count": null,
      "metadata": {
        "colab": {
          "base_uri": "https://localhost:8080/",
          "height": 256
        },
        "id": "kbtlbVAGY2I8",
        "outputId": "9ea31891-0bf9-4b2c-ef03-94b312f8d5f1"
      },
      "outputs": [
        {
          "output_type": "execute_result",
          "data": {
            "text/plain": [
              "           X1          X2           X3           X4           X5           X6  \\\n",
              "0  129.227849  138.032607   146.481934   156.406171   161.045513   158.180768   \n",
              "1 -592.732652 -800.801185 -1014.332046 -1213.568222 -1333.924687 -1301.369967   \n",
              "2  -31.371206  -60.477220   -76.451563   -79.719275   -71.523661   -57.193330   \n",
              "3    8.653193    1.825539    -2.259491    -5.321533    -6.001217    -2.424699   \n",
              "4  -55.621508  -44.419883   -34.702976   -23.641831   -21.697219   -32.027897   \n",
              "\n",
              "            X7          X8          X9         X10  ...        X169  \\\n",
              "0   145.114998  120.366157   96.548057   77.479300  ...   96.363305   \n",
              "1 -1086.611795 -714.988316 -280.851645  111.713082  ...  134.218489   \n",
              "2   -48.183955  -49.082361  -57.621221  -73.001386  ...   41.611606   \n",
              "3     2.926413   11.167920   17.906109   22.714628  ...   21.776252   \n",
              "4   -54.806916  -86.867759 -111.311984 -124.533129  ...   60.040120   \n",
              "\n",
              "         X170        X171        X172        X173         X174        X175  \\\n",
              "0   96.263380   91.956883   82.722582   71.816245    57.958182   45.734974   \n",
              "1  -73.552452 -434.472456 -780.032989 -990.960047 -1032.484351 -945.274761   \n",
              "2   43.669420   47.760848   54.628049   55.595206    49.887427   38.788610   \n",
              "3   18.925462   16.956344   15.307578   10.170340     2.033412   -7.253565   \n",
              "4  101.900653  115.995916   94.636305   50.200399    -6.797912  -53.402940   \n",
              "\n",
              "         X176        X177        X178  \n",
              "0   35.769708   28.672386   26.089915  \n",
              "1 -783.416276 -595.125597 -402.918586  \n",
              "2   22.723154    8.111171   -3.819666  \n",
              "3  -18.316530  -28.427169  -37.119902  \n",
              "4  -78.134019  -84.658431  -76.158922  \n",
              "\n",
              "[5 rows x 178 columns]"
            ],
            "text/html": [
              "\n",
              "  <div id=\"df-fa7c7946-a54e-4a52-8bb9-ce05ff3eb8bb\" class=\"colab-df-container\">\n",
              "    <div>\n",
              "<style scoped>\n",
              "    .dataframe tbody tr th:only-of-type {\n",
              "        vertical-align: middle;\n",
              "    }\n",
              "\n",
              "    .dataframe tbody tr th {\n",
              "        vertical-align: top;\n",
              "    }\n",
              "\n",
              "    .dataframe thead th {\n",
              "        text-align: right;\n",
              "    }\n",
              "</style>\n",
              "<table border=\"1\" class=\"dataframe\">\n",
              "  <thead>\n",
              "    <tr style=\"text-align: right;\">\n",
              "      <th></th>\n",
              "      <th>X1</th>\n",
              "      <th>X2</th>\n",
              "      <th>X3</th>\n",
              "      <th>X4</th>\n",
              "      <th>X5</th>\n",
              "      <th>X6</th>\n",
              "      <th>X7</th>\n",
              "      <th>X8</th>\n",
              "      <th>X9</th>\n",
              "      <th>X10</th>\n",
              "      <th>...</th>\n",
              "      <th>X169</th>\n",
              "      <th>X170</th>\n",
              "      <th>X171</th>\n",
              "      <th>X172</th>\n",
              "      <th>X173</th>\n",
              "      <th>X174</th>\n",
              "      <th>X175</th>\n",
              "      <th>X176</th>\n",
              "      <th>X177</th>\n",
              "      <th>X178</th>\n",
              "    </tr>\n",
              "  </thead>\n",
              "  <tbody>\n",
              "    <tr>\n",
              "      <th>0</th>\n",
              "      <td>129.227849</td>\n",
              "      <td>138.032607</td>\n",
              "      <td>146.481934</td>\n",
              "      <td>156.406171</td>\n",
              "      <td>161.045513</td>\n",
              "      <td>158.180768</td>\n",
              "      <td>145.114998</td>\n",
              "      <td>120.366157</td>\n",
              "      <td>96.548057</td>\n",
              "      <td>77.479300</td>\n",
              "      <td>...</td>\n",
              "      <td>96.363305</td>\n",
              "      <td>96.263380</td>\n",
              "      <td>91.956883</td>\n",
              "      <td>82.722582</td>\n",
              "      <td>71.816245</td>\n",
              "      <td>57.958182</td>\n",
              "      <td>45.734974</td>\n",
              "      <td>35.769708</td>\n",
              "      <td>28.672386</td>\n",
              "      <td>26.089915</td>\n",
              "    </tr>\n",
              "    <tr>\n",
              "      <th>1</th>\n",
              "      <td>-592.732652</td>\n",
              "      <td>-800.801185</td>\n",
              "      <td>-1014.332046</td>\n",
              "      <td>-1213.568222</td>\n",
              "      <td>-1333.924687</td>\n",
              "      <td>-1301.369967</td>\n",
              "      <td>-1086.611795</td>\n",
              "      <td>-714.988316</td>\n",
              "      <td>-280.851645</td>\n",
              "      <td>111.713082</td>\n",
              "      <td>...</td>\n",
              "      <td>134.218489</td>\n",
              "      <td>-73.552452</td>\n",
              "      <td>-434.472456</td>\n",
              "      <td>-780.032989</td>\n",
              "      <td>-990.960047</td>\n",
              "      <td>-1032.484351</td>\n",
              "      <td>-945.274761</td>\n",
              "      <td>-783.416276</td>\n",
              "      <td>-595.125597</td>\n",
              "      <td>-402.918586</td>\n",
              "    </tr>\n",
              "    <tr>\n",
              "      <th>2</th>\n",
              "      <td>-31.371206</td>\n",
              "      <td>-60.477220</td>\n",
              "      <td>-76.451563</td>\n",
              "      <td>-79.719275</td>\n",
              "      <td>-71.523661</td>\n",
              "      <td>-57.193330</td>\n",
              "      <td>-48.183955</td>\n",
              "      <td>-49.082361</td>\n",
              "      <td>-57.621221</td>\n",
              "      <td>-73.001386</td>\n",
              "      <td>...</td>\n",
              "      <td>41.611606</td>\n",
              "      <td>43.669420</td>\n",
              "      <td>47.760848</td>\n",
              "      <td>54.628049</td>\n",
              "      <td>55.595206</td>\n",
              "      <td>49.887427</td>\n",
              "      <td>38.788610</td>\n",
              "      <td>22.723154</td>\n",
              "      <td>8.111171</td>\n",
              "      <td>-3.819666</td>\n",
              "    </tr>\n",
              "    <tr>\n",
              "      <th>3</th>\n",
              "      <td>8.653193</td>\n",
              "      <td>1.825539</td>\n",
              "      <td>-2.259491</td>\n",
              "      <td>-5.321533</td>\n",
              "      <td>-6.001217</td>\n",
              "      <td>-2.424699</td>\n",
              "      <td>2.926413</td>\n",
              "      <td>11.167920</td>\n",
              "      <td>17.906109</td>\n",
              "      <td>22.714628</td>\n",
              "      <td>...</td>\n",
              "      <td>21.776252</td>\n",
              "      <td>18.925462</td>\n",
              "      <td>16.956344</td>\n",
              "      <td>15.307578</td>\n",
              "      <td>10.170340</td>\n",
              "      <td>2.033412</td>\n",
              "      <td>-7.253565</td>\n",
              "      <td>-18.316530</td>\n",
              "      <td>-28.427169</td>\n",
              "      <td>-37.119902</td>\n",
              "    </tr>\n",
              "    <tr>\n",
              "      <th>4</th>\n",
              "      <td>-55.621508</td>\n",
              "      <td>-44.419883</td>\n",
              "      <td>-34.702976</td>\n",
              "      <td>-23.641831</td>\n",
              "      <td>-21.697219</td>\n",
              "      <td>-32.027897</td>\n",
              "      <td>-54.806916</td>\n",
              "      <td>-86.867759</td>\n",
              "      <td>-111.311984</td>\n",
              "      <td>-124.533129</td>\n",
              "      <td>...</td>\n",
              "      <td>60.040120</td>\n",
              "      <td>101.900653</td>\n",
              "      <td>115.995916</td>\n",
              "      <td>94.636305</td>\n",
              "      <td>50.200399</td>\n",
              "      <td>-6.797912</td>\n",
              "      <td>-53.402940</td>\n",
              "      <td>-78.134019</td>\n",
              "      <td>-84.658431</td>\n",
              "      <td>-76.158922</td>\n",
              "    </tr>\n",
              "  </tbody>\n",
              "</table>\n",
              "<p>5 rows × 178 columns</p>\n",
              "</div>\n",
              "    <div class=\"colab-df-buttons\">\n",
              "\n",
              "  <div class=\"colab-df-container\">\n",
              "    <button class=\"colab-df-convert\" onclick=\"convertToInteractive('df-fa7c7946-a54e-4a52-8bb9-ce05ff3eb8bb')\"\n",
              "            title=\"Convert this dataframe to an interactive table.\"\n",
              "            style=\"display:none;\">\n",
              "\n",
              "  <svg xmlns=\"http://www.w3.org/2000/svg\" height=\"24px\" viewBox=\"0 -960 960 960\">\n",
              "    <path d=\"M120-120v-720h720v720H120Zm60-500h600v-160H180v160Zm220 220h160v-160H400v160Zm0 220h160v-160H400v160ZM180-400h160v-160H180v160Zm440 0h160v-160H620v160ZM180-180h160v-160H180v160Zm440 0h160v-160H620v160Z\"/>\n",
              "  </svg>\n",
              "    </button>\n",
              "\n",
              "  <style>\n",
              "    .colab-df-container {\n",
              "      display:flex;\n",
              "      gap: 12px;\n",
              "    }\n",
              "\n",
              "    .colab-df-convert {\n",
              "      background-color: #E8F0FE;\n",
              "      border: none;\n",
              "      border-radius: 50%;\n",
              "      cursor: pointer;\n",
              "      display: none;\n",
              "      fill: #1967D2;\n",
              "      height: 32px;\n",
              "      padding: 0 0 0 0;\n",
              "      width: 32px;\n",
              "    }\n",
              "\n",
              "    .colab-df-convert:hover {\n",
              "      background-color: #E2EBFA;\n",
              "      box-shadow: 0px 1px 2px rgba(60, 64, 67, 0.3), 0px 1px 3px 1px rgba(60, 64, 67, 0.15);\n",
              "      fill: #174EA6;\n",
              "    }\n",
              "\n",
              "    .colab-df-buttons div {\n",
              "      margin-bottom: 4px;\n",
              "    }\n",
              "\n",
              "    [theme=dark] .colab-df-convert {\n",
              "      background-color: #3B4455;\n",
              "      fill: #D2E3FC;\n",
              "    }\n",
              "\n",
              "    [theme=dark] .colab-df-convert:hover {\n",
              "      background-color: #434B5C;\n",
              "      box-shadow: 0px 1px 3px 1px rgba(0, 0, 0, 0.15);\n",
              "      filter: drop-shadow(0px 1px 2px rgba(0, 0, 0, 0.3));\n",
              "      fill: #FFFFFF;\n",
              "    }\n",
              "  </style>\n",
              "\n",
              "    <script>\n",
              "      const buttonEl =\n",
              "        document.querySelector('#df-fa7c7946-a54e-4a52-8bb9-ce05ff3eb8bb button.colab-df-convert');\n",
              "      buttonEl.style.display =\n",
              "        google.colab.kernel.accessAllowed ? 'block' : 'none';\n",
              "\n",
              "      async function convertToInteractive(key) {\n",
              "        const element = document.querySelector('#df-fa7c7946-a54e-4a52-8bb9-ce05ff3eb8bb');\n",
              "        const dataTable =\n",
              "          await google.colab.kernel.invokeFunction('convertToInteractive',\n",
              "                                                    [key], {});\n",
              "        if (!dataTable) return;\n",
              "\n",
              "        const docLinkHtml = 'Like what you see? Visit the ' +\n",
              "          '<a target=\"_blank\" href=https://colab.research.google.com/notebooks/data_table.ipynb>data table notebook</a>'\n",
              "          + ' to learn more about interactive tables.';\n",
              "        element.innerHTML = '';\n",
              "        dataTable['output_type'] = 'display_data';\n",
              "        await google.colab.output.renderOutput(dataTable, element);\n",
              "        const docLink = document.createElement('div');\n",
              "        docLink.innerHTML = docLinkHtml;\n",
              "        element.appendChild(docLink);\n",
              "      }\n",
              "    </script>\n",
              "  </div>\n",
              "\n",
              "\n",
              "<div id=\"df-a302bc16-385c-4c10-bb4f-76f784ce03d5\">\n",
              "  <button class=\"colab-df-quickchart\" onclick=\"quickchart('df-a302bc16-385c-4c10-bb4f-76f784ce03d5')\"\n",
              "            title=\"Suggest charts\"\n",
              "            style=\"display:none;\">\n",
              "\n",
              "<svg xmlns=\"http://www.w3.org/2000/svg\" height=\"24px\"viewBox=\"0 0 24 24\"\n",
              "     width=\"24px\">\n",
              "    <g>\n",
              "        <path d=\"M19 3H5c-1.1 0-2 .9-2 2v14c0 1.1.9 2 2 2h14c1.1 0 2-.9 2-2V5c0-1.1-.9-2-2-2zM9 17H7v-7h2v7zm4 0h-2V7h2v10zm4 0h-2v-4h2v4z\"/>\n",
              "    </g>\n",
              "</svg>\n",
              "  </button>\n",
              "\n",
              "<style>\n",
              "  .colab-df-quickchart {\n",
              "      --bg-color: #E8F0FE;\n",
              "      --fill-color: #1967D2;\n",
              "      --hover-bg-color: #E2EBFA;\n",
              "      --hover-fill-color: #174EA6;\n",
              "      --disabled-fill-color: #AAA;\n",
              "      --disabled-bg-color: #DDD;\n",
              "  }\n",
              "\n",
              "  [theme=dark] .colab-df-quickchart {\n",
              "      --bg-color: #3B4455;\n",
              "      --fill-color: #D2E3FC;\n",
              "      --hover-bg-color: #434B5C;\n",
              "      --hover-fill-color: #FFFFFF;\n",
              "      --disabled-bg-color: #3B4455;\n",
              "      --disabled-fill-color: #666;\n",
              "  }\n",
              "\n",
              "  .colab-df-quickchart {\n",
              "    background-color: var(--bg-color);\n",
              "    border: none;\n",
              "    border-radius: 50%;\n",
              "    cursor: pointer;\n",
              "    display: none;\n",
              "    fill: var(--fill-color);\n",
              "    height: 32px;\n",
              "    padding: 0;\n",
              "    width: 32px;\n",
              "  }\n",
              "\n",
              "  .colab-df-quickchart:hover {\n",
              "    background-color: var(--hover-bg-color);\n",
              "    box-shadow: 0 1px 2px rgba(60, 64, 67, 0.3), 0 1px 3px 1px rgba(60, 64, 67, 0.15);\n",
              "    fill: var(--button-hover-fill-color);\n",
              "  }\n",
              "\n",
              "  .colab-df-quickchart-complete:disabled,\n",
              "  .colab-df-quickchart-complete:disabled:hover {\n",
              "    background-color: var(--disabled-bg-color);\n",
              "    fill: var(--disabled-fill-color);\n",
              "    box-shadow: none;\n",
              "  }\n",
              "\n",
              "  .colab-df-spinner {\n",
              "    border: 2px solid var(--fill-color);\n",
              "    border-color: transparent;\n",
              "    border-bottom-color: var(--fill-color);\n",
              "    animation:\n",
              "      spin 1s steps(1) infinite;\n",
              "  }\n",
              "\n",
              "  @keyframes spin {\n",
              "    0% {\n",
              "      border-color: transparent;\n",
              "      border-bottom-color: var(--fill-color);\n",
              "      border-left-color: var(--fill-color);\n",
              "    }\n",
              "    20% {\n",
              "      border-color: transparent;\n",
              "      border-left-color: var(--fill-color);\n",
              "      border-top-color: var(--fill-color);\n",
              "    }\n",
              "    30% {\n",
              "      border-color: transparent;\n",
              "      border-left-color: var(--fill-color);\n",
              "      border-top-color: var(--fill-color);\n",
              "      border-right-color: var(--fill-color);\n",
              "    }\n",
              "    40% {\n",
              "      border-color: transparent;\n",
              "      border-right-color: var(--fill-color);\n",
              "      border-top-color: var(--fill-color);\n",
              "    }\n",
              "    60% {\n",
              "      border-color: transparent;\n",
              "      border-right-color: var(--fill-color);\n",
              "    }\n",
              "    80% {\n",
              "      border-color: transparent;\n",
              "      border-right-color: var(--fill-color);\n",
              "      border-bottom-color: var(--fill-color);\n",
              "    }\n",
              "    90% {\n",
              "      border-color: transparent;\n",
              "      border-bottom-color: var(--fill-color);\n",
              "    }\n",
              "  }\n",
              "</style>\n",
              "\n",
              "  <script>\n",
              "    async function quickchart(key) {\n",
              "      const quickchartButtonEl =\n",
              "        document.querySelector('#' + key + ' button');\n",
              "      quickchartButtonEl.disabled = true;  // To prevent multiple clicks.\n",
              "      quickchartButtonEl.classList.add('colab-df-spinner');\n",
              "      try {\n",
              "        const charts = await google.colab.kernel.invokeFunction(\n",
              "            'suggestCharts', [key], {});\n",
              "      } catch (error) {\n",
              "        console.error('Error during call to suggestCharts:', error);\n",
              "      }\n",
              "      quickchartButtonEl.classList.remove('colab-df-spinner');\n",
              "      quickchartButtonEl.classList.add('colab-df-quickchart-complete');\n",
              "    }\n",
              "    (() => {\n",
              "      let quickchartButtonEl =\n",
              "        document.querySelector('#df-a302bc16-385c-4c10-bb4f-76f784ce03d5 button');\n",
              "      quickchartButtonEl.style.display =\n",
              "        google.colab.kernel.accessAllowed ? 'block' : 'none';\n",
              "    })();\n",
              "  </script>\n",
              "</div>\n",
              "\n",
              "    </div>\n",
              "  </div>\n"
            ],
            "application/vnd.google.colaboratory.intrinsic+json": {
              "type": "dataframe",
              "variable_name": "filtered_data2"
            }
          },
          "metadata": {},
          "execution_count": 24
        }
      ],
      "source": [
        "filtered_data2 = pd.DataFrame(filtered_data2, columns=[f'X{i}' for i in range(1, filtered_data2.shape[1] + 1)])\n",
        "filtered_data2.head()"
      ]
    },
    {
      "cell_type": "markdown",
      "metadata": {
        "id": "hdEU4ekQt4Re"
      },
      "source": [
        "# **Original and Filtered signal visual comparison**\n",
        "\n",
        "\n"
      ]
    },
    {
      "cell_type": "code",
      "source": [
        "plt.figure(figsize=(20, 5))\n",
        "\n",
        "plt.subplot(1, 2, 1)\n",
        "eeg_columns = [f\"X{i}\" for i in range(1, 179)]\n",
        "X1[eeg_columns] = X1[eeg_columns].astype(float)\n",
        "\n",
        "for i in range(5):\n",
        "    plt.plot(X1.loc[i, eeg_columns], label=f\"Row {i + 1}\")\n",
        "plt.xlabel('Time')\n",
        "plt.ylabel('EEG Signal Intensity')\n",
        "plt.title('Original EEG Signals for First 5 Rows')\n",
        "plt.legend()\n",
        "plt.grid(True)\n",
        "\n",
        "plt.subplot(1, 2, 2)\n",
        "column_names = [f'X{i}' for i in range(1, filtered_data1.shape[1] + 1)]\n",
        "\n",
        "for i in range(5):\n",
        "    plt.plot(filtered_data1.loc[i, eeg_columns], label=f\"Row {i + 1}\")\n",
        "plt.xlabel('Time')\n",
        "plt.ylabel('EEG Signal Intensity')\n",
        "plt.title('Filtered EEG Signals for First 5 Rows')\n",
        "plt.legend()\n",
        "plt.grid(True)\n",
        "\n",
        "plt.tight_layout()\n",
        "plt.show()"
      ],
      "metadata": {
        "colab": {
          "base_uri": "https://localhost:8080/",
          "height": 564
        },
        "id": "pnctbqlphs3k",
        "outputId": "6c275f6d-35a5-41de-993a-e12be6ad75cb"
      },
      "execution_count": null,
      "outputs": [
        {
          "output_type": "stream",
          "name": "stderr",
          "text": [
            "<ipython-input-25-a2ca6bb1ea27>:5: SettingWithCopyWarning: \n",
            "A value is trying to be set on a copy of a slice from a DataFrame.\n",
            "Try using .loc[row_indexer,col_indexer] = value instead\n",
            "\n",
            "See the caveats in the documentation: https://pandas.pydata.org/pandas-docs/stable/user_guide/indexing.html#returning-a-view-versus-a-copy\n",
            "  X1[eeg_columns] = X1[eeg_columns].astype(float)\n"
          ]
        },
        {
          "output_type": "display_data",
          "data": {
            "text/plain": [
              "<Figure size 2000x500 with 2 Axes>"
            ],
            "image/png": "[encoded data removed]"
          },
          "metadata": {}
        }
      ]
    },
    {
      "cell_type": "code",
      "execution_count": null,
      "metadata": {
        "id": "hUFPJWIA2_QS"
      },
      "outputs": [],
      "source": [
        "filtered_data1['y']= y1\n",
        "filtered_data2['y']= y2"
      ]
    },
    {
      "cell_type": "code",
      "execution_count": null,
      "metadata": {
        "colab": {
          "base_uri": "https://localhost:8080/",
          "height": 256
        },
        "id": "PNRzdL8R33ou",
        "outputId": "c92f7370-2205-4d77-f110-f9b78bee9f21"
      },
      "outputs": [
        {
          "output_type": "execute_result",
          "data": {
            "text/plain": [
              "           X1          X2          X3          X4          X5          X6  \\\n",
              "0  134.649371  192.061450  224.687268  223.929041  187.140368  123.253556   \n",
              "1  385.084933  365.712964  353.206693  343.605799  331.835558  313.498007   \n",
              "2  -32.727231  -36.826324  -38.294844  -38.090185  -39.567054  -43.389074   \n",
              "3 -103.635011  -96.942239  -93.865459  -92.643651  -93.435981  -97.402413   \n",
              "4   -8.640543  -63.459244  -96.121949 -101.176571  -79.329935  -42.292071   \n",
              "\n",
              "           X7          X8          X9         X10  ...        X170  \\\n",
              "0   56.315916   -0.466723  -33.493466  -36.517834  ...   -0.364494   \n",
              "1  287.174379  258.494412  245.207077  251.749524  ...  163.632665   \n",
              "2  -53.298378  -69.139101  -82.004986  -91.971480  ...   50.429666   \n",
              "3  -97.733134  -94.352441  -88.239261  -78.553293  ...  -80.809517   \n",
              "4  -14.843670   -7.309788  -25.059656  -60.062989  ...    5.737049   \n",
              "\n",
              "         X171        X172        X173        X174        X175        X176  \\\n",
              "0  -15.594395  -43.676949  -74.027950 -103.646829 -118.657853 -113.089676   \n",
              "1  158.476234  151.184701  148.532635  152.941568  154.242954  152.240058   \n",
              "2   59.268944   46.557196   22.955508   -6.947301  -29.546474  -38.086151   \n",
              "3  -81.799629  -80.715979  -79.667581  -78.162263  -75.831074  -72.931589   \n",
              "4   -0.572334  -11.411746  -27.701968  -49.673112  -66.503836  -77.442391   \n",
              "\n",
              "         X177        X178  y  \n",
              "0  -89.198425  -50.217019  4  \n",
              "1  143.747775  128.603313  1  \n",
              "2  -40.408259  -35.327476  5  \n",
              "3  -69.306950  -64.961696  5  \n",
              "4  -79.303878  -72.669784  5  \n",
              "\n",
              "[5 rows x 179 columns]"
            ],
            "text/html": [
              "\n",
              "  <div id=\"df-453040f8-4514-4ad2-888d-e99efdd909dd\" class=\"colab-df-container\">\n",
              "    <div>\n",
              "<style scoped>\n",
              "    .dataframe tbody tr th:only-of-type {\n",
              "        vertical-align: middle;\n",
              "    }\n",
              "\n",
              "    .dataframe tbody tr th {\n",
              "        vertical-align: top;\n",
              "    }\n",
              "\n",
              "    .dataframe thead th {\n",
              "        text-align: right;\n",
              "    }\n",
              "</style>\n",
              "<table border=\"1\" class=\"dataframe\">\n",
              "  <thead>\n",
              "    <tr style=\"text-align: right;\">\n",
              "      <th></th>\n",
              "      <th>X1</th>\n",
              "      <th>X2</th>\n",
              "      <th>X3</th>\n",
              "      <th>X4</th>\n",
              "      <th>X5</th>\n",
              "      <th>X6</th>\n",
              "      <th>X7</th>\n",
              "      <th>X8</th>\n",
              "      <th>X9</th>\n",
              "      <th>X10</th>\n",
              "      <th>...</th>\n",
              "      <th>X170</th>\n",
              "      <th>X171</th>\n",
              "      <th>X172</th>\n",
              "      <th>X173</th>\n",
              "      <th>X174</th>\n",
              "      <th>X175</th>\n",
              "      <th>X176</th>\n",
              "      <th>X177</th>\n",
              "      <th>X178</th>\n",
              "      <th>y</th>\n",
              "    </tr>\n",
              "  </thead>\n",
              "  <tbody>\n",
              "    <tr>\n",
              "      <th>0</th>\n",
              "      <td>134.649371</td>\n",
              "      <td>192.061450</td>\n",
              "      <td>224.687268</td>\n",
              "      <td>223.929041</td>\n",
              "      <td>187.140368</td>\n",
              "      <td>123.253556</td>\n",
              "      <td>56.315916</td>\n",
              "      <td>-0.466723</td>\n",
              "      <td>-33.493466</td>\n",
              "      <td>-36.517834</td>\n",
              "      <td>...</td>\n",
              "      <td>-0.364494</td>\n",
              "      <td>-15.594395</td>\n",
              "      <td>-43.676949</td>\n",
              "      <td>-74.027950</td>\n",
              "      <td>-103.646829</td>\n",
              "      <td>-118.657853</td>\n",
              "      <td>-113.089676</td>\n",
              "      <td>-89.198425</td>\n",
              "      <td>-50.217019</td>\n",
              "      <td>4</td>\n",
              "    </tr>\n",
              "    <tr>\n",
              "      <th>1</th>\n",
              "      <td>385.084933</td>\n",
              "      <td>365.712964</td>\n",
              "      <td>353.206693</td>\n",
              "      <td>343.605799</td>\n",
              "      <td>331.835558</td>\n",
              "      <td>313.498007</td>\n",
              "      <td>287.174379</td>\n",
              "      <td>258.494412</td>\n",
              "      <td>245.207077</td>\n",
              "      <td>251.749524</td>\n",
              "      <td>...</td>\n",
              "      <td>163.632665</td>\n",
              "      <td>158.476234</td>\n",
              "      <td>151.184701</td>\n",
              "      <td>148.532635</td>\n",
              "      <td>152.941568</td>\n",
              "      <td>154.242954</td>\n",
              "      <td>152.240058</td>\n",
              "      <td>143.747775</td>\n",
              "      <td>128.603313</td>\n",
              "      <td>1</td>\n",
              "    </tr>\n",
              "    <tr>\n",
              "      <th>2</th>\n",
              "      <td>-32.727231</td>\n",
              "      <td>-36.826324</td>\n",
              "      <td>-38.294844</td>\n",
              "      <td>-38.090185</td>\n",
              "      <td>-39.567054</td>\n",
              "      <td>-43.389074</td>\n",
              "      <td>-53.298378</td>\n",
              "      <td>-69.139101</td>\n",
              "      <td>-82.004986</td>\n",
              "      <td>-91.971480</td>\n",
              "      <td>...</td>\n",
              "      <td>50.429666</td>\n",
              "      <td>59.268944</td>\n",
              "      <td>46.557196</td>\n",
              "      <td>22.955508</td>\n",
              "      <td>-6.947301</td>\n",
              "      <td>-29.546474</td>\n",
              "      <td>-38.086151</td>\n",
              "      <td>-40.408259</td>\n",
              "      <td>-35.327476</td>\n",
              "      <td>5</td>\n",
              "    </tr>\n",
              "    <tr>\n",
              "      <th>3</th>\n",
              "      <td>-103.635011</td>\n",
              "      <td>-96.942239</td>\n",
              "      <td>-93.865459</td>\n",
              "      <td>-92.643651</td>\n",
              "      <td>-93.435981</td>\n",
              "      <td>-97.402413</td>\n",
              "      <td>-97.733134</td>\n",
              "      <td>-94.352441</td>\n",
              "      <td>-88.239261</td>\n",
              "      <td>-78.553293</td>\n",
              "      <td>...</td>\n",
              "      <td>-80.809517</td>\n",
              "      <td>-81.799629</td>\n",
              "      <td>-80.715979</td>\n",
              "      <td>-79.667581</td>\n",
              "      <td>-78.162263</td>\n",
              "      <td>-75.831074</td>\n",
              "      <td>-72.931589</td>\n",
              "      <td>-69.306950</td>\n",
              "      <td>-64.961696</td>\n",
              "      <td>5</td>\n",
              "    </tr>\n",
              "    <tr>\n",
              "      <th>4</th>\n",
              "      <td>-8.640543</td>\n",
              "      <td>-63.459244</td>\n",
              "      <td>-96.121949</td>\n",
              "      <td>-101.176571</td>\n",
              "      <td>-79.329935</td>\n",
              "      <td>-42.292071</td>\n",
              "      <td>-14.843670</td>\n",
              "      <td>-7.309788</td>\n",
              "      <td>-25.059656</td>\n",
              "      <td>-60.062989</td>\n",
              "      <td>...</td>\n",
              "      <td>5.737049</td>\n",
              "      <td>-0.572334</td>\n",
              "      <td>-11.411746</td>\n",
              "      <td>-27.701968</td>\n",
              "      <td>-49.673112</td>\n",
              "      <td>-66.503836</td>\n",
              "      <td>-77.442391</td>\n",
              "      <td>-79.303878</td>\n",
              "      <td>-72.669784</td>\n",
              "      <td>5</td>\n",
              "    </tr>\n",
              "  </tbody>\n",
              "</table>\n",
              "<p>5 rows × 179 columns</p>\n",
              "</div>\n",
              "    <div class=\"colab-df-buttons\">\n",
              "\n",
              "  <div class=\"colab-df-container\">\n",
              "    <button class=\"colab-df-convert\" onclick=\"convertToInteractive('df-453040f8-4514-4ad2-888d-e99efdd909dd')\"\n",
              "            title=\"Convert this dataframe to an interactive table.\"\n",
              "            style=\"display:none;\">\n",
              "\n",
              "  <svg xmlns=\"http://www.w3.org/2000/svg\" height=\"24px\" viewBox=\"0 -960 960 960\">\n",
              "    <path d=\"M120-120v-720h720v720H120Zm60-500h600v-160H180v160Zm220 220h160v-160H400v160Zm0 220h160v-160H400v160ZM180-400h160v-160H180v160Zm440 0h160v-160H620v160ZM180-180h160v-160H180v160Zm440 0h160v-160H620v160Z\"/>\n",
              "  </svg>\n",
              "    </button>\n",
              "\n",
              "  <style>\n",
              "    .colab-df-container {\n",
              "      display:flex;\n",
              "      gap: 12px;\n",
              "    }\n",
              "\n",
              "    .colab-df-convert {\n",
              "      background-color: #E8F0FE;\n",
              "      border: none;\n",
              "      border-radius: 50%;\n",
              "      cursor: pointer;\n",
              "      display: none;\n",
              "      fill: #1967D2;\n",
              "      height: 32px;\n",
              "      padding: 0 0 0 0;\n",
              "      width: 32px;\n",
              "    }\n",
              "\n",
              "    .colab-df-convert:hover {\n",
              "      background-color: #E2EBFA;\n",
              "      box-shadow: 0px 1px 2px rgba(60, 64, 67, 0.3), 0px 1px 3px 1px rgba(60, 64, 67, 0.15);\n",
              "      fill: #174EA6;\n",
              "    }\n",
              "\n",
              "    .colab-df-buttons div {\n",
              "      margin-bottom: 4px;\n",
              "    }\n",
              "\n",
              "    [theme=dark] .colab-df-convert {\n",
              "      background-color: #3B4455;\n",
              "      fill: #D2E3FC;\n",
              "    }\n",
              "\n",
              "    [theme=dark] .colab-df-convert:hover {\n",
              "      background-color: #434B5C;\n",
              "      box-shadow: 0px 1px 3px 1px rgba(0, 0, 0, 0.15);\n",
              "      filter: drop-shadow(0px 1px 2px rgba(0, 0, 0, 0.3));\n",
              "      fill: #FFFFFF;\n",
              "    }\n",
              "  </style>\n",
              "\n",
              "    <script>\n",
              "      const buttonEl =\n",
              "        document.querySelector('#df-453040f8-4514-4ad2-888d-e99efdd909dd button.colab-df-convert');\n",
              "      buttonEl.style.display =\n",
              "        google.colab.kernel.accessAllowed ? 'block' : 'none';\n",
              "\n",
              "      async function convertToInteractive(key) {\n",
              "        const element = document.querySelector('#df-453040f8-4514-4ad2-888d-e99efdd909dd');\n",
              "        const dataTable =\n",
              "          await google.colab.kernel.invokeFunction('convertToInteractive',\n",
              "                                                    [key], {});\n",
              "        if (!dataTable) return;\n",
              "\n",
              "        const docLinkHtml = 'Like what you see? Visit the ' +\n",
              "          '<a target=\"_blank\" href=https://colab.research.google.com/notebooks/data_table.ipynb>data table notebook</a>'\n",
              "          + ' to learn more about interactive tables.';\n",
              "        element.innerHTML = '';\n",
              "        dataTable['output_type'] = 'display_data';\n",
              "        await google.colab.output.renderOutput(dataTable, element);\n",
              "        const docLink = document.createElement('div');\n",
              "        docLink.innerHTML = docLinkHtml;\n",
              "        element.appendChild(docLink);\n",
              "      }\n",
              "    </script>\n",
              "  </div>\n",
              "\n",
              "\n",
              "<div id=\"df-df0ff9c5-0f5f-4287-9efe-428338ef4f79\">\n",
              "  <button class=\"colab-df-quickchart\" onclick=\"quickchart('df-df0ff9c5-0f5f-4287-9efe-428338ef4f79')\"\n",
              "            title=\"Suggest charts\"\n",
              "            style=\"display:none;\">\n",
              "\n",
              "<svg xmlns=\"http://www.w3.org/2000/svg\" height=\"24px\"viewBox=\"0 0 24 24\"\n",
              "     width=\"24px\">\n",
              "    <g>\n",
              "        <path d=\"M19 3H5c-1.1 0-2 .9-2 2v14c0 1.1.9 2 2 2h14c1.1 0 2-.9 2-2V5c0-1.1-.9-2-2-2zM9 17H7v-7h2v7zm4 0h-2V7h2v10zm4 0h-2v-4h2v4z\"/>\n",
              "    </g>\n",
              "</svg>\n",
              "  </button>\n",
              "\n",
              "<style>\n",
              "  .colab-df-quickchart {\n",
              "      --bg-color: #E8F0FE;\n",
              "      --fill-color: #1967D2;\n",
              "      --hover-bg-color: #E2EBFA;\n",
              "      --hover-fill-color: #174EA6;\n",
              "      --disabled-fill-color: #AAA;\n",
              "      --disabled-bg-color: #DDD;\n",
              "  }\n",
              "\n",
              "  [theme=dark] .colab-df-quickchart {\n",
              "      --bg-color: #3B4455;\n",
              "      --fill-color: #D2E3FC;\n",
              "      --hover-bg-color: #434B5C;\n",
              "      --hover-fill-color: #FFFFFF;\n",
              "      --disabled-bg-color: #3B4455;\n",
              "      --disabled-fill-color: #666;\n",
              "  }\n",
              "\n",
              "  .colab-df-quickchart {\n",
              "    background-color: var(--bg-color);\n",
              "    border: none;\n",
              "    border-radius: 50%;\n",
              "    cursor: pointer;\n",
              "    display: none;\n",
              "    fill: var(--fill-color);\n",
              "    height: 32px;\n",
              "    padding: 0;\n",
              "    width: 32px;\n",
              "  }\n",
              "\n",
              "  .colab-df-quickchart:hover {\n",
              "    background-color: var(--hover-bg-color);\n",
              "    box-shadow: 0 1px 2px rgba(60, 64, 67, 0.3), 0 1px 3px 1px rgba(60, 64, 67, 0.15);\n",
              "    fill: var(--button-hover-fill-color);\n",
              "  }\n",
              "\n",
              "  .colab-df-quickchart-complete:disabled,\n",
              "  .colab-df-quickchart-complete:disabled:hover {\n",
              "    background-color: var(--disabled-bg-color);\n",
              "    fill: var(--disabled-fill-color);\n",
              "    box-shadow: none;\n",
              "  }\n",
              "\n",
              "  .colab-df-spinner {\n",
              "    border: 2px solid var(--fill-color);\n",
              "    border-color: transparent;\n",
              "    border-bottom-color: var(--fill-color);\n",
              "    animation:\n",
              "      spin 1s steps(1) infinite;\n",
              "  }\n",
              "\n",
              "  @keyframes spin {\n",
              "    0% {\n",
              "      border-color: transparent;\n",
              "      border-bottom-color: var(--fill-color);\n",
              "      border-left-color: var(--fill-color);\n",
              "    }\n",
              "    20% {\n",
              "      border-color: transparent;\n",
              "      border-left-color: var(--fill-color);\n",
              "      border-top-color: var(--fill-color);\n",
              "    }\n",
              "    30% {\n",
              "      border-color: transparent;\n",
              "      border-left-color: var(--fill-color);\n",
              "      border-top-color: var(--fill-color);\n",
              "      border-right-color: var(--fill-color);\n",
              "    }\n",
              "    40% {\n",
              "      border-color: transparent;\n",
              "      border-right-color: var(--fill-color);\n",
              "      border-top-color: var(--fill-color);\n",
              "    }\n",
              "    60% {\n",
              "      border-color: transparent;\n",
              "      border-right-color: var(--fill-color);\n",
              "    }\n",
              "    80% {\n",
              "      border-color: transparent;\n",
              "      border-right-color: var(--fill-color);\n",
              "      border-bottom-color: var(--fill-color);\n",
              "    }\n",
              "    90% {\n",
              "      border-color: transparent;\n",
              "      border-bottom-color: var(--fill-color);\n",
              "    }\n",
              "  }\n",
              "</style>\n",
              "\n",
              "  <script>\n",
              "    async function quickchart(key) {\n",
              "      const quickchartButtonEl =\n",
              "        document.querySelector('#' + key + ' button');\n",
              "      quickchartButtonEl.disabled = true;  // To prevent multiple clicks.\n",
              "      quickchartButtonEl.classList.add('colab-df-spinner');\n",
              "      try {\n",
              "        const charts = await google.colab.kernel.invokeFunction(\n",
              "            'suggestCharts', [key], {});\n",
              "      } catch (error) {\n",
              "        console.error('Error during call to suggestCharts:', error);\n",
              "      }\n",
              "      quickchartButtonEl.classList.remove('colab-df-spinner');\n",
              "      quickchartButtonEl.classList.add('colab-df-quickchart-complete');\n",
              "    }\n",
              "    (() => {\n",
              "      let quickchartButtonEl =\n",
              "        document.querySelector('#df-df0ff9c5-0f5f-4287-9efe-428338ef4f79 button');\n",
              "      quickchartButtonEl.style.display =\n",
              "        google.colab.kernel.accessAllowed ? 'block' : 'none';\n",
              "    })();\n",
              "  </script>\n",
              "</div>\n",
              "\n",
              "    </div>\n",
              "  </div>\n"
            ],
            "application/vnd.google.colaboratory.intrinsic+json": {
              "type": "dataframe",
              "variable_name": "filtered_data1"
            }
          },
          "metadata": {},
          "execution_count": 27
        }
      ],
      "source": [
        "filtered_data1.head()"
      ]
    },
    {
      "cell_type": "markdown",
      "metadata": {
        "id": "OszZKkexLIhN"
      },
      "source": [
        "# **Dataset splitting**"
      ]
    },
    {
      "cell_type": "code",
      "execution_count": null,
      "metadata": {
        "id": "fvG-kXk1LIhO"
      },
      "outputs": [],
      "source": [
        "X3 = filtered_data1.iloc[:,0:-1].values\n",
        "X4 = filtered_data2.iloc[:,0:-1].values"
      ]
    },
    {
      "cell_type": "code",
      "execution_count": null,
      "metadata": {
        "id": "SnriA7vILIhO"
      },
      "outputs": [],
      "source": [
        "y3 = filtered_data1.iloc[:,-1:].values\n",
        "y3[y3>1] = 0"
      ]
    },
    {
      "cell_type": "code",
      "execution_count": null,
      "metadata": {
        "id": "UUTe7_2nZnUW"
      },
      "outputs": [],
      "source": [
        "y4 = filtered_data2.iloc[:,-1:].values\n",
        "y4[y4>1] = 0"
      ]
    },
    {
      "cell_type": "markdown",
      "metadata": {
        "id": "nQkcfD_gLIhP"
      },
      "source": [
        "# **Model Implementation**"
      ]
    },
    {
      "cell_type": "markdown",
      "source": [
        "# **Transfer Learning**\n",
        "1) Alexnet\n",
        "\n",
        "2) Denset\n",
        "\n",
        "3) Googlenet\n",
        "\n",
        "4) VGG\n",
        "\n",
        "5) Resnet"
      ],
      "metadata": {
        "id": "nGGYux1xiGSN"
      }
    },
    {
      "cell_type": "markdown",
      "metadata": {
        "id": "zRS2FAQlcOxW"
      },
      "source": [
        "**Alexnet model**"
      ]
    },
    {
      "cell_type": "code",
      "execution_count": null,
      "metadata": {
        "id": "P2C2mqGS9dr7"
      },
      "outputs": [],
      "source": [
        "def build_eeg_alexnet(input_shape, num_classes):\n",
        "    model = models.Sequential()\n",
        "\n",
        "    # Convolutional layers\n",
        "    model.add(layers.Conv1D(96, kernel_size=11, strides=4, activation='relu', input_shape=input_shape))\n",
        "    model.add(layers.MaxPooling1D(pool_size=3, strides=2))\n",
        "    model.add(layers.Conv1D(256, kernel_size=5, padding='same', activation='relu'))\n",
        "    model.add(layers.MaxPooling1D(pool_size=3, strides=2))\n",
        "    model.add(layers.Conv1D(384, kernel_size=3, padding='same', activation='relu'))\n",
        "    model.add(layers.Conv1D(384, kernel_size=3, padding='same', activation='relu'))\n",
        "    model.add(layers.Conv1D(256, kernel_size=3, padding='same', activation='relu'))\n",
        "    model.add(layers.MaxPooling1D(pool_size=3, strides=2))\n",
        "\n",
        "    # Flatten layer\n",
        "    model.add(layers.Flatten())\n",
        "\n",
        "    # Fully connected layers\n",
        "    model.add(layers.Dense(4096, activation='relu'))\n",
        "    model.add(layers.Dropout(0.5))\n",
        "    model.add(layers.Dense(4096, activation='relu'))\n",
        "    model.add(layers.Dropout(0.5))\n",
        "\n",
        "    # Output layer\n",
        "    model.add(layers.Dense(num_classes, activation='softmax'))\n",
        "\n",
        "    return model"
      ]
    },
    {
      "cell_type": "code",
      "execution_count": null,
      "metadata": {
        "id": "EYHmkBkHCgUJ"
      },
      "outputs": [],
      "source": [
        "X_train, X_temp, y_train, y_temp = train_test_split(X3, y3, test_size=0.2, random_state=42)\n",
        "X_val, X_test, y_val, y_test = train_test_split(X_temp, y_temp, test_size=0.5, random_state=42)"
      ]
    },
    {
      "cell_type": "code",
      "execution_count": null,
      "metadata": {
        "id": "fwUOBFLn9aTp"
      },
      "outputs": [],
      "source": [
        "X_train = np.expand_dims(X_train, axis=-1)\n",
        "X_val = np.expand_dims(X_val, axis=-1)\n",
        "X_test = np.expand_dims(X_test, axis=-1)"
      ]
    },
    {
      "cell_type": "code",
      "execution_count": null,
      "metadata": {
        "id": "L3bRpG5h9lzM"
      },
      "outputs": [],
      "source": [
        "input_shape = (178, 1)\n",
        "num_classes = 2"
      ]
    },
    {
      "cell_type": "code",
      "execution_count": null,
      "metadata": {
        "id": "dRzGunbH9m6c"
      },
      "outputs": [],
      "source": [
        "eeg_alexnet = build_eeg_alexnet(input_shape, num_classes)"
      ]
    },
    {
      "cell_type": "code",
      "execution_count": null,
      "metadata": {
        "id": "VunlQ6TT9oQE"
      },
      "outputs": [],
      "source": [
        "eeg_alexnet.compile(optimizer='adam',\n",
        "                     loss='sparse_categorical_crossentropy',\n",
        "                     metrics=['accuracy'])"
      ]
    },
    {
      "cell_type": "code",
      "execution_count": null,
      "metadata": {
        "colab": {
          "base_uri": "https://localhost:8080/"
        },
        "id": "1S01ziMd9pvd",
        "outputId": "3c6e0d28-b1b8-48ff-991e-ede69ff5a924"
      },
      "outputs": [
        {
          "output_type": "stream",
          "name": "stdout",
          "text": [
            "Epoch 1/5\n",
            "150/150 [==============================] - 96s 626ms/step - loss: 0.7197 - accuracy: 0.9133 - val_loss: 0.0880 - val_accuracy: 0.9750\n",
            "Epoch 2/5\n",
            "150/150 [==============================] - 91s 607ms/step - loss: 0.0854 - accuracy: 0.9735 - val_loss: 0.1558 - val_accuracy: 0.9533\n",
            "Epoch 3/5\n",
            "150/150 [==============================] - 102s 680ms/step - loss: 0.0823 - accuracy: 0.9742 - val_loss: 0.0953 - val_accuracy: 0.9633\n",
            "Epoch 4/5\n",
            "150/150 [==============================] - 95s 635ms/step - loss: 0.2533 - accuracy: 0.9344 - val_loss: 0.1488 - val_accuracy: 0.9433\n",
            "Epoch 5/5\n",
            "150/150 [==============================] - 94s 630ms/step - loss: 0.1327 - accuracy: 0.9500 - val_loss: 0.1628 - val_accuracy: 0.9417\n"
          ]
        }
      ],
      "source": [
        "history_alexnet = eeg_alexnet.fit(X_train, y_train,\n",
        "                           epochs=5,\n",
        "                           validation_data=(X_val, y_val))"
      ]
    },
    {
      "cell_type": "code",
      "execution_count": null,
      "metadata": {
        "colab": {
          "base_uri": "https://localhost:8080/"
        },
        "id": "xC2Ah8HacPFM",
        "outputId": "60aceb02-65e5-4635-a545-d89e75a3f27a"
      },
      "outputs": [
        {
          "output_type": "stream",
          "name": "stdout",
          "text": [
            "19/19 [==============================] - 1s 58ms/step - loss: 0.1462 - accuracy: 0.9417\n",
            "Test accuracy: 0.9416666626930237\n"
          ]
        }
      ],
      "source": [
        "test_loss, accuracy_alexnet = eeg_alexnet.evaluate(X_test, y_test)\n",
        "print('Test accuracy:', accuracy_alexnet)"
      ]
    },
    {
      "cell_type": "code",
      "execution_count": null,
      "metadata": {
        "id": "xtq5HPLhzCCJ"
      },
      "outputs": [],
      "source": [
        "train_losses_alexnet = history_alexnet.history['loss']"
      ]
    },
    {
      "cell_type": "code",
      "execution_count": null,
      "metadata": {
        "colab": {
          "base_uri": "https://localhost:8080/"
        },
        "id": "uJSgwhFp95d_",
        "outputId": "edb2211f-8b41-423b-fa74-c417ca088f7c"
      },
      "outputs": [
        {
          "output_type": "stream",
          "name": "stdout",
          "text": [
            "19/19 [==============================] - 1s 57ms/step\n"
          ]
        }
      ],
      "source": [
        "y_pred_alexnet = eeg_alexnet.predict(X_test)"
      ]
    },
    {
      "cell_type": "code",
      "execution_count": null,
      "metadata": {
        "id": "zVPyVV-O98Hf"
      },
      "outputs": [],
      "source": [
        "y_pred_labels_alexnet = np.argmax(y_pred_alexnet, axis=1)"
      ]
    },
    {
      "cell_type": "code",
      "execution_count": null,
      "metadata": {
        "colab": {
          "base_uri": "https://localhost:8080/"
        },
        "id": "RDBrDILX995X",
        "outputId": "8d1e37e2-4899-45c3-f6b3-620c73f45612"
      },
      "outputs": [
        {
          "output_type": "stream",
          "name": "stdout",
          "text": [
            "Precision (Alexnet): 0.9547155934149292\n"
          ]
        }
      ],
      "source": [
        "precision_alexnet = precision_score(y_test, y_pred_labels_alexnet, average='weighted')\n",
        "print(\"Precision (Alexnet):\", precision_alexnet)"
      ]
    },
    {
      "cell_type": "code",
      "execution_count": null,
      "metadata": {
        "colab": {
          "base_uri": "https://localhost:8080/"
        },
        "id": "4U-yz28P-A7X",
        "outputId": "70867334-fc37-4068-9a61-580a5967d625"
      },
      "outputs": [
        {
          "output_type": "stream",
          "name": "stdout",
          "text": [
            "Recall (Alexnet): 0.9416666666666667\n"
          ]
        }
      ],
      "source": [
        "recall_alexnet = recall_score(y_test, y_pred_labels_alexnet, average='weighted')\n",
        "print(\"Recall (Alexnet):\", recall_alexnet)"
      ]
    },
    {
      "cell_type": "code",
      "execution_count": null,
      "metadata": {
        "colab": {
          "base_uri": "https://localhost:8080/"
        },
        "id": "LRpp6rwItybA",
        "outputId": "2e721620-bb76-4851-ccdd-1bb89e1c8f84"
      },
      "outputs": [
        {
          "output_type": "stream",
          "name": "stdout",
          "text": [
            "F1-score (Alexnet): 0.9444871025207214\n"
          ]
        }
      ],
      "source": [
        "f1_score_alexnet = f1_score(y_test, y_pred_labels_alexnet, average='weighted')\n",
        "print(\"F1-score (Alexnet):\", f1_score_alexnet)"
      ]
    },
    {
      "cell_type": "markdown",
      "metadata": {
        "id": "8MXpH9QsqDNm"
      },
      "source": [
        "**Densenet model**"
      ]
    },
    {
      "cell_type": "code",
      "execution_count": null,
      "metadata": {
        "id": "N5GVtXbYLIhP"
      },
      "outputs": [],
      "source": [
        "def denseBlock(dims,inp) :\n",
        "    x = tf.keras.layers.BatchNormalization() (inp)\n",
        "    x = tf.keras.layers.Dense(dims,activation=tf.keras.layers.LeakyReLU(0.2)) (x)\n",
        "    x = tf.keras.layers.Dropout(0.4) (x)\n",
        "    x = tf.keras.layers.Dense(dims,activation=tf.keras.layers.LeakyReLU(0.2)) (x)\n",
        "    x = tf.keras.layers.Dropout(0.4) (x)\n",
        "    x = tf.keras.layers.Dense(dims,activation=tf.keras.layers.LeakyReLU(0.2)) (x)\n",
        "    x = tf.keras.layers.Dropout(0.4) (x)\n",
        "    x = tf.keras.layers.Dense(178,activation=tf.keras.layers.LeakyReLU(0.2)) (x)\n",
        "    return x"
      ]
    },
    {
      "cell_type": "code",
      "execution_count": null,
      "metadata": {
        "id": "PRC7NY2Qc5Wf"
      },
      "outputs": [],
      "source": [
        "inp = tf.keras.layers.Input(shape=(178,),name='input')"
      ]
    },
    {
      "cell_type": "code",
      "execution_count": null,
      "metadata": {
        "id": "yt6SXMmQc6zg"
      },
      "outputs": [],
      "source": [
        "x1 = denseBlock(256,inp)\n",
        "x2 = denseBlock(512,inp)\n",
        "x3 = denseBlock(1024,inp)"
      ]
    },
    {
      "cell_type": "code",
      "execution_count": null,
      "metadata": {
        "id": "R5WwMT6Jc78Q"
      },
      "outputs": [],
      "source": [
        "x = tf.keras.layers.Concatenate()([x1,x2,x3])\n",
        "x = tf.keras.layers.Dense(128,activation=tf.keras.layers.LeakyReLU(0.2)) (x)"
      ]
    },
    {
      "cell_type": "code",
      "execution_count": null,
      "metadata": {
        "id": "pWAjGT9Qc9Q_"
      },
      "outputs": [],
      "source": [
        "out = tf.keras.layers.Dense(1,activation='sigmoid',name='output') (x)"
      ]
    },
    {
      "cell_type": "code",
      "execution_count": null,
      "metadata": {
        "id": "MZsTbKo4c-Yg"
      },
      "outputs": [],
      "source": [
        "eeg_densenet_model = tf.keras.models.Model(inp,out)"
      ]
    },
    {
      "cell_type": "code",
      "execution_count": null,
      "metadata": {
        "colab": {
          "base_uri": "https://localhost:8080/"
        },
        "id": "gG2rmIqJLIhP",
        "outputId": "9966fd00-44a8-4b34-df62-6c9574395bfd"
      },
      "outputs": [
        {
          "output_type": "stream",
          "name": "stdout",
          "text": [
            "Model: \"model\"\n",
            "__________________________________________________________________________________________________\n",
            " Layer (type)                Output Shape                 Param #   Connected to                  \n",
            "==================================================================================================\n",
            " input (InputLayer)          [(None, 178)]                0         []                            \n",
            "                                                                                                  \n",
            " batch_normalization (Batch  (None, 178)                  712       ['input[0][0]']               \n",
            " Normalization)                                                                                   \n",
            "                                                                                                  \n",
            " batch_normalization_1 (Bat  (None, 178)                  712       ['input[0][0]']               \n",
            " chNormalization)                                                                                 \n",
            "                                                                                                  \n",
            " batch_normalization_2 (Bat  (None, 178)                  712       ['input[0][0]']               \n",
            " chNormalization)                                                                                 \n",
            "                                                                                                  \n",
            " dense_3 (Dense)             (None, 256)                  45824     ['batch_normalization[0][0]'] \n",
            "                                                                                                  \n",
            " dense_7 (Dense)             (None, 512)                  91648     ['batch_normalization_1[0][0]'\n",
            "                                                                    ]                             \n",
            "                                                                                                  \n",
            " dense_11 (Dense)            (None, 1024)                 183296    ['batch_normalization_2[0][0]'\n",
            "                                                                    ]                             \n",
            "                                                                                                  \n",
            " dropout_2 (Dropout)         (None, 256)                  0         ['dense_3[0][0]']             \n",
            "                                                                                                  \n",
            " dropout_5 (Dropout)         (None, 512)                  0         ['dense_7[0][0]']             \n",
            "                                                                                                  \n",
            " dropout_8 (Dropout)         (None, 1024)                 0         ['dense_11[0][0]']            \n",
            "                                                                                                  \n",
            " dense_4 (Dense)             (None, 256)                  65792     ['dropout_2[0][0]']           \n",
            "                                                                                                  \n",
            " dense_8 (Dense)             (None, 512)                  262656    ['dropout_5[0][0]']           \n",
            "                                                                                                  \n",
            " dense_12 (Dense)            (None, 1024)                 1049600   ['dropout_8[0][0]']           \n",
            "                                                                                                  \n",
            " dropout_3 (Dropout)         (None, 256)                  0         ['dense_4[0][0]']             \n",
            "                                                                                                  \n",
            " dropout_6 (Dropout)         (None, 512)                  0         ['dense_8[0][0]']             \n",
            "                                                                                                  \n",
            " dropout_9 (Dropout)         (None, 1024)                 0         ['dense_12[0][0]']            \n",
            "                                                                                                  \n",
            " dense_5 (Dense)             (None, 256)                  65792     ['dropout_3[0][0]']           \n",
            "                                                                                                  \n",
            " dense_9 (Dense)             (None, 512)                  262656    ['dropout_6[0][0]']           \n",
            "                                                                                                  \n",
            " dense_13 (Dense)            (None, 1024)                 1049600   ['dropout_9[0][0]']           \n",
            "                                                                                                  \n",
            " dropout_4 (Dropout)         (None, 256)                  0         ['dense_5[0][0]']             \n",
            "                                                                                                  \n",
            " dropout_7 (Dropout)         (None, 512)                  0         ['dense_9[0][0]']             \n",
            "                                                                                                  \n",
            " dropout_10 (Dropout)        (None, 1024)                 0         ['dense_13[0][0]']            \n",
            "                                                                                                  \n",
            " dense_6 (Dense)             (None, 178)                  45746     ['dropout_4[0][0]']           \n",
            "                                                                                                  \n",
            " dense_10 (Dense)            (None, 178)                  91314     ['dropout_7[0][0]']           \n",
            "                                                                                                  \n",
            " dense_14 (Dense)            (None, 178)                  182450    ['dropout_10[0][0]']          \n",
            "                                                                                                  \n",
            " concatenate (Concatenate)   (None, 534)                  0         ['dense_6[0][0]',             \n",
            "                                                                     'dense_10[0][0]',            \n",
            "                                                                     'dense_14[0][0]']            \n",
            "                                                                                                  \n",
            " dense_15 (Dense)            (None, 128)                  68480     ['concatenate[0][0]']         \n",
            "                                                                                                  \n",
            " output (Dense)              (None, 1)                    129       ['dense_15[0][0]']            \n",
            "                                                                                                  \n",
            "==================================================================================================\n",
            "Total params: 3467119 (13.23 MB)\n",
            "Trainable params: 3466051 (13.22 MB)\n",
            "Non-trainable params: 1068 (4.17 KB)\n",
            "__________________________________________________________________________________________________\n"
          ]
        }
      ],
      "source": [
        "eeg_densenet_model.summary()"
      ]
    },
    {
      "cell_type": "code",
      "execution_count": null,
      "metadata": {
        "colab": {
          "base_uri": "https://localhost:8080/"
        },
        "id": "RmCl3mcSB8wD",
        "outputId": "f591dcb0-656d-4f13-8b78-95db50037ea6"
      },
      "outputs": [
        {
          "output_type": "execute_result",
          "data": {
            "text/plain": [
              "((4499, 178), (1500, 1))"
            ]
          },
          "metadata": {},
          "execution_count": 82
        }
      ],
      "source": [
        "X_train, X_test, y_train, y_test = train_test_split(X3,y3,test_size=0.25,shuffle=True)\n",
        "X_train.shape,y_test.shape"
      ]
    },
    {
      "cell_type": "code",
      "execution_count": null,
      "metadata": {
        "colab": {
          "base_uri": "https://localhost:8080/"
        },
        "id": "K0TWMNrbLIhQ",
        "outputId": "67a94231-b3b4-4a49-c494-b7f4cd05d98d"
      },
      "outputs": [
        {
          "output_type": "stream",
          "name": "stdout",
          "text": [
            "Epoch 1/50\n",
            "29/29 [==============================] - 7s 109ms/step - loss: 0.6829 - accuracy: 0.5949 - val_loss: 0.6233 - val_accuracy: 0.8311\n",
            "Epoch 2/50\n",
            "29/29 [==============================] - 4s 152ms/step - loss: 0.5780 - accuracy: 0.8174 - val_loss: 0.4660 - val_accuracy: 0.8856\n",
            "Epoch 3/50\n",
            "29/29 [==============================] - 3s 97ms/step - loss: 0.4601 - accuracy: 0.8914 - val_loss: 0.3388 - val_accuracy: 0.9178\n",
            "Epoch 4/50\n",
            "29/29 [==============================] - 3s 98ms/step - loss: 0.3307 - accuracy: 0.9239 - val_loss: 0.2238 - val_accuracy: 0.9478\n",
            "Epoch 5/50\n",
            "29/29 [==============================] - 3s 103ms/step - loss: 0.2464 - accuracy: 0.9400 - val_loss: 0.1840 - val_accuracy: 0.9533\n",
            "Epoch 6/50\n",
            "29/29 [==============================] - 4s 127ms/step - loss: 0.1933 - accuracy: 0.9528 - val_loss: 0.2205 - val_accuracy: 0.9356\n",
            "Epoch 7/50\n",
            "29/29 [==============================] - 3s 119ms/step - loss: 0.1656 - accuracy: 0.9542 - val_loss: 0.1573 - val_accuracy: 0.9556\n",
            "Epoch 8/50\n",
            "29/29 [==============================] - 3s 96ms/step - loss: 0.1490 - accuracy: 0.9583 - val_loss: 0.1244 - val_accuracy: 0.9611\n",
            "Epoch 9/50\n",
            "29/29 [==============================] - 3s 97ms/step - loss: 0.1387 - accuracy: 0.9600 - val_loss: 0.1418 - val_accuracy: 0.9544\n",
            "Epoch 10/50\n",
            "29/29 [==============================] - 3s 103ms/step - loss: 0.1227 - accuracy: 0.9639 - val_loss: 0.1338 - val_accuracy: 0.9589\n",
            "Epoch 11/50\n",
            "29/29 [==============================] - 4s 144ms/step - loss: 0.1003 - accuracy: 0.9689 - val_loss: 0.1521 - val_accuracy: 0.9489\n",
            "Epoch 12/50\n",
            "29/29 [==============================] - 3s 97ms/step - loss: 0.1198 - accuracy: 0.9636 - val_loss: 0.1030 - val_accuracy: 0.9633\n",
            "Epoch 13/50\n",
            "29/29 [==============================] - 3s 96ms/step - loss: 0.1108 - accuracy: 0.9644 - val_loss: 0.1072 - val_accuracy: 0.9622\n",
            "Epoch 14/50\n",
            "29/29 [==============================] - 3s 98ms/step - loss: 0.0848 - accuracy: 0.9753 - val_loss: 0.1263 - val_accuracy: 0.9556\n",
            "Epoch 15/50\n",
            "29/29 [==============================] - 4s 130ms/step - loss: 0.0868 - accuracy: 0.9728 - val_loss: 0.1171 - val_accuracy: 0.9600\n",
            "Epoch 16/50\n",
            "29/29 [==============================] - 3s 119ms/step - loss: 0.0913 - accuracy: 0.9717 - val_loss: 0.1277 - val_accuracy: 0.9589\n",
            "Epoch 17/50\n",
            "29/29 [==============================] - 3s 97ms/step - loss: 0.0794 - accuracy: 0.9736 - val_loss: 0.1112 - val_accuracy: 0.9600\n",
            "Epoch 18/50\n",
            "29/29 [==============================] - 3s 99ms/step - loss: 0.0772 - accuracy: 0.9739 - val_loss: 0.1143 - val_accuracy: 0.9611\n",
            "Epoch 19/50\n",
            "29/29 [==============================] - 3s 105ms/step - loss: 0.0730 - accuracy: 0.9786 - val_loss: 0.1386 - val_accuracy: 0.9600\n",
            "Epoch 20/50\n",
            "29/29 [==============================] - 4s 142ms/step - loss: 0.0922 - accuracy: 0.9711 - val_loss: 0.0975 - val_accuracy: 0.9678\n",
            "Epoch 21/50\n",
            "29/29 [==============================] - 3s 98ms/step - loss: 0.0685 - accuracy: 0.9775 - val_loss: 0.1026 - val_accuracy: 0.9667\n",
            "Epoch 22/50\n",
            "29/29 [==============================] - 3s 96ms/step - loss: 0.0611 - accuracy: 0.9808 - val_loss: 0.1094 - val_accuracy: 0.9622\n",
            "Epoch 23/50\n",
            "29/29 [==============================] - 3s 96ms/step - loss: 0.0668 - accuracy: 0.9772 - val_loss: 0.0842 - val_accuracy: 0.9733\n",
            "Epoch 24/50\n",
            "29/29 [==============================] - 4s 131ms/step - loss: 0.0588 - accuracy: 0.9819 - val_loss: 0.1098 - val_accuracy: 0.9622\n",
            "Epoch 25/50\n",
            "29/29 [==============================] - 3s 118ms/step - loss: 0.0662 - accuracy: 0.9780 - val_loss: 0.1188 - val_accuracy: 0.9578\n",
            "Epoch 26/50\n",
            "29/29 [==============================] - 3s 98ms/step - loss: 0.0615 - accuracy: 0.9764 - val_loss: 0.1087 - val_accuracy: 0.9622\n",
            "Epoch 27/50\n",
            "29/29 [==============================] - 3s 97ms/step - loss: 0.0638 - accuracy: 0.9797 - val_loss: 0.1043 - val_accuracy: 0.9633\n",
            "Epoch 28/50\n",
            "29/29 [==============================] - 3s 105ms/step - loss: 0.0564 - accuracy: 0.9822 - val_loss: 0.0991 - val_accuracy: 0.9644\n",
            "Epoch 29/50\n",
            "29/29 [==============================] - 4s 144ms/step - loss: 0.0487 - accuracy: 0.9831 - val_loss: 0.1073 - val_accuracy: 0.9656\n",
            "Epoch 30/50\n",
            "29/29 [==============================] - 3s 98ms/step - loss: 0.0493 - accuracy: 0.9831 - val_loss: 0.0874 - val_accuracy: 0.9678\n",
            "Epoch 31/50\n",
            "29/29 [==============================] - 3s 98ms/step - loss: 0.0727 - accuracy: 0.9786 - val_loss: 0.0889 - val_accuracy: 0.9678\n",
            "Epoch 32/50\n",
            "29/29 [==============================] - 3s 98ms/step - loss: 0.0516 - accuracy: 0.9825 - val_loss: 0.0856 - val_accuracy: 0.9689\n",
            "Epoch 33/50\n",
            "29/29 [==============================] - 4s 132ms/step - loss: 0.0529 - accuracy: 0.9800 - val_loss: 0.1272 - val_accuracy: 0.9578\n",
            "Epoch 34/50\n",
            "29/29 [==============================] - 3s 117ms/step - loss: 0.0486 - accuracy: 0.9828 - val_loss: 0.0897 - val_accuracy: 0.9700\n",
            "Epoch 35/50\n",
            "29/29 [==============================] - 3s 99ms/step - loss: 0.0472 - accuracy: 0.9850 - val_loss: 0.0903 - val_accuracy: 0.9711\n",
            "Epoch 36/50\n",
            "29/29 [==============================] - 3s 99ms/step - loss: 0.0545 - accuracy: 0.9825 - val_loss: 0.0944 - val_accuracy: 0.9678\n",
            "Epoch 37/50\n",
            "29/29 [==============================] - 3s 106ms/step - loss: 0.0457 - accuracy: 0.9856 - val_loss: 0.1234 - val_accuracy: 0.9600\n",
            "Epoch 38/50\n",
            "29/29 [==============================] - 4s 149ms/step - loss: 0.0398 - accuracy: 0.9839 - val_loss: 0.1119 - val_accuracy: 0.9622\n",
            "Epoch 39/50\n",
            "29/29 [==============================] - 3s 105ms/step - loss: 0.0565 - accuracy: 0.9817 - val_loss: 0.0765 - val_accuracy: 0.9744\n",
            "Epoch 40/50\n",
            "29/29 [==============================] - 3s 98ms/step - loss: 0.0470 - accuracy: 0.9822 - val_loss: 0.0919 - val_accuracy: 0.9644\n",
            "Epoch 41/50\n",
            "29/29 [==============================] - 3s 99ms/step - loss: 0.0428 - accuracy: 0.9853 - val_loss: 0.1086 - val_accuracy: 0.9622\n",
            "Epoch 42/50\n",
            "29/29 [==============================] - 4s 144ms/step - loss: 0.0604 - accuracy: 0.9786 - val_loss: 0.0756 - val_accuracy: 0.9700\n",
            "Epoch 43/50\n",
            "29/29 [==============================] - 3s 111ms/step - loss: 0.0674 - accuracy: 0.9778 - val_loss: 0.0743 - val_accuracy: 0.9711\n",
            "Epoch 44/50\n",
            "29/29 [==============================] - 3s 100ms/step - loss: 0.0600 - accuracy: 0.9808 - val_loss: 0.0810 - val_accuracy: 0.9744\n",
            "Epoch 45/50\n",
            "29/29 [==============================] - 3s 98ms/step - loss: 0.0409 - accuracy: 0.9847 - val_loss: 0.0802 - val_accuracy: 0.9744\n",
            "Epoch 46/50\n",
            "29/29 [==============================] - 4s 122ms/step - loss: 0.0428 - accuracy: 0.9833 - val_loss: 0.0766 - val_accuracy: 0.9733\n",
            "Epoch 47/50\n",
            "29/29 [==============================] - 4s 131ms/step - loss: 0.0413 - accuracy: 0.9858 - val_loss: 0.1123 - val_accuracy: 0.9656\n",
            "Epoch 48/50\n",
            "29/29 [==============================] - 3s 100ms/step - loss: 0.0461 - accuracy: 0.9836 - val_loss: 0.0823 - val_accuracy: 0.9711\n",
            "Epoch 49/50\n",
            "29/29 [==============================] - 3s 97ms/step - loss: 0.0415 - accuracy: 0.9858 - val_loss: 0.0841 - val_accuracy: 0.9700\n",
            "Epoch 50/50\n",
            "29/29 [==============================] - 3s 98ms/step - loss: 0.0333 - accuracy: 0.9883 - val_loss: 0.0863 - val_accuracy: 0.9733\n"
          ]
        }
      ],
      "source": [
        "eeg_densenet_model.compile(loss='binary_crossentropy',optimizer=tf.keras.optimizers.Adam(1e-4),metrics=['accuracy'])\n",
        "history_densenet = eeg_densenet_model.fit(X_train,y_train,epochs=50,batch_size=128,validation_split=0.2)"
      ]
    },
    {
      "cell_type": "code",
      "execution_count": null,
      "metadata": {
        "colab": {
          "base_uri": "https://localhost:8080/"
        },
        "id": "usTUoZ_YLIhQ",
        "outputId": "ab416f50-a4f2-44c1-8111-23416fde7612"
      },
      "outputs": [
        {
          "output_type": "stream",
          "name": "stdout",
          "text": [
            "47/47 [==============================] - 0s 10ms/step - loss: 0.1415 - accuracy: 0.9680\n",
            "Test Loss: 0.14154082536697388, Test Accuracy: 0.9679999947547913\n"
          ]
        }
      ],
      "source": [
        "loss1, accuracy_densenet = eeg_densenet_model.evaluate(X_test, y_test)\n",
        "print(f'Test Loss: {loss1}, Test Accuracy: {accuracy_densenet}')"
      ]
    },
    {
      "cell_type": "code",
      "execution_count": null,
      "metadata": {
        "colab": {
          "base_uri": "https://localhost:8080/"
        },
        "id": "kuWMKtIHzvNu",
        "outputId": "81d120f5-7899-4059-b333-b0ca231f6a57"
      },
      "outputs": [
        {
          "output_type": "stream",
          "name": "stdout",
          "text": [
            "47/47 [==============================] - 1s 10ms/step\n"
          ]
        }
      ],
      "source": [
        "predictions1 = eeg_densenet_model.predict(X_test)"
      ]
    },
    {
      "cell_type": "code",
      "execution_count": null,
      "metadata": {
        "id": "U3D_S41KzvN0"
      },
      "outputs": [],
      "source": [
        "binary_predictions1 = (predictions1 > 0.5).astype('int32')"
      ]
    },
    {
      "cell_type": "code",
      "execution_count": null,
      "metadata": {
        "colab": {
          "base_uri": "https://localhost:8080/"
        },
        "id": "cvQtjfy7zvN0",
        "outputId": "b36f3ef5-ee9d-4941-ac44-bc422f7babc4"
      },
      "outputs": [
        {
          "output_type": "stream",
          "name": "stdout",
          "text": [
            "Precision: 0.9563636363636364\n"
          ]
        }
      ],
      "source": [
        "precision_densenet = precision_score(y_test, binary_predictions1)\n",
        "print(\"Precision:\", precision_densenet)"
      ]
    },
    {
      "cell_type": "code",
      "execution_count": null,
      "metadata": {
        "colab": {
          "base_uri": "https://localhost:8080/"
        },
        "id": "q7OMk9DKGfA-",
        "outputId": "eec98a6e-30b4-4761-f41f-3db6653adf12"
      },
      "outputs": [
        {
          "output_type": "stream",
          "name": "stdout",
          "text": [
            "F1 Score: 0.9163763066202091\n"
          ]
        }
      ],
      "source": [
        "f1_score_densenet = f1_score(y_test, binary_predictions1)\n",
        "print(\"F1 Score:\", f1_score_densenet)"
      ]
    },
    {
      "cell_type": "code",
      "execution_count": null,
      "metadata": {
        "colab": {
          "base_uri": "https://localhost:8080/"
        },
        "id": "R1gH7k3MGfBE",
        "outputId": "16862d85-2cb9-44ac-9824-e840084562eb"
      },
      "outputs": [
        {
          "output_type": "stream",
          "name": "stdout",
          "text": [
            "Recall: 0.8795986622073578\n"
          ]
        }
      ],
      "source": [
        "recall_densenet = recall_score(y_test, binary_predictions1)\n",
        "print(\"Recall:\", recall_densenet)"
      ]
    },
    {
      "cell_type": "markdown",
      "metadata": {
        "id": "6dceW8ldiZpw"
      },
      "source": [
        "**Googlenet model**"
      ]
    },
    {
      "cell_type": "code",
      "execution_count": null,
      "metadata": {
        "id": "yjNjUoq--mSD"
      },
      "outputs": [],
      "source": [
        "def inception_module(x, filters):\n",
        "    # 1x1 convolution branch\n",
        "    conv1x1 = layers.Conv1D(filters[0], 1, padding='same', activation='relu')(x)\n",
        "\n",
        "    # 3x3 convolution branch\n",
        "    conv3x3 = layers.Conv1D(filters[1], 1, padding='same', activation='relu')(x)\n",
        "    conv3x3 = layers.Conv1D(filters[2], 3, padding='same', activation='relu')(conv3x3)\n",
        "\n",
        "    # 5x5 convolution branch\n",
        "    conv5x5 = layers.Conv1D(filters[3], 1, padding='same', activation='relu')(x)\n",
        "    conv5x5 = layers.Conv1D(filters[4], 5, padding='same', activation='relu')(conv5x5)\n",
        "\n",
        "    # Max pooling branch\n",
        "    pool = layers.MaxPooling1D(3, strides=1, padding='same')(x)\n",
        "    pool = layers.Conv1D(filters[5], 1, padding='same', activation='relu')(pool)\n",
        "\n",
        "    # Concatenate the outputs\n",
        "    output = layers.concatenate([conv1x1, conv3x3, conv5x5, pool], axis=-1)\n",
        "    return output"
      ]
    },
    {
      "cell_type": "code",
      "execution_count": null,
      "metadata": {
        "id": "BdxXPPP0-qxl"
      },
      "outputs": [],
      "source": [
        "def build_eeg_googlenet(input_shape, num_classes):\n",
        "    inputs = tf.keras.Input(shape=input_shape)\n",
        "\n",
        "    # Stem module\n",
        "    x = layers.Conv1D(64, 7, strides=2, padding='same', activation='relu')(inputs)\n",
        "    x = layers.MaxPooling1D(3, strides=2, padding='same')(x)\n",
        "    x = layers.Conv1D(64, 1, padding='same', activation='relu')(x)\n",
        "    x = layers.Conv1D(192, 3, padding='same', activation='relu')(x)\n",
        "    x = layers.MaxPooling1D(3, strides=2, padding='same')(x)\n",
        "\n",
        "    # Inception modules\n",
        "    x = inception_module(x, filters=[64, 96, 128, 16, 32, 32])\n",
        "    x = inception_module(x, filters=[128, 128, 192, 32, 96, 64])\n",
        "    x = layers.MaxPooling1D(3, strides=2, padding='same')(x)\n",
        "\n",
        "    # Flatten layer\n",
        "    x = layers.Flatten()(x)\n",
        "\n",
        "    # Fully connected layers\n",
        "    x = layers.Dense(1024, activation='relu')(x)\n",
        "    x = layers.Dropout(0.4)(x)\n",
        "    x = layers.Dense(1024, activation='relu')(x)\n",
        "    x = layers.Dropout(0.4)(x)\n",
        "\n",
        "    # Output layer\n",
        "    outputs = layers.Dense(num_classes, activation='softmax')(x)\n",
        "\n",
        "    model = tf.keras.Model(inputs, outputs)\n",
        "    return model"
      ]
    },
    {
      "cell_type": "code",
      "execution_count": null,
      "metadata": {
        "id": "28OTWu6EFvaH"
      },
      "outputs": [],
      "source": [
        "X_train, X_temp, y_train, y_temp = train_test_split(X3, y3, test_size=0.2, random_state=42)\n",
        "X_val, X_test, y_val, y_test = train_test_split(X_temp, y_temp, test_size=0.5, random_state=42)"
      ]
    },
    {
      "cell_type": "code",
      "execution_count": null,
      "metadata": {
        "id": "GJWR4bNO-h8O"
      },
      "outputs": [],
      "source": [
        "X_train = np.expand_dims(X_train, axis=-1)\n",
        "X_val = np.expand_dims(X_val, axis=-1)\n",
        "X_test = np.expand_dims(X_test, axis=-1)"
      ]
    },
    {
      "cell_type": "code",
      "execution_count": null,
      "metadata": {
        "id": "KEtaqEUr-wSV"
      },
      "outputs": [],
      "source": [
        "input_shape = (178, 1)\n",
        "num_classes = 2"
      ]
    },
    {
      "cell_type": "code",
      "execution_count": null,
      "metadata": {
        "id": "YTbghvxq-y4d"
      },
      "outputs": [],
      "source": [
        "eeg_googlenet = build_eeg_googlenet(input_shape, num_classes)"
      ]
    },
    {
      "cell_type": "code",
      "execution_count": null,
      "metadata": {
        "id": "8kXtde3y-00O"
      },
      "outputs": [],
      "source": [
        "eeg_googlenet.compile(optimizer='adam',\n",
        "                       loss='sparse_categorical_crossentropy',\n",
        "                       metrics=['accuracy'])"
      ]
    },
    {
      "cell_type": "code",
      "execution_count": null,
      "metadata": {
        "colab": {
          "base_uri": "https://localhost:8080/"
        },
        "id": "pVdo4ZCZ-2Ad",
        "outputId": "c0497440-9140-41fa-bd65-a19d30d664f1"
      },
      "outputs": [
        {
          "output_type": "stream",
          "name": "stdout",
          "text": [
            "Epoch 1/5\n",
            "150/150 [==============================] - 32s 188ms/step - loss: 1.3276 - accuracy: 0.8777 - val_loss: 0.0723 - val_accuracy: 0.9650\n",
            "Epoch 2/5\n",
            "150/150 [==============================] - 28s 184ms/step - loss: 0.0718 - accuracy: 0.9744 - val_loss: 0.0521 - val_accuracy: 0.9800\n",
            "Epoch 3/5\n",
            "150/150 [==============================] - 28s 186ms/step - loss: 0.0563 - accuracy: 0.9817 - val_loss: 0.0636 - val_accuracy: 0.9767\n",
            "Epoch 4/5\n",
            "150/150 [==============================] - 30s 199ms/step - loss: 0.0571 - accuracy: 0.9804 - val_loss: 0.0589 - val_accuracy: 0.9767\n",
            "Epoch 5/5\n",
            "150/150 [==============================] - 26s 171ms/step - loss: 0.0545 - accuracy: 0.9804 - val_loss: 0.0704 - val_accuracy: 0.9717\n"
          ]
        }
      ],
      "source": [
        "history_googlenet = eeg_googlenet.fit(X_train, y_train,epochs=5,validation_data=(X_val, y_val))"
      ]
    },
    {
      "cell_type": "code",
      "execution_count": null,
      "metadata": {
        "colab": {
          "base_uri": "https://localhost:8080/"
        },
        "id": "py-Z2ACSieaV",
        "outputId": "6333153b-634b-4168-dd0c-83100330c21d"
      },
      "outputs": [
        {
          "output_type": "stream",
          "name": "stdout",
          "text": [
            "19/19 [==============================] - 1s 41ms/step - loss: 0.0553 - accuracy: 0.9800\n",
            "Test accuracy: 0.9800000190734863\n"
          ]
        }
      ],
      "source": [
        "test_loss, accuracy_googlenet = eeg_googlenet.evaluate(X_test, y_test)\n",
        "print('Test accuracy:', accuracy_googlenet)"
      ]
    },
    {
      "cell_type": "code",
      "execution_count": null,
      "metadata": {
        "colab": {
          "base_uri": "https://localhost:8080/"
        },
        "id": "f8szgAw6_DnV",
        "outputId": "da0c3850-2278-4cdb-e06d-d58a1186927a"
      },
      "outputs": [
        {
          "output_type": "stream",
          "name": "stdout",
          "text": [
            "19/19 [==============================] - 1s 28ms/step\n"
          ]
        }
      ],
      "source": [
        "y_pred_googlenet = eeg_googlenet.predict(X_test)"
      ]
    },
    {
      "cell_type": "code",
      "execution_count": null,
      "metadata": {
        "id": "d9sCDYi0_FVd"
      },
      "outputs": [],
      "source": [
        "y_pred_labels_googlenet = np.argmax(y_pred_googlenet, axis=1)"
      ]
    },
    {
      "cell_type": "code",
      "execution_count": null,
      "metadata": {
        "colab": {
          "base_uri": "https://localhost:8080/"
        },
        "id": "HBjEOuty_G1F",
        "outputId": "2416f00c-48a4-4196-f908-ecd640411fd6"
      },
      "outputs": [
        {
          "output_type": "stream",
          "name": "stdout",
          "text": [
            "Precision (Googlenet): 0.98\n"
          ]
        }
      ],
      "source": [
        "precision_googlenet = precision_score(y_test, y_pred_labels_googlenet, average='weighted')\n",
        "print(\"Precision (Googlenet):\", precision_googlenet)"
      ]
    },
    {
      "cell_type": "code",
      "execution_count": null,
      "metadata": {
        "colab": {
          "base_uri": "https://localhost:8080/"
        },
        "id": "wN3jM5Cy_J3Y",
        "outputId": "86d51440-d396-4c7f-df21-a1f958aa2933"
      },
      "outputs": [
        {
          "output_type": "stream",
          "name": "stdout",
          "text": [
            "Recall (Googlenet): 0.98\n"
          ]
        }
      ],
      "source": [
        "recall_googlenet = recall_score(y_test, y_pred_labels_googlenet, average='weighted')\n",
        "print(\"Recall (Googlenet):\", recall_googlenet)"
      ]
    },
    {
      "cell_type": "code",
      "execution_count": null,
      "metadata": {
        "colab": {
          "base_uri": "https://localhost:8080/"
        },
        "id": "KB-dsz2d_MaY",
        "outputId": "250dee21-269d-48f3-a8dc-67a76f1d6ee9"
      },
      "outputs": [
        {
          "output_type": "stream",
          "name": "stdout",
          "text": [
            "F1-score (Googlenet): 0.98\n"
          ]
        }
      ],
      "source": [
        "f1_score_googlenet = f1_score(y_test, y_pred_labels_googlenet, average='weighted')\n",
        "print(\"F1-score (Googlenet):\", f1_score_googlenet)"
      ]
    },
    {
      "cell_type": "code",
      "source": [
        "# AUC-ROC\n",
        "from sklearn.metrics import roc_curve, auc\n",
        "\n",
        "y_probs_vgg = eeg_googlenet.predict(X_test)[:, 1]\n",
        "\n",
        "fpr, tpr, thresholds = roc_curve(y_test, y_probs_vgg)\n",
        "roc_auc = auc(fpr, tpr)\n",
        "\n",
        "plt.figure(figsize=(6, 4))\n",
        "plt.plot(fpr, tpr, color='darkorange', lw=2, label='ROC curve (area = %0.2f)' % roc_auc)\n",
        "plt.plot([0, 1], [0, 1], color='navy', lw=2, linestyle='--')\n",
        "plt.xlim([0.0, 1.0])\n",
        "plt.ylim([0.0, 1.05])\n",
        "plt.xlabel('False Positive Rate')\n",
        "plt.ylabel('True Positive Rate')\n",
        "plt.title('Receiver Operating Characteristic (ROC)')\n",
        "plt.legend(loc=\"lower right\")\n",
        "plt.show()"
      ],
      "metadata": {
        "colab": {
          "base_uri": "https://localhost:8080/",
          "height": 427
        },
        "id": "V79EZCCPIKcJ",
        "outputId": "2e96148b-b9f8-4657-8a52-d4d29e764803"
      },
      "execution_count": null,
      "outputs": [
        {
          "output_type": "stream",
          "name": "stdout",
          "text": [
            "19/19 [==============================] - 1s 27ms/step\n"
          ]
        },
        {
          "output_type": "display_data",
          "data": {
            "text/plain": [
              "<Figure size 600x400 with 1 Axes>"
            ],
            "image/png": "[encoded data removed]"
          },
          "metadata": {}
        }
      ]
    },
    {
      "cell_type": "markdown",
      "source": [
        "# **Continual Learning using EWC**"
      ],
      "metadata": {
        "id": "U-NKNJbam0_u"
      }
    },
    {
      "cell_type": "code",
      "execution_count": null,
      "metadata": {
        "colab": {
          "base_uri": "https://localhost:8080/"
        },
        "id": "AfRy7XJJAOnE",
        "outputId": "8f0c6aae-d6c9-4d64-fd0a-545bba571526"
      },
      "outputs": [
        {
          "output_type": "stream",
          "name": "stdout",
          "text": [
            "Epoch 1/5\n",
            "138/138 [==============================] - 27s 156ms/step - loss: 0.1078 - accuracy: 0.9670 - val_loss: 0.1052 - val_accuracy: 0.9709\n",
            "Epoch 2/5\n",
            "138/138 [==============================] - 24s 172ms/step - loss: 0.0764 - accuracy: 0.9755 - val_loss: 0.0837 - val_accuracy: 0.9673\n",
            "Epoch 3/5\n",
            "138/138 [==============================] - 21s 155ms/step - loss: 0.0698 - accuracy: 0.9791 - val_loss: 0.0572 - val_accuracy: 0.9855\n",
            "Epoch 4/5\n",
            "138/138 [==============================] - 23s 167ms/step - loss: 0.0619 - accuracy: 0.9820 - val_loss: 0.0902 - val_accuracy: 0.9745\n",
            "Epoch 5/5\n",
            "138/138 [==============================] - 22s 160ms/step - loss: 0.0688 - accuracy: 0.9789 - val_loss: 0.0557 - val_accuracy: 0.9855\n",
            "19/19 [==============================] - 1s 26ms/step - loss: 0.0348 - accuracy: 0.9883\n",
            "Test accuracy: 0.9883333444595337\n",
            "19/19 [==============================] - 1s 26ms/step\n",
            "Precision (GoogLeNet): 0.9882896009981412\n",
            "Recall (GoogLeNet): 0.9883333333333333\n",
            "F1-score (GoogLeNet): 0.9882697044819581\n"
          ]
        }
      ],
      "source": [
        "# Defining Fisher Information matrix\n",
        "def compute_fisher_information(model, X, y):\n",
        "    # Computing gradients of the loss with respect to each parameter\n",
        "    with tf.GradientTape() as tape:\n",
        "        predictions = model(X)\n",
        "        loss = tf.keras.losses.sparse_categorical_crossentropy(y, predictions)\n",
        "    gradients = tape.gradient(loss, model.trainable_variables)\n",
        "\n",
        "    fisher_information = [tf.square(g) for g in gradients]\n",
        "\n",
        "    return fisher_information\n",
        "\n",
        "# Defining EWC loss function\n",
        "def ewc_loss(model, fisher_information, prev_params, lambda_ewc):\n",
        "    # EWC regularization\n",
        "    ewc_term = 0.5 * sum(tf.reduce_sum(f * tf.square(p - prev_p)) for f, p, prev_p in zip(fisher_information, model.trainable_variables, prev_params))\n",
        "\n",
        "    # Adding EWC regularization to the loss\n",
        "    return lambda_ewc * ewc_term\n",
        "\n",
        "# Training new model to avoid catastrophic forgetting\n",
        "\n",
        "# history_googlenet = eeg_googlenet.fit(X_train, y_train, epochs=5, validation_data=(X_val, y_val))\n",
        "X_train_new, X_temp, y_train_new, y_temp = train_test_split(X4, y4, test_size=0.2, random_state=42)\n",
        "X_val_new, X_test_new, y_val_new, y_test_new = train_test_split(X_temp, y_temp, test_size=0.5, random_state=42)\n",
        "\n",
        "# Computing and storing Fisher information matrix for each parameter\n",
        "fisher_information = compute_fisher_information(eeg_googlenet, X_train_new, y_train_new)\n",
        "prev_params = [tf.Variable(p) for p in eeg_googlenet.get_weights()]\n",
        "\n",
        "# Fine tuning hyperparameter to control the strength of EWC regularization\n",
        "lambda_ewc = 0.1\n",
        "ewc_reg_loss = ewc_loss(eeg_googlenet, fisher_information, prev_params, lambda_ewc)\n",
        "\n",
        "# Compiling\n",
        "eeg_googlenet.compile(optimizer='adam', loss=lambda y_true, y_pred: tf.keras.losses.sparse_categorical_crossentropy(y_true, y_pred) + ewc_reg_loss, metrics=['accuracy'])\n",
        "\n",
        "# Training new dataset\n",
        "history_googlenet_finetune = eeg_googlenet.fit(X_train_new, y_train_new, epochs=5, validation_data=(X_val_new, y_val_new))\n",
        "\n",
        "# Evaluation\n",
        "test_loss, accuracy_googlenet = eeg_googlenet.evaluate(X_test, y_test)\n",
        "print('Test accuracy:', accuracy_googlenet)\n",
        "\n",
        "y_pred_googlenet = eeg_googlenet.predict(X_test)\n",
        "y_pred_labels_googlenet = np.argmax(y_pred_googlenet, axis=1)\n",
        "\n",
        "precision_googlenet = precision_score(y_test, y_pred_labels_googlenet, average='weighted')\n",
        "print(\"Precision (Googlenet):\", precision_googlenet)\n",
        "\n",
        "recall_googlenet = recall_score(y_test, y_pred_labels_googlenet, average='weighted')\n",
        "print(\"Recall (Googlenet):\", recall_googlenet)\n",
        "\n",
        "f1_score_googlenet = f1_score(y_test, y_pred_labels_googlenet, average='weighted')\n",
        "print(\"F1-score (Googlenet):\", f1_score_googlenet)\n"
      ]
    },
    {
      "cell_type": "code",
      "execution_count": null,
      "metadata": {
        "colab": {
          "base_uri": "https://localhost:8080/"
        },
        "id": "IKb1QPxXtqpK",
        "outputId": "9bcae681-036d-467d-84fa-e989e27b6454"
      },
      "outputs": [
        {
          "output_type": "stream",
          "name": "stdout",
          "text": [
            "(4799, 178, 1)\n"
          ]
        }
      ],
      "source": [
        "print(X_train.shape)"
      ]
    },
    {
      "cell_type": "code",
      "execution_count": null,
      "metadata": {
        "colab": {
          "base_uri": "https://localhost:8080/"
        },
        "id": "4awmJ37Qt9m8",
        "outputId": "d12c0dac-3255-4599-ebd9-75d145491e0a"
      },
      "outputs": [
        {
          "output_type": "stream",
          "name": "stdout",
          "text": [
            "(4400, 178)\n"
          ]
        }
      ],
      "source": [
        "print(X_train_new.shape)"
      ]
    },
    {
      "cell_type": "markdown",
      "metadata": {
        "id": "PQJUc9Gsdwpw"
      },
      "source": [
        "**VGG model**"
      ]
    },
    {
      "cell_type": "code",
      "execution_count": null,
      "metadata": {
        "id": "IY2pVtAC_YE8"
      },
      "outputs": [],
      "source": [
        "def build_eeg_vgg(input_shape, num_classes):\n",
        "    model = models.Sequential()\n",
        "\n",
        "    # Block 1\n",
        "    model.add(layers.Conv1D(64, 3, activation='relu', padding='same', input_shape=input_shape))\n",
        "    model.add(layers.Conv1D(64, 3, activation='relu', padding='same'))\n",
        "    model.add(layers.MaxPooling1D(pool_size=2, strides=2))\n",
        "\n",
        "    # Block 2\n",
        "    model.add(layers.Conv1D(128, 3, activation='relu', padding='same'))\n",
        "    model.add(layers.Conv1D(128, 3, activation='relu', padding='same'))\n",
        "    model.add(layers.MaxPooling1D(pool_size=2, strides=2))\n",
        "\n",
        "    # Block 3\n",
        "    model.add(layers.Conv1D(256, 3, activation='relu', padding='same'))\n",
        "    model.add(layers.Conv1D(256, 3, activation='relu', padding='same'))\n",
        "    model.add(layers.Conv1D(256, 3, activation='relu', padding='same'))\n",
        "    model.add(layers.MaxPooling1D(pool_size=2, strides=2))\n",
        "\n",
        "    # Block 4\n",
        "    model.add(layers.Conv1D(512, 3, activation='relu', padding='same'))\n",
        "    model.add(layers.Conv1D(512, 3, activation='relu', padding='same'))\n",
        "    model.add(layers.Conv1D(512, 3, activation='relu', padding='same'))\n",
        "    model.add(layers.MaxPooling1D(pool_size=2, strides=2))\n",
        "\n",
        "    # Block 5\n",
        "    model.add(layers.Conv1D(512, 3, activation='relu', padding='same'))\n",
        "    model.add(layers.Conv1D(512, 3, activation='relu', padding='same'))\n",
        "    model.add(layers.Conv1D(512, 3, activation='relu', padding='same'))\n",
        "    model.add(layers.MaxPooling1D(pool_size=2, strides=2))\n",
        "\n",
        "    # Flatten layer\n",
        "    model.add(layers.Flatten())\n",
        "\n",
        "    # Fully connected layers\n",
        "    model.add(layers.Dense(4096, activation='relu'))\n",
        "    model.add(layers.Dropout(0.5))\n",
        "    model.add(layers.Dense(4096, activation='relu'))\n",
        "    model.add(layers.Dropout(0.5))\n",
        "\n",
        "    # Output layer\n",
        "    model.add(layers.Dense(num_classes, activation='softmax'))\n",
        "\n",
        "    return model"
      ]
    },
    {
      "cell_type": "code",
      "execution_count": null,
      "metadata": {
        "id": "M4jOqij-GkEK"
      },
      "outputs": [],
      "source": [
        "X_train, X_temp, y_train, y_temp = train_test_split(X3, y3, test_size=0.2, random_state=42)\n",
        "X_val, X_test, y_val, y_test = train_test_split(X_temp, y_temp, test_size=0.5, random_state=42)"
      ]
    },
    {
      "cell_type": "code",
      "execution_count": null,
      "metadata": {
        "id": "sHpJjGFm_T1g"
      },
      "outputs": [],
      "source": [
        "X_train = np.expand_dims(X_train, axis=-1)\n",
        "X_val = np.expand_dims(X_val, axis=-1)\n",
        "X_test = np.expand_dims(X_test, axis=-1)"
      ]
    },
    {
      "cell_type": "code",
      "execution_count": null,
      "metadata": {
        "id": "dsjea7nq_a9S"
      },
      "outputs": [],
      "source": [
        "input_shape = (178, 1)\n",
        "num_classes = 2"
      ]
    },
    {
      "cell_type": "code",
      "execution_count": null,
      "metadata": {
        "id": "mzGfJFdz_caq"
      },
      "outputs": [],
      "source": [
        "eeg_vgg = build_eeg_vgg(input_shape, num_classes)"
      ]
    },
    {
      "cell_type": "code",
      "execution_count": null,
      "metadata": {
        "id": "qZwhwBtI_drC"
      },
      "outputs": [],
      "source": [
        "eeg_vgg.compile(optimizer='adam',\n",
        "                 loss='sparse_categorical_crossentropy',\n",
        "                 metrics=['accuracy'])"
      ]
    },
    {
      "cell_type": "code",
      "execution_count": null,
      "metadata": {
        "colab": {
          "base_uri": "https://localhost:8080/"
        },
        "id": "rDvAJbSm_fPS",
        "outputId": "31f24fbb-4058-4687-af22-6235dc48601b"
      },
      "outputs": [
        {
          "output_type": "stream",
          "name": "stdout",
          "text": [
            "Epoch 1/5\n",
            "150/150 [==============================] - 202s 1s/step - loss: 0.2138 - accuracy: 0.9450 - val_loss: 0.0804 - val_accuracy: 0.9750\n",
            "Epoch 2/5\n",
            "150/150 [==============================] - 187s 1s/step - loss: 0.0918 - accuracy: 0.9702 - val_loss: 0.0849 - val_accuracy: 0.9717\n",
            "Epoch 3/5\n",
            "150/150 [==============================] - 179s 1s/step - loss: 0.0707 - accuracy: 0.9758 - val_loss: 0.1447 - val_accuracy: 0.9617\n",
            "Epoch 4/5\n",
            "150/150 [==============================] - 177s 1s/step - loss: 0.0789 - accuracy: 0.9729 - val_loss: 0.1704 - val_accuracy: 0.9450\n",
            "Epoch 5/5\n",
            "150/150 [==============================] - 180s 1s/step - loss: 0.0635 - accuracy: 0.9790 - val_loss: 0.0617 - val_accuracy: 0.9883\n"
          ]
        }
      ],
      "source": [
        "history_vgg = eeg_vgg.fit(X_train, y_train,\n",
        "                      epochs=5,\n",
        "                      validation_data=(X_val, y_val))"
      ]
    },
    {
      "cell_type": "code",
      "execution_count": null,
      "metadata": {
        "colab": {
          "base_uri": "https://localhost:8080/"
        },
        "id": "u5YsSq4TdytB",
        "outputId": "e4189ebf-44f8-48df-bfa4-344cc76c73dd"
      },
      "outputs": [
        {
          "output_type": "stream",
          "name": "stdout",
          "text": [
            "19/19 [==============================] - 3s 151ms/step - loss: 0.0519 - accuracy: 0.9850\n",
            "Test accuracy: 0.9850000143051147\n"
          ]
        }
      ],
      "source": [
        "test_loss, accuracy_vgg = eeg_vgg.evaluate(X_test, y_test)\n",
        "print('Test accuracy:', accuracy_vgg)"
      ]
    },
    {
      "cell_type": "code",
      "execution_count": null,
      "metadata": {
        "colab": {
          "base_uri": "https://localhost:8080/"
        },
        "id": "faMZK3ky_idN",
        "outputId": "6ca83dcb-d38c-41a7-ce11-d8cf07439512"
      },
      "outputs": [
        {
          "output_type": "stream",
          "name": "stdout",
          "text": [
            "19/19 [==============================] - 4s 200ms/step\n"
          ]
        }
      ],
      "source": [
        "y_pred_vgg = eeg_vgg.predict(X_test)"
      ]
    },
    {
      "cell_type": "code",
      "execution_count": null,
      "metadata": {
        "id": "Q2yYqzFx_jsr"
      },
      "outputs": [],
      "source": [
        "y_pred_labels_vgg = np.argmax(y_pred_vgg, axis=1)"
      ]
    },
    {
      "cell_type": "code",
      "execution_count": null,
      "metadata": {
        "colab": {
          "base_uri": "https://localhost:8080/"
        },
        "id": "uHeh-iKB_lI_",
        "outputId": "45fb3ee7-c522-4c31-e67c-e42176edce5b"
      },
      "outputs": [
        {
          "output_type": "stream",
          "name": "stdout",
          "text": [
            "Precision (VGG): 0.9849552092743149\n"
          ]
        }
      ],
      "source": [
        "precision_vgg = precision_score(y_test, y_pred_labels_vgg, average='weighted')\n",
        "print(\"Precision (VGG):\", precision_vgg)"
      ]
    },
    {
      "cell_type": "code",
      "execution_count": null,
      "metadata": {
        "colab": {
          "base_uri": "https://localhost:8080/"
        },
        "id": "lVwu0XKl_ndu",
        "outputId": "c4865f28-fb86-4a1e-d931-f7d2a34a8403"
      },
      "outputs": [
        {
          "output_type": "stream",
          "name": "stdout",
          "text": [
            "Recall (VGG): 0.985\n"
          ]
        }
      ],
      "source": [
        "recall_vgg = recall_score(y_test, y_pred_labels_vgg, average='weighted')\n",
        "print(\"Recall (VGG):\", recall_vgg)"
      ]
    },
    {
      "cell_type": "code",
      "execution_count": null,
      "metadata": {
        "colab": {
          "base_uri": "https://localhost:8080/"
        },
        "id": "ZMQSwMPJubLF",
        "outputId": "4413cb8d-9858-415f-f8ae-dc2d6c3b98a2"
      },
      "outputs": [
        {
          "output_type": "stream",
          "name": "stdout",
          "text": [
            "F1-score (VGG): 0.9849730674930032\n"
          ]
        }
      ],
      "source": [
        "f1_score_vgg = f1_score(y_test, y_pred_labels_vgg, average='weighted')\n",
        "print(\"F1-score (VGG):\", f1_score_vgg)"
      ]
    },
    {
      "cell_type": "markdown",
      "metadata": {
        "id": "KDF4N0E8iEZR"
      },
      "source": [
        "**Resnet model**"
      ]
    },
    {
      "cell_type": "code",
      "execution_count": null,
      "metadata": {
        "id": "4DX6PHQf_2C_"
      },
      "outputs": [],
      "source": [
        "def resnet_block(input_data, filters, kernel_size, strides=1):\n",
        "    x = layers.Conv1D(filters, kernel_size, strides=strides, padding='same')(input_data)\n",
        "    x = layers.BatchNormalization()(x)\n",
        "    x = layers.Activation('relu')(x)\n",
        "    x = layers.Conv1D(filters, kernel_size, padding='same')(x)\n",
        "    x = layers.BatchNormalization()(x)\n",
        "    if strides != 1:\n",
        "        input_data = layers.Conv1D(filters, kernel_size=1, strides=strides, padding='same')(input_data)\n",
        "    x = layers.add([x, input_data])\n",
        "    x = layers.Activation('relu')(x)\n",
        "    return x"
      ]
    },
    {
      "cell_type": "code",
      "execution_count": null,
      "metadata": {
        "id": "--Z-6zeV_4uY"
      },
      "outputs": [],
      "source": [
        "def build_eeg_resnet(input_shape, num_classes):\n",
        "    inputs = tf.keras.Input(shape=input_shape)\n",
        "\n",
        "    # Initial conv layer\n",
        "    x = layers.Conv1D(64, 7, strides=2, padding='same')(inputs)\n",
        "    x = layers.BatchNormalization()(x)\n",
        "    x = layers.Activation('relu')(x)\n",
        "    x = layers.MaxPooling1D(3, strides=2, padding='same')(x)\n",
        "\n",
        "    # Residual blocks\n",
        "    x = resnet_block(x, filters=64, kernel_size=3)\n",
        "    x = resnet_block(x, filters=64, kernel_size=3)\n",
        "    x = resnet_block(x, filters=64, kernel_size=3)\n",
        "\n",
        "    x = layers.GlobalAveragePooling1D()(x)\n",
        "\n",
        "    # Output layer\n",
        "    outputs = layers.Dense(num_classes, activation='softmax')(x)\n",
        "\n",
        "    model = tf.keras.Model(inputs, outputs)\n",
        "    return model"
      ]
    },
    {
      "cell_type": "code",
      "execution_count": null,
      "metadata": {
        "id": "RRPUx6TpHBU7"
      },
      "outputs": [],
      "source": [
        "X_train, X_temp, y_train, y_temp = train_test_split(X3, y3, test_size=0.2, random_state=42)\n",
        "X_val, X_test, y_val, y_test = train_test_split(X_temp, y_temp, test_size=0.5, random_state=42)"
      ]
    },
    {
      "cell_type": "code",
      "execution_count": null,
      "metadata": {
        "id": "IR_NGDnK_znL"
      },
      "outputs": [],
      "source": [
        "X_train = np.expand_dims(X_train, axis=-1)\n",
        "X_val = np.expand_dims(X_val, axis=-1)\n",
        "X_test = np.expand_dims(X_test, axis=-1)"
      ]
    },
    {
      "cell_type": "code",
      "execution_count": null,
      "metadata": {
        "id": "qb26x3HR_71L"
      },
      "outputs": [],
      "source": [
        "input_shape = (178, 1)\n",
        "num_classes = 2"
      ]
    },
    {
      "cell_type": "code",
      "execution_count": null,
      "metadata": {
        "id": "dU4ZOKlr_9PB"
      },
      "outputs": [],
      "source": [
        "eeg_resnet = build_eeg_resnet(input_shape, num_classes)"
      ]
    },
    {
      "cell_type": "code",
      "execution_count": null,
      "metadata": {
        "id": "tgUj1c8z_-jY"
      },
      "outputs": [],
      "source": [
        "eeg_resnet.compile(optimizer='adam',\n",
        "                    loss='sparse_categorical_crossentropy',\n",
        "                    metrics=['accuracy'])"
      ]
    },
    {
      "cell_type": "code",
      "execution_count": null,
      "metadata": {
        "colab": {
          "base_uri": "https://localhost:8080/"
        },
        "id": "obQ9LTA4__1Q",
        "outputId": "02f3fe9a-b2ff-4851-d541-12986b937bc6"
      },
      "outputs": [
        {
          "output_type": "stream",
          "name": "stdout",
          "text": [
            "Epoch 1/5\n",
            "150/150 [==============================] - 9s 36ms/step - loss: 0.1161 - accuracy: 0.9581 - val_loss: 0.0893 - val_accuracy: 0.9733\n",
            "Epoch 2/5\n",
            "150/150 [==============================] - 6s 43ms/step - loss: 0.0917 - accuracy: 0.9637 - val_loss: 0.0905 - val_accuracy: 0.9667\n",
            "Epoch 3/5\n",
            "150/150 [==============================] - 5s 34ms/step - loss: 0.0645 - accuracy: 0.9765 - val_loss: 0.0684 - val_accuracy: 0.9700\n",
            "Epoch 4/5\n",
            "150/150 [==============================] - 7s 44ms/step - loss: 0.0519 - accuracy: 0.9808 - val_loss: 0.0499 - val_accuracy: 0.9917\n",
            "Epoch 5/5\n",
            "150/150 [==============================] - 5s 35ms/step - loss: 0.0625 - accuracy: 0.9777 - val_loss: 0.0524 - val_accuracy: 0.9850\n"
          ]
        }
      ],
      "source": [
        "history_resnet = eeg_resnet.fit(X_train, y_train,\n",
        "                          epochs=5,\n",
        "                          validation_data=(X_val, y_val))"
      ]
    },
    {
      "cell_type": "code",
      "execution_count": null,
      "metadata": {
        "colab": {
          "base_uri": "https://localhost:8080/"
        },
        "id": "GRIkvDlBiHNl",
        "outputId": "5d5ef1bd-fc2d-4ce0-8cf7-dd1fde8533eb"
      },
      "outputs": [
        {
          "output_type": "stream",
          "name": "stdout",
          "text": [
            "19/19 [==============================] - 0s 10ms/step - loss: 0.0709 - accuracy: 0.9750\n",
            "Test accuracy: 0.9750000238418579\n"
          ]
        }
      ],
      "source": [
        "test_loss, accuracy_resnet = eeg_resnet.evaluate(X_test, y_test)\n",
        "print('Test accuracy:', accuracy_resnet)"
      ]
    },
    {
      "cell_type": "code",
      "execution_count": null,
      "metadata": {
        "colab": {
          "base_uri": "https://localhost:8080/"
        },
        "id": "k6hnlN__AC3D",
        "outputId": "306ddd9c-c098-46fe-9f00-4736d5e8f139"
      },
      "outputs": [
        {
          "output_type": "stream",
          "name": "stdout",
          "text": [
            "19/19 [==============================] - 0s 9ms/step\n"
          ]
        }
      ],
      "source": [
        "y_pred_resnet = eeg_resnet.predict(X_test)"
      ]
    },
    {
      "cell_type": "code",
      "execution_count": null,
      "metadata": {
        "id": "CM1rL252AEgq"
      },
      "outputs": [],
      "source": [
        "y_pred_labels_resnet = np.argmax(y_pred_resnet, axis=1)"
      ]
    },
    {
      "cell_type": "code",
      "execution_count": null,
      "metadata": {
        "colab": {
          "base_uri": "https://localhost:8080/"
        },
        "id": "0t9aBFT0AF3X",
        "outputId": "0cb0be8b-83d0-4305-81a0-bbd30200e7e7"
      },
      "outputs": [
        {
          "output_type": "stream",
          "name": "stdout",
          "text": [
            "Precision (ResNet): 0.9774410110432814\n"
          ]
        }
      ],
      "source": [
        "precision_resnet = precision_score(y_test, y_pred_labels_resnet, average='weighted')\n",
        "print(\"Precision (ResNet):\", precision_resnet)"
      ]
    },
    {
      "cell_type": "code",
      "execution_count": null,
      "metadata": {
        "colab": {
          "base_uri": "https://localhost:8080/"
        },
        "id": "576npi1cAIk8",
        "outputId": "d2c09e71-b5e0-4923-ad69-9e6392e5838c"
      },
      "outputs": [
        {
          "output_type": "stream",
          "name": "stdout",
          "text": [
            "Recall (ResNet): 0.975\n"
          ]
        }
      ],
      "source": [
        "recall_resnet = recall_score(y_test, y_pred_labels_resnet, average='weighted')\n",
        "print(\"Recall (ResNet):\", recall_resnet)"
      ]
    },
    {
      "cell_type": "code",
      "execution_count": null,
      "metadata": {
        "colab": {
          "base_uri": "https://localhost:8080/"
        },
        "id": "zIzE-GDnALK8",
        "outputId": "a6f1b728-42e9-4d42-e78c-b6c0aa4bd567"
      },
      "outputs": [
        {
          "output_type": "stream",
          "name": "stdout",
          "text": [
            "F1-score (ResNet): 0.9755357645450525\n"
          ]
        }
      ],
      "source": [
        "f1_score_resnet = f1_score(y_test, y_pred_labels_resnet, average='weighted')\n",
        "print(\"F1-score (ResNet):\", f1_score_resnet)"
      ]
    },
    {
      "cell_type": "markdown",
      "metadata": {
        "id": "tjJXtWt1OzLq"
      },
      "source": [
        "**RNN Model**"
      ]
    },
    {
      "cell_type": "code",
      "execution_count": null,
      "metadata": {
        "id": "jWa51GSIHhO-"
      },
      "outputs": [],
      "source": [
        "rnn_model = Sequential()\n",
        "rnn_model.add(Flatten(input_shape=(178,)))\n",
        "rnn_model.add(Dense(64, activation='relu'))\n",
        "rnn_model.add(Dense(1, activation='sigmoid'))"
      ]
    },
    {
      "cell_type": "code",
      "execution_count": null,
      "metadata": {
        "colab": {
          "base_uri": "https://localhost:8080/"
        },
        "id": "67vm0bU6CGCk",
        "outputId": "4a6cb2ae-a29f-4295-f487-c5aa2fbd1672"
      },
      "outputs": [
        {
          "output_type": "execute_result",
          "data": {
            "text/plain": [
              "((4499, 178), (1500, 1))"
            ]
          },
          "metadata": {},
          "execution_count": 135
        }
      ],
      "source": [
        "X_train, X_test, y_train, y_test = train_test_split(X3,y3,test_size=0.25,shuffle=True)\n",
        "X_train.shape,y_test.shape"
      ]
    },
    {
      "cell_type": "code",
      "execution_count": null,
      "metadata": {
        "colab": {
          "base_uri": "https://localhost:8080/"
        },
        "id": "T_3S98QONMsy",
        "outputId": "f36a9927-8d32-408e-ded8-4be81bbde3fa"
      },
      "outputs": [
        {
          "output_type": "stream",
          "name": "stdout",
          "text": [
            "Epoch 1/50\n",
            "141/141 [==============================] - 1s 4ms/step - loss: 15.5689 - accuracy: 0.6710 - val_loss: 9.6844 - val_accuracy: 0.7480\n",
            "Epoch 2/50\n",
            "141/141 [==============================] - 0s 3ms/step - loss: 7.3984 - accuracy: 0.7722 - val_loss: 8.5501 - val_accuracy: 0.6927\n",
            "Epoch 3/50\n",
            "141/141 [==============================] - 0s 3ms/step - loss: 4.9381 - accuracy: 0.8011 - val_loss: 6.4309 - val_accuracy: 0.7700\n",
            "Epoch 4/50\n",
            "141/141 [==============================] - 0s 3ms/step - loss: 3.4567 - accuracy: 0.8226 - val_loss: 6.7678 - val_accuracy: 0.7787\n",
            "Epoch 5/50\n",
            "141/141 [==============================] - 0s 3ms/step - loss: 3.4884 - accuracy: 0.8309 - val_loss: 6.3467 - val_accuracy: 0.7780\n",
            "Epoch 6/50\n",
            "141/141 [==============================] - 0s 3ms/step - loss: 2.9146 - accuracy: 0.8342 - val_loss: 5.9898 - val_accuracy: 0.7553\n",
            "Epoch 7/50\n",
            "141/141 [==============================] - 1s 4ms/step - loss: 2.2769 - accuracy: 0.8566 - val_loss: 5.5522 - val_accuracy: 0.7907\n",
            "Epoch 8/50\n",
            "141/141 [==============================] - 1s 5ms/step - loss: 2.1651 - accuracy: 0.8613 - val_loss: 5.0062 - val_accuracy: 0.8107\n",
            "Epoch 9/50\n",
            "141/141 [==============================] - 1s 4ms/step - loss: 1.8720 - accuracy: 0.8715 - val_loss: 4.8358 - val_accuracy: 0.7793\n",
            "Epoch 10/50\n",
            "141/141 [==============================] - 1s 4ms/step - loss: 1.9673 - accuracy: 0.8657 - val_loss: 4.0627 - val_accuracy: 0.7960\n",
            "Epoch 11/50\n",
            "141/141 [==============================] - 1s 4ms/step - loss: 1.4490 - accuracy: 0.8915 - val_loss: 5.4331 - val_accuracy: 0.8267\n",
            "Epoch 12/50\n",
            "141/141 [==============================] - 1s 5ms/step - loss: 1.4620 - accuracy: 0.8851 - val_loss: 4.3650 - val_accuracy: 0.8127\n",
            "Epoch 13/50\n",
            "141/141 [==============================] - 1s 4ms/step - loss: 1.1429 - accuracy: 0.9020 - val_loss: 4.9882 - val_accuracy: 0.8407\n",
            "Epoch 14/50\n",
            "141/141 [==============================] - 1s 4ms/step - loss: 1.3185 - accuracy: 0.8931 - val_loss: 3.8972 - val_accuracy: 0.8300\n",
            "Epoch 15/50\n",
            "141/141 [==============================] - 0s 3ms/step - loss: 0.9646 - accuracy: 0.9055 - val_loss: 4.7951 - val_accuracy: 0.8400\n",
            "Epoch 16/50\n",
            "141/141 [==============================] - 0s 3ms/step - loss: 0.9410 - accuracy: 0.9086 - val_loss: 3.7567 - val_accuracy: 0.8393\n",
            "Epoch 17/50\n",
            "141/141 [==============================] - 0s 3ms/step - loss: 0.9157 - accuracy: 0.9122 - val_loss: 4.2075 - val_accuracy: 0.8233\n",
            "Epoch 18/50\n",
            "141/141 [==============================] - 0s 3ms/step - loss: 0.9897 - accuracy: 0.9106 - val_loss: 3.2634 - val_accuracy: 0.7873\n",
            "Epoch 19/50\n",
            "141/141 [==============================] - 0s 3ms/step - loss: 0.8521 - accuracy: 0.9153 - val_loss: 4.0838 - val_accuracy: 0.8233\n",
            "Epoch 20/50\n",
            "141/141 [==============================] - 0s 3ms/step - loss: 0.6995 - accuracy: 0.9280 - val_loss: 3.8370 - val_accuracy: 0.8360\n",
            "Epoch 21/50\n",
            "141/141 [==============================] - 0s 3ms/step - loss: 0.7682 - accuracy: 0.9184 - val_loss: 3.9086 - val_accuracy: 0.8447\n",
            "Epoch 22/50\n",
            "141/141 [==============================] - 0s 2ms/step - loss: 0.7835 - accuracy: 0.9278 - val_loss: 3.0796 - val_accuracy: 0.8207\n",
            "Epoch 23/50\n",
            "141/141 [==============================] - 0s 3ms/step - loss: 0.7656 - accuracy: 0.9184 - val_loss: 3.4778 - val_accuracy: 0.8407\n",
            "Epoch 24/50\n",
            "141/141 [==============================] - 0s 3ms/step - loss: 0.6342 - accuracy: 0.9291 - val_loss: 3.6286 - val_accuracy: 0.8567\n",
            "Epoch 25/50\n",
            "141/141 [==============================] - 0s 3ms/step - loss: 0.5899 - accuracy: 0.9300 - val_loss: 3.2225 - val_accuracy: 0.8180\n",
            "Epoch 26/50\n",
            "141/141 [==============================] - 0s 2ms/step - loss: 0.5952 - accuracy: 0.9298 - val_loss: 3.1096 - val_accuracy: 0.8493\n",
            "Epoch 27/50\n",
            "141/141 [==============================] - 0s 3ms/step - loss: 0.3664 - accuracy: 0.9507 - val_loss: 3.6973 - val_accuracy: 0.8627\n",
            "Epoch 28/50\n",
            "141/141 [==============================] - 0s 3ms/step - loss: 0.3734 - accuracy: 0.9511 - val_loss: 3.0699 - val_accuracy: 0.8520\n",
            "Epoch 29/50\n",
            "141/141 [==============================] - 0s 3ms/step - loss: 0.5859 - accuracy: 0.9442 - val_loss: 3.1941 - val_accuracy: 0.8613\n",
            "Epoch 30/50\n",
            "141/141 [==============================] - 0s 3ms/step - loss: 0.6507 - accuracy: 0.9295 - val_loss: 3.0526 - val_accuracy: 0.8367\n",
            "Epoch 31/50\n",
            "141/141 [==============================] - 0s 3ms/step - loss: 0.6073 - accuracy: 0.9342 - val_loss: 2.8694 - val_accuracy: 0.8420\n",
            "Epoch 32/50\n",
            "141/141 [==============================] - 0s 3ms/step - loss: 0.4897 - accuracy: 0.9455 - val_loss: 3.2407 - val_accuracy: 0.8707\n",
            "Epoch 33/50\n",
            "141/141 [==============================] - 0s 3ms/step - loss: 0.3627 - accuracy: 0.9558 - val_loss: 2.6471 - val_accuracy: 0.8820\n",
            "Epoch 34/50\n",
            "141/141 [==============================] - 0s 3ms/step - loss: 0.4533 - accuracy: 0.9447 - val_loss: 2.8891 - val_accuracy: 0.8560\n",
            "Epoch 35/50\n",
            "141/141 [==============================] - 0s 3ms/step - loss: 0.6526 - accuracy: 0.9271 - val_loss: 3.3157 - val_accuracy: 0.8667\n",
            "Epoch 36/50\n",
            "141/141 [==============================] - 0s 3ms/step - loss: 0.5977 - accuracy: 0.9382 - val_loss: 2.6662 - val_accuracy: 0.8453\n",
            "Epoch 37/50\n",
            "141/141 [==============================] - 0s 3ms/step - loss: 0.3579 - accuracy: 0.9493 - val_loss: 2.3825 - val_accuracy: 0.8840\n",
            "Epoch 38/50\n",
            "141/141 [==============================] - 0s 3ms/step - loss: 0.2776 - accuracy: 0.9615 - val_loss: 3.6717 - val_accuracy: 0.8573\n",
            "Epoch 39/50\n",
            "141/141 [==============================] - 0s 3ms/step - loss: 0.3989 - accuracy: 0.9564 - val_loss: 2.6735 - val_accuracy: 0.8507\n",
            "Epoch 40/50\n",
            "141/141 [==============================] - 1s 4ms/step - loss: 0.5934 - accuracy: 0.9358 - val_loss: 3.1101 - val_accuracy: 0.8227\n",
            "Epoch 41/50\n",
            "141/141 [==============================] - 1s 4ms/step - loss: 0.4494 - accuracy: 0.9451 - val_loss: 2.7779 - val_accuracy: 0.8420\n",
            "Epoch 42/50\n",
            "141/141 [==============================] - 1s 4ms/step - loss: 0.3270 - accuracy: 0.9573 - val_loss: 2.2777 - val_accuracy: 0.8727\n",
            "Epoch 43/50\n",
            "141/141 [==============================] - 1s 4ms/step - loss: 0.3193 - accuracy: 0.9555 - val_loss: 2.2161 - val_accuracy: 0.8620\n",
            "Epoch 44/50\n",
            "141/141 [==============================] - 1s 5ms/step - loss: 0.4352 - accuracy: 0.9427 - val_loss: 2.3528 - val_accuracy: 0.8640\n",
            "Epoch 45/50\n",
            "141/141 [==============================] - 1s 5ms/step - loss: 0.2233 - accuracy: 0.9667 - val_loss: 1.9155 - val_accuracy: 0.8853\n",
            "Epoch 46/50\n",
            "141/141 [==============================] - 0s 3ms/step - loss: 0.1552 - accuracy: 0.9720 - val_loss: 2.0744 - val_accuracy: 0.8613\n",
            "Epoch 47/50\n",
            "141/141 [==============================] - 0s 3ms/step - loss: 0.1132 - accuracy: 0.9776 - val_loss: 2.0108 - val_accuracy: 0.8860\n",
            "Epoch 48/50\n",
            "141/141 [==============================] - 0s 3ms/step - loss: 0.2297 - accuracy: 0.9658 - val_loss: 2.4178 - val_accuracy: 0.8840\n",
            "Epoch 49/50\n",
            "141/141 [==============================] - 0s 3ms/step - loss: 0.3121 - accuracy: 0.9567 - val_loss: 2.3865 - val_accuracy: 0.8553\n",
            "Epoch 50/50\n",
            "141/141 [==============================] - 0s 3ms/step - loss: 0.4211 - accuracy: 0.9522 - val_loss: 2.4405 - val_accuracy: 0.8787\n"
          ]
        }
      ],
      "source": [
        "rnn_model.compile(optimizer='adam', loss='binary_crossentropy', metrics=['accuracy'])\n",
        "history_rnn = rnn_model.fit(X_train, y_train, epochs=50, batch_size=32, validation_data=(X_test, y_test))"
      ]
    },
    {
      "cell_type": "code",
      "execution_count": null,
      "metadata": {
        "colab": {
          "base_uri": "https://localhost:8080/"
        },
        "id": "YBUJE4Cmatto",
        "outputId": "b5902906-754b-40cb-98eb-8a388fc81088"
      },
      "outputs": [
        {
          "output_type": "stream",
          "name": "stdout",
          "text": [
            "47/47 [==============================] - 0s 2ms/step - loss: 2.4405 - accuracy: 0.8787\n",
            "Test Loss: 2.4404776096343994, Test Accuracy: 0.8786666393280029\n"
          ]
        }
      ],
      "source": [
        "loss2, accuracy_rnn = rnn_model.evaluate(X_test, y_test)\n",
        "print(f'Test Loss: {loss2}, Test Accuracy: {accuracy_rnn}')"
      ]
    },
    {
      "cell_type": "code",
      "execution_count": null,
      "metadata": {
        "colab": {
          "base_uri": "https://localhost:8080/"
        },
        "id": "hkWj2pScznG9",
        "outputId": "7f0249c6-1e20-4d72-d4da-46fa4989ce12"
      },
      "outputs": [
        {
          "output_type": "stream",
          "name": "stdout",
          "text": [
            "47/47 [==============================] - 0s 2ms/step\n"
          ]
        }
      ],
      "source": [
        "predictions2 = rnn_model.predict(X_test)"
      ]
    },
    {
      "cell_type": "code",
      "execution_count": null,
      "metadata": {
        "id": "oxLt7toUzoMM"
      },
      "outputs": [],
      "source": [
        "binary_predictions2 = (predictions2 > 0.5).astype('int32')"
      ]
    },
    {
      "cell_type": "code",
      "execution_count": null,
      "metadata": {
        "colab": {
          "base_uri": "https://localhost:8080/"
        },
        "id": "-Behju-onY3n",
        "outputId": "c39cdd1e-577a-4219-f6f9-0f96f4026258"
      },
      "outputs": [
        {
          "output_type": "stream",
          "name": "stdout",
          "text": [
            "Precision: 0.6645962732919255\n"
          ]
        }
      ],
      "source": [
        "precision_rnn = precision_score(y_test, binary_predictions2)\n",
        "print(\"Precision:\", precision_rnn)"
      ]
    },
    {
      "cell_type": "code",
      "execution_count": null,
      "metadata": {
        "colab": {
          "base_uri": "https://localhost:8080/"
        },
        "id": "T8jKLNr-FiG_",
        "outputId": "d6b2c7f0-63f3-4d3d-a58a-693c06cc1078"
      },
      "outputs": [
        {
          "output_type": "stream",
          "name": "stdout",
          "text": [
            "F1 Score: 0.7016393442622951\n"
          ]
        }
      ],
      "source": [
        "f1_score_rnn = f1_score(y_test, binary_predictions2)\n",
        "print(\"F1 Score:\", f1_score_rnn)"
      ]
    },
    {
      "cell_type": "code",
      "execution_count": null,
      "metadata": {
        "colab": {
          "base_uri": "https://localhost:8080/"
        },
        "id": "3lOrS9hYFexo",
        "outputId": "4a9cc190-600b-47dc-d362-a5b603504896"
      },
      "outputs": [
        {
          "output_type": "stream",
          "name": "stdout",
          "text": [
            "Recall: 0.7430555555555556\n"
          ]
        }
      ],
      "source": [
        "recall_rnn = recall_score(y_test, binary_predictions2)\n",
        "print(\"Recall:\", recall_rnn)"
      ]
    },
    {
      "cell_type": "code",
      "execution_count": null,
      "metadata": {
        "colab": {
          "base_uri": "https://localhost:8080/",
          "height": 472
        },
        "id": "owYKUfaTp2-9",
        "outputId": "32e8a0a9-f99c-4de3-c60c-393f99a2e4b0"
      },
      "outputs": [
        {
          "output_type": "display_data",
          "data": {
            "text/plain": [
              "<Figure size 640x480 with 1 Axes>"
            ],
            "image/png": "[encoded data removed]"
          },
          "metadata": {}
        }
      ],
      "source": [
        "plt.plot(history_googlenet.history['loss'], label='Training Loss')\n",
        "plt.plot(history_googlenet.history['val_loss'], label='Validation Loss')\n",
        "plt.xlabel('Epoch')\n",
        "plt.ylabel('Loss')\n",
        "plt.title('Training and Validation Loss')\n",
        "plt.legend()\n",
        "plt.show()\n"
      ]
    },
    {
      "cell_type": "markdown",
      "metadata": {
        "id": "dN_Rv5O_2_Gr"
      },
      "source": [
        "# **Performance Analysis**"
      ]
    },
    {
      "cell_type": "code",
      "execution_count": null,
      "metadata": {
        "id": "g-UlGDXsAju_"
      },
      "outputs": [],
      "source": [
        "all_metrics = [\n",
        "    [accuracy_alexnet, precision_alexnet, recall_alexnet, f1_score_alexnet],\n",
        "    [accuracy_densenet, precision_densenet, recall_densenet, f1_score_densenet],\n",
        "    [accuracy_googlenet, precision_googlenet, recall_googlenet, f1_score_googlenet],\n",
        "    [accuracy_vgg, precision_vgg, recall_vgg, f1_score_vgg],\n",
        "    [accuracy_resnet, precision_resnet, recall_resnet, f1_score_resnet],\n",
        "    [accuracy_rnn, precision_rnn, recall_rnn, f1_score_rnn]\n",
        "]"
      ]
    },
    {
      "cell_type": "code",
      "execution_count": null,
      "metadata": {
        "id": "gzYp_IA_AlIw"
      },
      "outputs": [],
      "source": [
        "model_names = ['Alexnet', 'Densenet', 'Googlenet', 'VGG', 'Resnet', 'RNN']"
      ]
    },
    {
      "cell_type": "code",
      "execution_count": null,
      "metadata": {
        "id": "BBrn46vLAmsI"
      },
      "outputs": [],
      "source": [
        "metrics_names = ['Accuracy', 'Precision', 'Recall', 'F1-score']"
      ]
    },
    {
      "cell_type": "code",
      "execution_count": null,
      "metadata": {
        "id": "kePq7E0wAn_4"
      },
      "outputs": [],
      "source": [
        "num_models = len(all_metrics)"
      ]
    },
    {
      "cell_type": "code",
      "execution_count": null,
      "metadata": {
        "id": "ZcQMigxlApQB"
      },
      "outputs": [],
      "source": [
        "bar_width = 0.10\n",
        "index = range(len(metrics_names))"
      ]
    },
    {
      "cell_type": "code",
      "execution_count": null,
      "metadata": {
        "colab": {
          "base_uri": "https://localhost:8080/",
          "height": 507
        },
        "id": "-A62pI-gAqla",
        "outputId": "4ef60901-181a-435c-b739-f2b12fac8046"
      },
      "outputs": [
        {
          "output_type": "display_data",
          "data": {
            "text/plain": [
              "<Figure size 800x500 with 1 Axes>"
            ],
            "image/png": "[encoded data removed]"
          },
          "metadata": {}
        }
      ],
      "source": [
        "fig, ax = plt.subplots(figsize=(8, 5))\n",
        "\n",
        "for i in range(num_models):\n",
        "    ax.bar([p + i * bar_width for p in index], all_metrics[i], bar_width, label= model_names[i]+ ' Model ')\n",
        "\n",
        "ax.set_xlabel('Metrics')\n",
        "ax.set_ylabel('Scores')\n",
        "ax.set_title('Performance Metrics by Models')\n",
        "ax.set_xticks([p + bar_width * (num_models - 1) / 2 for p in index])\n",
        "ax.set_xticklabels(metrics_names)\n",
        "ax.legend(loc='lower right')\n",
        "plt.tight_layout()\n",
        "plt.show()"
      ]
    }
  ],
  "metadata": {
    "colab": {
      "provenance": []
    },
    "kernelspec": {
      "display_name": "Python 3",
      "name": "python3"
    },
    "language_info": {
      "name": "python"
    }
  },
  "nbformat": 4,
  "nbformat_minor": 0
}